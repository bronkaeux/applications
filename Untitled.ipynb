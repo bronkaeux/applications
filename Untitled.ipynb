{
 "cells": [
  {
   "cell_type": "code",
   "execution_count": 1,
   "id": "0a16742e",
   "metadata": {
    "ExecuteTime": {
     "end_time": "2024-05-02T10:44:32.263590Z",
     "start_time": "2024-05-02T10:44:31.247672Z"
    }
   },
   "outputs": [],
   "source": [
    "import pandas as pd\n",
    "import numpy as np\n",
    "import re\n",
    "from datetime import datetime"
   ]
  },
  {
   "cell_type": "code",
   "execution_count": 2,
   "id": "a1ae9d4a",
   "metadata": {
    "ExecuteTime": {
     "end_time": "2024-05-02T10:44:33.646049Z",
     "start_time": "2024-05-02T10:44:32.974976Z"
    }
   },
   "outputs": [],
   "source": [
    "# dictionaries downloading\n",
    "df = pd.read_excel(\"appl_register.xlsx\", sheet_name=\"data\")\n",
    "managers = pd.read_excel(\"dictionary.xlsx\", sheet_name=\"managers\")\n",
    "units = pd.read_excel(\"dictionary.xlsx\", sheet_name=\"units\")\n",
    "unload_addresses = pd.read_excel(\"dictionary.xlsx\", sheet_name=\"unload_addresses\")"
   ]
  },
  {
   "cell_type": "code",
   "execution_count": 3,
   "id": "66eccb33",
   "metadata": {
    "ExecuteTime": {
     "end_time": "2024-05-02T10:44:35.007573Z",
     "start_time": "2024-05-02T10:44:34.973060Z"
    }
   },
   "outputs": [
    {
     "data": {
      "text/html": [
       "<div>\n",
       "<style scoped>\n",
       "    .dataframe tbody tr th:only-of-type {\n",
       "        vertical-align: middle;\n",
       "    }\n",
       "\n",
       "    .dataframe tbody tr th {\n",
       "        vertical-align: top;\n",
       "    }\n",
       "\n",
       "    .dataframe thead th {\n",
       "        text-align: right;\n",
       "    }\n",
       "</style>\n",
       "<table border=\"1\" class=\"dataframe\">\n",
       "  <thead>\n",
       "    <tr style=\"text-align: right;\">\n",
       "      <th></th>\n",
       "      <th>Менеджер</th>\n",
       "      <th>Вид доставки</th>\n",
       "      <th>Дата</th>\n",
       "      <th>Товар</th>\n",
       "      <th>Примечание к Товару</th>\n",
       "      <th>Кол-во</th>\n",
       "      <th>Ед.изм.</th>\n",
       "      <th>Машина/Водитель</th>\n",
       "      <th>Продавец</th>\n",
       "      <th>Откуда</th>\n",
       "      <th>Покупатель</th>\n",
       "      <th>Грузополучатель</th>\n",
       "      <th>Адрес грузополучателя (юрид)</th>\n",
       "      <th>Адрес пункта разгрузки</th>\n",
       "      <th>Контакт гп</th>\n",
       "      <th>Время приемки</th>\n",
       "      <th>Примечание Иное</th>\n",
       "    </tr>\n",
       "  </thead>\n",
       "  <tbody>\n",
       "    <tr>\n",
       "      <th>0</th>\n",
       "      <td>Игорь Хабаров</td>\n",
       "      <td>доставка</td>\n",
       "      <td>26.04.2024</td>\n",
       "      <td>ЦЕМ I 42,5н</td>\n",
       "      <td>Сертификаты!</td>\n",
       "      <td>35</td>\n",
       "      <td>т</td>\n",
       "      <td>У162ХК750 MAN, Х240ВА797 КАМАЗ, А215УХ750 МAN</td>\n",
       "      <td>ООО \"Спарта\"</td>\n",
       "      <td>Солнечногорска</td>\n",
       "      <td>ООО \"Бетон Строй»</td>\n",
       "      <td>ООО \"Бетон Строй»</td>\n",
       "      <td>249850, Калужская обл., Дзержинский р-н, д. Об...</td>\n",
       "      <td>город Солнечногорск, ул. Промышленная 1б</td>\n",
       "      <td>+79232208000, +74959242828</td>\n",
       "      <td>с 9.00 до 20.00 Круглосуточно</td>\n",
       "      <td>оплата 250</td>\n",
       "    </tr>\n",
       "  </tbody>\n",
       "</table>\n",
       "</div>"
      ],
      "text/plain": [
       "        Менеджер Вид доставки        Дата        Товар Примечание к Товару  \\\n",
       "0  Игорь Хабаров     доставка  26.04.2024  ЦЕМ I 42,5н        Сертификаты!   \n",
       "\n",
       "   Кол-во Ед.изм.                                Машина/Водитель  \\\n",
       "0      35       т  У162ХК750 MAN, Х240ВА797 КАМАЗ, А215УХ750 МAN   \n",
       "\n",
       "       Продавец            Откуда         Покупатель    Грузополучатель  \\\n",
       "0  ООО \"Спарта\"  Солнечногорска    ООО \"Бетон Строй»  ООО \"Бетон Строй»   \n",
       "\n",
       "                        Адрес грузополучателя (юрид)  \\\n",
       "0  249850, Калужская обл., Дзержинский р-н, д. Об...   \n",
       "\n",
       "                      Адрес пункта разгрузки                  Контакт гп  \\\n",
       "0  город Солнечногорск, ул. Промышленная 1б   +79232208000, +74959242828   \n",
       "\n",
       "                   Время приемки Примечание Иное  \n",
       "0  с 9.00 до 20.00 Круглосуточно      оплата 250  "
      ]
     },
     "execution_count": 3,
     "metadata": {},
     "output_type": "execute_result"
    }
   ],
   "source": [
    "df"
   ]
  },
  {
   "cell_type": "code",
   "execution_count": 4,
   "id": "c131c0d8",
   "metadata": {
    "ExecuteTime": {
     "end_time": "2024-05-02T10:45:45.242628Z",
     "start_time": "2024-05-02T10:45:33.265236Z"
    }
   },
   "outputs": [
    {
     "name": "stdout",
     "output_type": "stream",
     "text": [
      "Введите заявку\\nИГО:\\nЗаявка на доставку\\n1. Дата отгрузки на 26.04\\n2. Марка цемента ЦЕМ I 42,5н\\nСертификаты!\\n3. Количество 35 тонн \\n4. Продажа от ООО \"Спарта\"\\n5. С Солнечногорска  \\n6. Покупатель ООО \"Бетон Строй»\\n7. Грузополучатель ООО \"Бетон Строй»\\n8. Адрес город Солнечногорск, ул. Промышленная 1б \\n+79232208000\\n+74959242828\\nДебет оплата 250\\nУ162ХК750 MAN\\nХ240ВА797 КАМАЗ\\nА215УХ750 МAN\\n8. Адрес грузополучателя (юрид): 249850, Калужская обл., Дзержинский р-н, д. Обуховской, д 1Б. \\n8. Время приёмки: с 9.00 до 20.00 Круглосуточно\\n\n"
     ]
    }
   ],
   "source": [
    "appl = str(input('Введите заявку'))"
   ]
  },
  {
   "cell_type": "code",
   "execution_count": 5,
   "id": "29e8d5fd",
   "metadata": {
    "ExecuteTime": {
     "end_time": "2024-05-02T10:45:48.164642Z",
     "start_time": "2024-05-02T10:45:48.154638Z"
    }
   },
   "outputs": [
    {
     "data": {
      "text/plain": [
       "'\\\\nИГО:\\\\nЗаявка на доставку\\\\n1. Дата отгрузки на 26.04\\\\n2. Марка цемента ЦЕМ I 42,5н\\\\nСертификаты!\\\\n3. Количество 35 тонн \\\\n4. Продажа от ООО \"Спарта\"\\\\n5. С Солнечногорска  \\\\n6. Покупатель ООО \"Бетон Строй»\\\\n7. Грузополучатель ООО \"Бетон Строй»\\\\n8. Адрес город Солнечногорск, ул. Промышленная 1б \\\\n+79232208000\\\\n+74959242828\\\\nДебет оплата 250\\\\nУ162ХК750 MAN\\\\nХ240ВА797 КАМАЗ\\\\nА215УХ750 МAN\\\\n8. Адрес грузополучателя (юрид): 249850, Калужская обл., Дзержинский р-н, д. Обуховской, д 1Б. \\\\n8. Время приёмки: с 9.00 до 20.00 Круглосуточно\\\\n'"
      ]
     },
     "execution_count": 5,
     "metadata": {},
     "output_type": "execute_result"
    }
   ],
   "source": [
    "appl"
   ]
  },
  {
   "cell_type": "code",
   "execution_count": 6,
   "id": "b1b6b72e",
   "metadata": {
    "ExecuteTime": {
     "end_time": "2024-05-02T10:45:49.442061Z",
     "start_time": "2024-05-02T10:45:49.381983Z"
    }
   },
   "outputs": [],
   "source": [
    "# processing of application data\n",
    "# extracting dates from application\n",
    "date_pattern = r'\\b\\d{2}\\.(?:0[1-9]|1[0-2])(?:\\.\\d{2}(?:\\d{2})?)?\\b'\n",
    "dates = re.findall(date_pattern, appl)"
   ]
  },
  {
   "cell_type": "code",
   "execution_count": 7,
   "id": "11b2d3ba",
   "metadata": {
    "ExecuteTime": {
     "end_time": "2024-05-02T10:45:50.233317Z",
     "start_time": "2024-05-02T10:45:50.220367Z"
    }
   },
   "outputs": [
    {
     "data": {
      "text/plain": [
       "['26.04']"
      ]
     },
     "execution_count": 7,
     "metadata": {},
     "output_type": "execute_result"
    }
   ],
   "source": [
    "dates"
   ]
  },
  {
   "cell_type": "code",
   "execution_count": 8,
   "id": "6db80069",
   "metadata": {
    "ExecuteTime": {
     "end_time": "2024-05-02T10:45:50.948844Z",
     "start_time": "2024-05-02T10:45:50.926521Z"
    }
   },
   "outputs": [],
   "source": [
    "def convert_to_full_year(date_str):\n",
    "    \"\"\"\n",
    "    Function for formatting the date into the specified format\n",
    "    \"\"\"\n",
    "    current_year = datetime.now().year\n",
    "    parts = date_str.split('.')\n",
    "\n",
    "    try:\n",
    "        if len(parts) == 2:\n",
    "            date_str += f\".{current_year}\"\n",
    "\n",
    "        datetime_obj = datetime.strptime(date_str, '%d.%m.%Y')\n",
    "    except ValueError:\n",
    "        try:\n",
    "            datetime_obj = datetime.strptime(date_str, '%d.%m.%y')\n",
    "        except ValueError:\n",
    "\n",
    "            raise ValueError(\"Неподдерживаемый формат даты\")\n",
    "\n",
    "    return datetime_obj.strftime('%d.%m.%Y')"
   ]
  },
  {
   "cell_type": "code",
   "execution_count": 9,
   "id": "308a88e0",
   "metadata": {
    "ExecuteTime": {
     "end_time": "2024-05-02T10:45:51.448804Z",
     "start_time": "2024-05-02T10:45:51.435802Z"
    }
   },
   "outputs": [],
   "source": [
    "# assigning a variable with a date\n",
    "convert_date = convert_to_full_year(dates[0])"
   ]
  },
  {
   "cell_type": "code",
   "execution_count": 10,
   "id": "c26f32d1",
   "metadata": {
    "ExecuteTime": {
     "end_time": "2024-05-02T10:45:51.949473Z",
     "start_time": "2024-05-02T10:45:51.932973Z"
    }
   },
   "outputs": [
    {
     "data": {
      "text/plain": [
       "'26.04.2024'"
      ]
     },
     "execution_count": 10,
     "metadata": {},
     "output_type": "execute_result"
    }
   ],
   "source": [
    "convert_date"
   ]
  },
  {
   "cell_type": "code",
   "execution_count": 11,
   "id": "11ea7011",
   "metadata": {
    "ExecuteTime": {
     "end_time": "2024-05-02T10:45:52.371951Z",
     "start_time": "2024-05-02T10:45:52.354682Z"
    }
   },
   "outputs": [],
   "source": [
    "def find_manager(text, managers_df):\n",
    "    \"\"\"\n",
    "    Function for getting the manager's name by login from text\n",
    "    \"\"\"\n",
    "    for index, row in managers_df.iterrows():\n",
    "        login = row['login']\n",
    "        manager = row['manager']\n",
    "\n",
    "        if login.lower().replace(' ', '') in text.lower().replace(' ', ''):\n",
    "            return manager\n",
    "    return np.NAN"
   ]
  },
  {
   "cell_type": "code",
   "execution_count": 12,
   "id": "5b70a28f",
   "metadata": {
    "ExecuteTime": {
     "end_time": "2024-05-02T10:45:52.808179Z",
     "start_time": "2024-05-02T10:45:52.787157Z"
    }
   },
   "outputs": [],
   "source": [
    "# assigning a variable with the manager's name\n",
    "manager_found = find_manager(appl, managers)"
   ]
  },
  {
   "cell_type": "code",
   "execution_count": 13,
   "id": "13ee1d9a",
   "metadata": {
    "ExecuteTime": {
     "end_time": "2024-05-02T10:45:53.213625Z",
     "start_time": "2024-05-02T10:45:53.202387Z"
    }
   },
   "outputs": [
    {
     "data": {
      "text/plain": [
       "'Игорь Хабаров'"
      ]
     },
     "execution_count": 13,
     "metadata": {},
     "output_type": "execute_result"
    }
   ],
   "source": [
    "manager_found"
   ]
  },
  {
   "cell_type": "code",
   "execution_count": 14,
   "id": "33c460b1",
   "metadata": {
    "ExecuteTime": {
     "end_time": "2024-05-02T10:45:53.648958Z",
     "start_time": "2024-05-02T10:45:53.630885Z"
    }
   },
   "outputs": [],
   "source": [
    "def delivery_type(text):\n",
    "    \"\"\"\n",
    "    Function for determining the type of delivery\n",
    "    \"\"\"\n",
    "    if \"самовывоз\" in text.lower():\n",
    "        return \"самовывоз\"\n",
    "    return \"доставка\""
   ]
  },
  {
   "cell_type": "code",
   "execution_count": 15,
   "id": "9a339948",
   "metadata": {
    "ExecuteTime": {
     "end_time": "2024-05-02T10:45:54.084763Z",
     "start_time": "2024-05-02T10:45:54.078691Z"
    }
   },
   "outputs": [],
   "source": [
    "# assigning a variable with the delivery's type\n",
    "delivery_found = delivery_type(appl)"
   ]
  },
  {
   "cell_type": "markdown",
   "id": "60397076",
   "metadata": {},
   "source": [
    "# HERE"
   ]
  },
  {
   "cell_type": "code",
   "execution_count": 16,
   "id": "9aef084d",
   "metadata": {
    "ExecuteTime": {
     "end_time": "2024-05-02T10:45:55.146393Z",
     "start_time": "2024-05-02T10:45:55.134330Z"
    }
   },
   "outputs": [],
   "source": [
    "def find_product(text):\n",
    "    \"\"\"\n",
    "    Function for determining the type of product\n",
    "    \"\"\"\n",
    "    marca_match = re.search(r'(?i)Марка(:)?\\s*(цемента)?\\s*(.*?)\\\\n', text)\n",
    "    marca_value = marca_match.group(3) if marca_match else np.NAN\n",
    "\n",
    "    return marca_value"
   ]
  },
  {
   "cell_type": "code",
   "execution_count": 17,
   "id": "81c4b802",
   "metadata": {
    "ExecuteTime": {
     "end_time": "2024-05-02T10:45:55.600210Z",
     "start_time": "2024-05-02T10:45:55.590084Z"
    }
   },
   "outputs": [],
   "source": [
    "# assigning a variable with the product's type\n",
    "product_found = find_product(appl)"
   ]
  },
  {
   "cell_type": "code",
   "execution_count": 18,
   "id": "3fb92bd6",
   "metadata": {
    "ExecuteTime": {
     "end_time": "2024-05-02T10:45:56.022341Z",
     "start_time": "2024-05-02T10:45:56.013818Z"
    }
   },
   "outputs": [
    {
     "data": {
      "text/plain": [
       "'ЦЕМ I 42,5н'"
      ]
     },
     "execution_count": 18,
     "metadata": {},
     "output_type": "execute_result"
    }
   ],
   "source": [
    "product_found"
   ]
  },
  {
   "cell_type": "markdown",
   "id": "b77e54de",
   "metadata": {},
   "source": [
    "# HERE"
   ]
  },
  {
   "cell_type": "code",
   "execution_count": 19,
   "id": "71521c12",
   "metadata": {
    "ExecuteTime": {
     "end_time": "2024-05-02T10:45:56.633455Z",
     "start_time": "2024-05-02T10:45:56.622114Z"
    }
   },
   "outputs": [],
   "source": [
    "def find_product_notice(text):\n",
    "    \"\"\"\n",
    "    Function for determining the notice for the product\n",
    "    \"\"\"\n",
    "  \n",
    "    intermediate_match = re.search(r'(?i)Марка.*?\\\\n(.*?)\\\\n\\d', text, re.DOTALL)\n",
    "    intermediate_value = intermediate_match.group(1) if intermediate_match else np.NAN\n",
    "    \n",
    "    if re.match(r'^[^0-9.].*', intermediate_value):\n",
    "        return intermediate_value\n",
    "    else:\n",
    "        np.NAN"
   ]
  },
  {
   "cell_type": "code",
   "execution_count": 20,
   "id": "7b4fbe7e",
   "metadata": {
    "ExecuteTime": {
     "end_time": "2024-05-02T10:45:56.851469Z",
     "start_time": "2024-05-02T10:45:56.840926Z"
    }
   },
   "outputs": [
    {
     "data": {
      "text/plain": [
       "'\\\\nИГО:\\\\nЗаявка на доставку\\\\n1. Дата отгрузки на 26.04\\\\n2. Марка цемента ЦЕМ I 42,5н\\\\nСертификаты!\\\\n3. Количество 35 тонн \\\\n4. Продажа от ООО \"Спарта\"\\\\n5. С Солнечногорска  \\\\n6. Покупатель ООО \"Бетон Строй»\\\\n7. Грузополучатель ООО \"Бетон Строй»\\\\n8. Адрес город Солнечногорск, ул. Промышленная 1б \\\\n+79232208000\\\\n+74959242828\\\\nДебет оплата 250\\\\nУ162ХК750 MAN\\\\nХ240ВА797 КАМАЗ\\\\nА215УХ750 МAN\\\\n8. Адрес грузополучателя (юрид): 249850, Калужская обл., Дзержинский р-н, д. Обуховской, д 1Б. \\\\n8. Время приёмки: с 9.00 до 20.00 Круглосуточно\\\\n'"
      ]
     },
     "execution_count": 20,
     "metadata": {},
     "output_type": "execute_result"
    }
   ],
   "source": [
    "appl"
   ]
  },
  {
   "cell_type": "code",
   "execution_count": 21,
   "id": "888bf14b",
   "metadata": {
    "ExecuteTime": {
     "end_time": "2024-05-02T10:45:57.196345Z",
     "start_time": "2024-05-02T10:45:57.192332Z"
    }
   },
   "outputs": [],
   "source": [
    "# assigning a variable with the product's notice\n",
    "product_notice_found = find_product_notice(appl)"
   ]
  },
  {
   "cell_type": "code",
   "execution_count": 22,
   "id": "3eab23ed",
   "metadata": {
    "ExecuteTime": {
     "end_time": "2024-05-02T10:45:58.175361Z",
     "start_time": "2024-05-02T10:45:58.164365Z"
    }
   },
   "outputs": [
    {
     "data": {
      "text/plain": [
       "'Сертификаты!'"
      ]
     },
     "execution_count": 22,
     "metadata": {},
     "output_type": "execute_result"
    }
   ],
   "source": [
    "product_notice_found"
   ]
  },
  {
   "cell_type": "code",
   "execution_count": 23,
   "id": "8c2fe698",
   "metadata": {
    "ExecuteTime": {
     "end_time": "2024-05-02T10:45:58.549866Z",
     "start_time": "2024-05-02T10:45:58.538872Z"
    }
   },
   "outputs": [],
   "source": [
    "def find_quantity(text):\n",
    "    \"\"\"\n",
    "    Function for determining the product's quantity\n",
    "    \"\"\"\n",
    "    quantity_match = re.search(r'(?i)кол(\\s*-\\s*|ичест)?во\\s*(:)?\\s*(\\d+)', text)\n",
    "    quantity = int(quantity_match.group(3)) if quantity_match else np.NAN\n",
    "\n",
    "    return quantity"
   ]
  },
  {
   "cell_type": "code",
   "execution_count": 24,
   "id": "3de94924",
   "metadata": {
    "ExecuteTime": {
     "end_time": "2024-05-02T10:45:58.907100Z",
     "start_time": "2024-05-02T10:45:58.900107Z"
    }
   },
   "outputs": [],
   "source": [
    "# assigning a variable with the product's quantity\n",
    "quantity_found = find_quantity(appl)"
   ]
  },
  {
   "cell_type": "code",
   "execution_count": 25,
   "id": "81328231",
   "metadata": {
    "ExecuteTime": {
     "end_time": "2024-05-02T10:45:59.095400Z",
     "start_time": "2024-05-02T10:45:59.074725Z"
    }
   },
   "outputs": [
    {
     "data": {
      "text/plain": [
       "35"
      ]
     },
     "execution_count": 25,
     "metadata": {},
     "output_type": "execute_result"
    }
   ],
   "source": [
    "quantity_found"
   ]
  },
  {
   "cell_type": "markdown",
   "id": "8156f5ab",
   "metadata": {},
   "source": [
    "# HERE"
   ]
  },
  {
   "cell_type": "code",
   "execution_count": 26,
   "id": "fd9e7673",
   "metadata": {
    "ExecuteTime": {
     "end_time": "2024-05-02T10:46:00.078503Z",
     "start_time": "2024-05-02T10:46:00.062243Z"
    }
   },
   "outputs": [],
   "source": [
    "def find_unit_note(text):\n",
    "    \"\"\"\n",
    "    Function for determining the quantity's unit\n",
    "    \"\"\"\n",
    "    unit_match = re.search(r'(?i)кол(-|ичест)?во\\s*(:)?\\s*(\\d+)\\s*(\\D+)\\s*\\\\n\\d', text)\n",
    "    unit = unit_match.group(4).strip() if unit_match else np.NAN\n",
    "\n",
    "    return unit"
   ]
  },
  {
   "cell_type": "code",
   "execution_count": 27,
   "id": "7060813b",
   "metadata": {
    "ExecuteTime": {
     "end_time": "2024-05-02T10:46:00.360278Z",
     "start_time": "2024-05-02T10:46:00.351059Z"
    }
   },
   "outputs": [],
   "source": [
    "# assigning a variable with the quantity's unit\n",
    "unit_note_found = find_unit_note(appl)"
   ]
  },
  {
   "cell_type": "code",
   "execution_count": 28,
   "id": "516e68a3",
   "metadata": {
    "ExecuteTime": {
     "end_time": "2024-05-02T10:46:00.515487Z",
     "start_time": "2024-05-02T10:46:00.507474Z"
    }
   },
   "outputs": [
    {
     "data": {
      "text/plain": [
       "'тонн'"
      ]
     },
     "execution_count": 28,
     "metadata": {},
     "output_type": "execute_result"
    }
   ],
   "source": [
    "unit_note_found"
   ]
  },
  {
   "cell_type": "code",
   "execution_count": 29,
   "id": "c0a08ee6",
   "metadata": {
    "ExecuteTime": {
     "end_time": "2024-05-02T10:46:00.979530Z",
     "start_time": "2024-05-02T10:46:00.969530Z"
    }
   },
   "outputs": [],
   "source": [
    "# finding data in a dictionary\n",
    "unit_found = units.loc[units[units['data'] == unit_note_found].index[0], 'unit']"
   ]
  },
  {
   "cell_type": "code",
   "execution_count": 30,
   "id": "32ad43af",
   "metadata": {
    "ExecuteTime": {
     "end_time": "2024-05-02T10:46:01.290710Z",
     "start_time": "2024-05-02T10:46:01.273685Z"
    }
   },
   "outputs": [
    {
     "data": {
      "text/plain": [
       "'т'"
      ]
     },
     "execution_count": 30,
     "metadata": {},
     "output_type": "execute_result"
    }
   ],
   "source": [
    "unit_found"
   ]
  },
  {
   "cell_type": "code",
   "execution_count": 31,
   "id": "c7482b01",
   "metadata": {
    "ExecuteTime": {
     "end_time": "2024-05-02T10:46:01.540424Z",
     "start_time": "2024-05-02T10:46:01.527420Z"
    }
   },
   "outputs": [],
   "source": [
    "def find_car(text):\n",
    "    \"\"\"\n",
    "    Function for determining the car's numbers\n",
    "    \"\"\"\n",
    "    car_match = re.findall(r'(?i)[А-Я]{1}\\d{3}[А-Я]{2}\\d{3}\\s*\\w*', text)\n",
    "    cars = car_match if car_match else np.NAN\n",
    "\n",
    "    return cars"
   ]
  },
  {
   "cell_type": "code",
   "execution_count": 32,
   "id": "10b335ac",
   "metadata": {
    "ExecuteTime": {
     "end_time": "2024-05-02T10:46:01.710636Z",
     "start_time": "2024-05-02T10:46:01.700088Z"
    }
   },
   "outputs": [],
   "source": [
    "# assigning a variable with car numbers and writing them without list brackets\n",
    "cars_found = ', '.join(find_car(appl)) if find_car(appl) is not np.NAN else np.NAN"
   ]
  },
  {
   "cell_type": "code",
   "execution_count": 33,
   "id": "d0565377",
   "metadata": {
    "ExecuteTime": {
     "end_time": "2024-05-02T10:46:02.161786Z",
     "start_time": "2024-05-02T10:46:02.150790Z"
    }
   },
   "outputs": [
    {
     "data": {
      "text/plain": [
       "'У162ХК750 MAN, Х240ВА797 КАМАЗ, А215УХ750 МAN'"
      ]
     },
     "execution_count": 33,
     "metadata": {},
     "output_type": "execute_result"
    }
   ],
   "source": [
    "cars_found"
   ]
  },
  {
   "cell_type": "markdown",
   "id": "7ec3a90f",
   "metadata": {},
   "source": [
    "# HERE"
   ]
  },
  {
   "cell_type": "code",
   "execution_count": 34,
   "id": "a1fca583",
   "metadata": {
    "ExecuteTime": {
     "end_time": "2024-05-02T10:46:08.135960Z",
     "start_time": "2024-05-02T10:46:08.124960Z"
    }
   },
   "outputs": [],
   "source": [
    "def find_organization(text):\n",
    "    \"\"\"\n",
    "    Function for determining our organization's name\n",
    "    \"\"\"\n",
    "    organization_match = re.search(r'(?i)(продажа\\s+от:|(продажа)?\\s*от\\s+(клиента)?\\s*(:)?)\\s*(.+?)\\\\n', text)\n",
    "    organization = organization_match.group(5) if organization_match else np.NAN\n",
    "\n",
    "    return organization"
   ]
  },
  {
   "cell_type": "code",
   "execution_count": 35,
   "id": "86ff4d18",
   "metadata": {
    "ExecuteTime": {
     "end_time": "2024-05-02T10:46:08.433159Z",
     "start_time": "2024-05-02T10:46:08.422234Z"
    }
   },
   "outputs": [],
   "source": [
    "# assigning a variable with our organization's name\n",
    "organization_found = find_organization(appl)"
   ]
  },
  {
   "cell_type": "code",
   "execution_count": 36,
   "id": "e8a5a3a3",
   "metadata": {
    "ExecuteTime": {
     "end_time": "2024-05-02T10:46:08.729629Z",
     "start_time": "2024-05-02T10:46:08.716641Z"
    }
   },
   "outputs": [
    {
     "data": {
      "text/plain": [
       "'ООО \"Спарта\"'"
      ]
     },
     "execution_count": 36,
     "metadata": {},
     "output_type": "execute_result"
    }
   ],
   "source": [
    "organization_found"
   ]
  },
  {
   "cell_type": "markdown",
   "id": "b491f814",
   "metadata": {},
   "source": [
    "# HERE"
   ]
  },
  {
   "cell_type": "code",
   "execution_count": 37,
   "id": "dd151393",
   "metadata": {
    "ExecuteTime": {
     "end_time": "2024-05-02T10:46:09.306126Z",
     "start_time": "2024-05-02T10:46:09.300115Z"
    }
   },
   "outputs": [],
   "source": [
    "def find_transshipment(text):\n",
    "    \"\"\"\n",
    "    Function for determining the transshipment's point\n",
    "    \"\"\"\n",
    "    transshipment_match = \\\n",
    "        re.search(r'(?i)\\d+\\.\\s*(С\\s+(перевалки)?\\s*|Завод\\s*(отгрузки)?\\s*(:)?|Перевалка\\s*(:)?)\\s*(.+?)\\\\n',\n",
    "                  text)\n",
    "    transshipment = transshipment_match.group(6) if transshipment_match else np.NAN\n",
    "\n",
    "    return transshipment"
   ]
  },
  {
   "cell_type": "code",
   "execution_count": 38,
   "id": "0983487d",
   "metadata": {
    "ExecuteTime": {
     "end_time": "2024-05-02T10:46:09.524572Z",
     "start_time": "2024-05-02T10:46:09.508527Z"
    }
   },
   "outputs": [],
   "source": [
    "# assigning a variable with the transshipment's point\n",
    "transshipment_found = find_transshipment(appl)"
   ]
  },
  {
   "cell_type": "code",
   "execution_count": 39,
   "id": "4b4b757a",
   "metadata": {
    "ExecuteTime": {
     "end_time": "2024-05-02T10:46:09.725148Z",
     "start_time": "2024-05-02T10:46:09.710750Z"
    }
   },
   "outputs": [
    {
     "data": {
      "text/plain": [
       "'Солнечногорска  '"
      ]
     },
     "execution_count": 39,
     "metadata": {},
     "output_type": "execute_result"
    }
   ],
   "source": [
    "transshipment_found"
   ]
  },
  {
   "cell_type": "markdown",
   "id": "fe41712c",
   "metadata": {},
   "source": [
    "# HERE"
   ]
  },
  {
   "cell_type": "code",
   "execution_count": 40,
   "id": "a408d728",
   "metadata": {
    "ExecuteTime": {
     "end_time": "2024-05-02T10:46:10.133754Z",
     "start_time": "2024-05-02T10:46:10.123338Z"
    }
   },
   "outputs": [],
   "source": [
    "def find_purchaser(text):\n",
    "    \"\"\"\n",
    "    Function for determining the purchaser's name\n",
    "    \"\"\"\n",
    "    purchaser_match = \\\n",
    "        re.search(r'(?i)\\d+\\.\\s*(Покупатель\\s*(груза)?\\s*(:)?)\\s*(.+?)\\\\n',\n",
    "                  text)\n",
    "    purchaser = purchaser_match.group(4) if purchaser_match else np.NAN\n",
    "\n",
    "    return purchaser"
   ]
  },
  {
   "cell_type": "code",
   "execution_count": 41,
   "id": "c145366b",
   "metadata": {
    "ExecuteTime": {
     "end_time": "2024-05-02T10:46:10.321217Z",
     "start_time": "2024-05-02T10:46:10.314214Z"
    }
   },
   "outputs": [],
   "source": [
    "# assigning a variable with the purchaser's name\n",
    "purchaser_found = find_purchaser(appl)"
   ]
  },
  {
   "cell_type": "code",
   "execution_count": 42,
   "id": "1648f4cc",
   "metadata": {
    "ExecuteTime": {
     "end_time": "2024-05-02T10:46:10.510571Z",
     "start_time": "2024-05-02T10:46:10.492874Z"
    }
   },
   "outputs": [
    {
     "data": {
      "text/plain": [
       "'ООО \"Бетон Строй»'"
      ]
     },
     "execution_count": 42,
     "metadata": {},
     "output_type": "execute_result"
    }
   ],
   "source": [
    "purchaser_found"
   ]
  },
  {
   "cell_type": "markdown",
   "id": "143c0ff8",
   "metadata": {},
   "source": [
    "# HERE"
   ]
  },
  {
   "cell_type": "code",
   "execution_count": 43,
   "id": "7186ee49",
   "metadata": {
    "ExecuteTime": {
     "end_time": "2024-05-02T10:46:10.855691Z",
     "start_time": "2024-05-02T10:46:10.846753Z"
    }
   },
   "outputs": [],
   "source": [
    "def find_consignee(text):\n",
    "    \"\"\"\n",
    "    Function for determining the consignee's name\n",
    "    \"\"\"\n",
    "    consignee_match = \\\n",
    "        consignee_match = re.search(\n",
    "        r'(?i)\\d+\\.\\s*(?:Грузополучатель\\s*(?::)?|Грузополучатель\\s*\\(при\\s*оформлении\\s*ттн\\)\\s*(?::)?)\\s*(.+?)\\\\n',\n",
    "        text)\n",
    "    consignee = consignee_match.group(1).split(':')[-1].strip() if consignee_match else np.NAN\n",
    "\n",
    "    return consignee"
   ]
  },
  {
   "cell_type": "code",
   "execution_count": 44,
   "id": "435f78a8",
   "metadata": {
    "ExecuteTime": {
     "end_time": "2024-05-02T10:46:11.076220Z",
     "start_time": "2024-05-02T10:46:11.058511Z"
    }
   },
   "outputs": [],
   "source": [
    "# assigning a variable with the consignee's name\n",
    "consignee_found = find_consignee(appl)"
   ]
  },
  {
   "cell_type": "code",
   "execution_count": 45,
   "id": "2213f8bd",
   "metadata": {
    "ExecuteTime": {
     "end_time": "2024-05-02T10:46:11.233631Z",
     "start_time": "2024-05-02T10:46:11.227457Z"
    }
   },
   "outputs": [
    {
     "data": {
      "text/plain": [
       "'ООО \"Бетон Строй»'"
      ]
     },
     "execution_count": 45,
     "metadata": {},
     "output_type": "execute_result"
    }
   ],
   "source": [
    "consignee_found"
   ]
  },
  {
   "cell_type": "markdown",
   "id": "b6d7bc9d",
   "metadata": {},
   "source": [
    "# HERE "
   ]
  },
  {
   "cell_type": "code",
   "execution_count": 46,
   "id": "d52cd295",
   "metadata": {
    "ExecuteTime": {
     "end_time": "2024-05-02T10:46:11.581884Z",
     "start_time": "2024-05-02T10:46:11.563887Z"
    }
   },
   "outputs": [],
   "source": [
    "def find_consignee_leg_addr(text):\n",
    "    \"\"\"\n",
    "    Function for determining the legal consignee's address\n",
    "    \"\"\"\n",
    "    find_consignee_leg_addr_match = \\\n",
    "        re.search(r'(?i)\\d+\\.\\s*(Юр\\s*\\.)?\\s*(Адрес\\s*грузополучателя)\\s*(\\(юрид\\))?\\s*(:)?\\s*(.+?)\\\\n',\n",
    "                  text)\n",
    "    find_consignee_leg_addr = find_consignee_leg_addr_match.group(5) if find_consignee_leg_addr_match else np.NAN\n",
    "\n",
    "    return find_consignee_leg_addr"
   ]
  },
  {
   "cell_type": "code",
   "execution_count": 47,
   "id": "2368eb79",
   "metadata": {
    "ExecuteTime": {
     "end_time": "2024-05-02T10:46:11.751941Z",
     "start_time": "2024-05-02T10:46:11.738947Z"
    }
   },
   "outputs": [],
   "source": [
    "# assigning a variable with legal consignee's address\n",
    "consignee_leg_addr_found = find_consignee_leg_addr(appl)"
   ]
  },
  {
   "cell_type": "code",
   "execution_count": 48,
   "id": "2e7e1298",
   "metadata": {
    "ExecuteTime": {
     "end_time": "2024-05-02T10:46:11.925816Z",
     "start_time": "2024-05-02T10:46:11.911475Z"
    }
   },
   "outputs": [
    {
     "data": {
      "text/plain": [
       "'249850, Калужская обл., Дзержинский р-н, д. Обуховской, д 1Б. '"
      ]
     },
     "execution_count": 48,
     "metadata": {},
     "output_type": "execute_result"
    }
   ],
   "source": [
    "consignee_leg_addr_found"
   ]
  },
  {
   "cell_type": "code",
   "execution_count": 49,
   "id": "23dd7ba5",
   "metadata": {
    "ExecuteTime": {
     "end_time": "2024-05-02T10:46:12.083323Z",
     "start_time": "2024-05-02T10:46:12.075296Z"
    }
   },
   "outputs": [],
   "source": [
    "def find_phones(text):\n",
    "    \"\"\"\n",
    "    Function for determining the phone numbers\n",
    "    \"\"\"\n",
    "    phone_numbers = re.findall(r'\\+?\\d{1,3}[\\s-]?\\(?\\d{3}\\)?[\\s-]?\\d{2,3}[\\s-]?\\d{2}[\\s-]?\\d{2}', text)\n",
    "    phone_numbers = phone_numbers if phone_numbers else np.NAN\n",
    "\n",
    "    return phone_numbers"
   ]
  },
  {
   "cell_type": "code",
   "execution_count": 50,
   "id": "f3d91bb2",
   "metadata": {
    "ExecuteTime": {
     "end_time": "2024-05-02T10:46:12.285224Z",
     "start_time": "2024-05-02T10:46:12.270238Z"
    }
   },
   "outputs": [
    {
     "data": {
      "text/plain": [
       "'\\\\nИГО:\\\\nЗаявка на доставку\\\\n1. Дата отгрузки на 26.04\\\\n2. Марка цемента ЦЕМ I 42,5н\\\\nСертификаты!\\\\n3. Количество 35 тонн \\\\n4. Продажа от ООО \"Спарта\"\\\\n5. С Солнечногорска  \\\\n6. Покупатель ООО \"Бетон Строй»\\\\n7. Грузополучатель ООО \"Бетон Строй»\\\\n8. Адрес город Солнечногорск, ул. Промышленная 1б \\\\n+79232208000\\\\n+74959242828\\\\nДебет оплата 250\\\\nУ162ХК750 MAN\\\\nХ240ВА797 КАМАЗ\\\\nА215УХ750 МAN\\\\n8. Адрес грузополучателя (юрид): 249850, Калужская обл., Дзержинский р-н, д. Обуховской, д 1Б. \\\\n8. Время приёмки: с 9.00 до 20.00 Круглосуточно\\\\n'"
      ]
     },
     "execution_count": 50,
     "metadata": {},
     "output_type": "execute_result"
    }
   ],
   "source": [
    "appl"
   ]
  },
  {
   "cell_type": "code",
   "execution_count": 51,
   "id": "435406a8",
   "metadata": {
    "ExecuteTime": {
     "end_time": "2024-05-02T10:46:12.610698Z",
     "start_time": "2024-05-02T10:46:12.586699Z"
    }
   },
   "outputs": [
    {
     "data": {
      "text/plain": [
       "['+79232208000', '+74959242828']"
      ]
     },
     "execution_count": 51,
     "metadata": {},
     "output_type": "execute_result"
    }
   ],
   "source": [
    "find_phones(appl)"
   ]
  },
  {
   "cell_type": "code",
   "execution_count": 52,
   "id": "55b7b70c",
   "metadata": {
    "ExecuteTime": {
     "end_time": "2024-05-02T10:46:13.015915Z",
     "start_time": "2024-05-02T10:46:13.010796Z"
    }
   },
   "outputs": [],
   "source": [
    "# assigning a variable with phone numbers and writing them without list brackets\n",
    "phones_found = ', '.join(find_phones(appl)) if find_phones(appl) is not np.NAN else np.NAN"
   ]
  },
  {
   "cell_type": "code",
   "execution_count": 53,
   "id": "ca9ff55c",
   "metadata": {
    "ExecuteTime": {
     "end_time": "2024-05-02T10:46:13.436098Z",
     "start_time": "2024-05-02T10:46:13.416093Z"
    }
   },
   "outputs": [
    {
     "data": {
      "text/plain": [
       "'+79232208000, +74959242828'"
      ]
     },
     "execution_count": 53,
     "metadata": {},
     "output_type": "execute_result"
    }
   ],
   "source": [
    "phones_found"
   ]
  },
  {
   "cell_type": "code",
   "execution_count": 54,
   "id": "a1c6dece",
   "metadata": {
    "ExecuteTime": {
     "end_time": "2024-05-02T10:46:14.185929Z",
     "start_time": "2024-05-02T10:46:14.172932Z"
    }
   },
   "outputs": [],
   "source": [
    "def find_unl_addr(text, unload_addresses_df):\n",
    "    \"\"\"\n",
    "    Function for determining unload addresses\n",
    "    \"\"\"\n",
    "    for index, row in unload_addresses_df.iterrows():\n",
    "        pattern1 = row['pattern1']\n",
    "        pattern2 = row['pattern2']\n",
    "        address = row['address']\n",
    "\n",
    "        if pattern1.lower().replace(' ', '') and pattern2.lower().replace(' ', '') \\\n",
    "                in text.lower().replace(' ', ''):\n",
    "            return address\n",
    "    return np.NAN"
   ]
  },
  {
   "cell_type": "code",
   "execution_count": 55,
   "id": "e98a1672",
   "metadata": {
    "ExecuteTime": {
     "end_time": "2024-05-02T10:46:14.464780Z",
     "start_time": "2024-05-02T10:46:14.453791Z"
    }
   },
   "outputs": [],
   "source": [
    "# assigning a variable with unload addresses\n",
    "unl_addr_found = find_unl_addr(appl, unload_addresses)"
   ]
  },
  {
   "cell_type": "code",
   "execution_count": 56,
   "id": "32034cd2",
   "metadata": {
    "ExecuteTime": {
     "end_time": "2024-05-02T10:46:14.682421Z",
     "start_time": "2024-05-02T10:46:14.673142Z"
    }
   },
   "outputs": [
    {
     "data": {
      "text/plain": [
       "'город Солнечногорск, ул. Промышленная 1б '"
      ]
     },
     "execution_count": 56,
     "metadata": {},
     "output_type": "execute_result"
    }
   ],
   "source": [
    "unl_addr_found"
   ]
  },
  {
   "cell_type": "code",
   "execution_count": 57,
   "id": "8d654bfd",
   "metadata": {
    "ExecuteTime": {
     "end_time": "2024-05-02T10:46:14.898823Z",
     "start_time": "2024-05-02T10:46:14.889593Z"
    }
   },
   "outputs": [],
   "source": [
    "def find_time(text):\n",
    "    \"\"\"\n",
    "    Function for determining the unloading time\n",
    "    \"\"\"\n",
    "    time_match = re.search(r'(?i)(время)?\\s*при(ё|е)мк(и|а)(?::)?\\s*(.*)\\\\n', text)\n",
    "    time = time_match.group(4) if time_match else np.NAN\n",
    "\n",
    "    return time"
   ]
  },
  {
   "cell_type": "code",
   "execution_count": 58,
   "id": "526fd2be",
   "metadata": {
    "ExecuteTime": {
     "end_time": "2024-05-02T10:46:15.274711Z",
     "start_time": "2024-05-02T10:46:15.255008Z"
    }
   },
   "outputs": [],
   "source": [
    "# assigning a variable with unloading time\n",
    "accept_time_found = find_time(appl)"
   ]
  },
  {
   "cell_type": "code",
   "execution_count": 59,
   "id": "1e1d4765",
   "metadata": {
    "ExecuteTime": {
     "end_time": "2024-05-02T10:46:15.619456Z",
     "start_time": "2024-05-02T10:46:15.596775Z"
    }
   },
   "outputs": [
    {
     "data": {
      "text/plain": [
       "'с 9.00 до 20.00 Круглосуточно'"
      ]
     },
     "execution_count": 59,
     "metadata": {},
     "output_type": "execute_result"
    }
   ],
   "source": [
    "accept_time_found"
   ]
  },
  {
   "cell_type": "markdown",
   "id": "e50c7d40",
   "metadata": {},
   "source": [
    "# HERE"
   ]
  },
  {
   "cell_type": "code",
   "execution_count": 60,
   "id": "1a3be6fb",
   "metadata": {
    "ExecuteTime": {
     "end_time": "2024-05-02T10:46:16.336537Z",
     "start_time": "2024-05-02T10:46:16.318506Z"
    }
   },
   "outputs": [],
   "source": [
    "def find_note(text):\n",
    "    \"\"\"\n",
    "    Function for determining the note\n",
    "    \"\"\"\n",
    "    note_match = re.search(r'(?i)(оплата)\\s*(?::)?\\s*(.*?)\\\\n', text)\n",
    "    note = '{} {}'.format(note_match.group(1).strip(), note_match.group(2).strip() if note_match else np.NAN)\n",
    "    \n",
    "    return note"
   ]
  },
  {
   "cell_type": "code",
   "execution_count": 61,
   "id": "5c5fb6d7",
   "metadata": {
    "ExecuteTime": {
     "end_time": "2024-05-02T10:46:16.535458Z",
     "start_time": "2024-05-02T10:46:16.525459Z"
    }
   },
   "outputs": [],
   "source": [
    "# assigning a variable with the note\n",
    "note_found = find_note(appl)"
   ]
  },
  {
   "cell_type": "code",
   "execution_count": 62,
   "id": "62ccd231",
   "metadata": {
    "ExecuteTime": {
     "end_time": "2024-05-02T10:46:16.721314Z",
     "start_time": "2024-05-02T10:46:16.705767Z"
    }
   },
   "outputs": [
    {
     "data": {
      "text/plain": [
       "'оплата 250'"
      ]
     },
     "execution_count": 62,
     "metadata": {},
     "output_type": "execute_result"
    }
   ],
   "source": [
    "note_found"
   ]
  },
  {
   "cell_type": "code",
   "execution_count": 63,
   "id": "917618b4",
   "metadata": {
    "ExecuteTime": {
     "end_time": "2024-05-02T10:46:17.066440Z",
     "start_time": "2024-05-02T10:46:17.049430Z"
    }
   },
   "outputs": [],
   "source": [
    "# creating new df with a string\n",
    "new_row_df = pd.DataFrame({'Менеджер': [manager_found],\n",
    "                           'Вид доставки': [delivery_found],\n",
    "                           'Дата': [convert_date],\n",
    "                           'Товар': [product_found],\n",
    "                           'Примечание к Товару': [product_notice_found],\n",
    "                           'Кол-во': [quantity_found],\n",
    "                           'Ед.изм.': [unit_found],\n",
    "                           'Машина/Водитель': [cars_found],\n",
    "                           'Продавец': [organization_found],\n",
    "                           'Откуда': [transshipment_found],\n",
    "                           'Покупатель': [purchaser_found],\n",
    "                           'Грузополучатель': [consignee_found],\n",
    "                           'Адрес грузополучателя (юрид)': [consignee_leg_addr_found],\n",
    "                           'Адрес пункта разгрузки': [unl_addr_found],\n",
    "                           'Контакт гп': [phones_found],\n",
    "                           'Время приемки': [accept_time_found],\n",
    "                           'Примечание Иное': [note_found],\n",
    "                          })"
   ]
  },
  {
   "cell_type": "code",
   "execution_count": 64,
   "id": "1a9bbc72",
   "metadata": {
    "ExecuteTime": {
     "end_time": "2024-05-02T10:46:17.770941Z",
     "start_time": "2024-05-02T10:46:17.755914Z"
    }
   },
   "outputs": [],
   "source": [
    "# concatenating dfs\n",
    "df = pd.concat([df, new_row_df], ignore_index=True)"
   ]
  },
  {
   "cell_type": "code",
   "execution_count": 66,
   "id": "eb1c6cd3",
   "metadata": {
    "ExecuteTime": {
     "end_time": "2024-05-02T10:47:32.362577Z",
     "start_time": "2024-05-02T10:47:32.300653Z"
    }
   },
   "outputs": [],
   "source": [
    "# record updated df\n",
    "with pd.ExcelWriter(\"appl_register.xlsx\") as writer:\n",
    "    df.to_excel(writer, sheet_name=\"data\", index=True)"
   ]
  },
  {
   "cell_type": "code",
   "execution_count": 121,
   "id": "c901ff69",
   "metadata": {
    "ExecuteTime": {
     "end_time": "2024-05-02T10:43:36.263835Z",
     "start_time": "2024-05-02T10:43:36.251899Z"
    }
   },
   "outputs": [],
   "source": [
    "# df.drop(df.index, inplace=True)"
   ]
  },
  {
   "cell_type": "code",
   "execution_count": null,
   "id": "25c61eea",
   "metadata": {},
   "outputs": [],
   "source": []
  }
 ],
 "metadata": {
  "kernelspec": {
   "display_name": "Python 3 (ipykernel)",
   "language": "python",
   "name": "python3"
  },
  "language_info": {
   "codemirror_mode": {
    "name": "ipython",
    "version": 3
   },
   "file_extension": ".py",
   "mimetype": "text/x-python",
   "name": "python",
   "nbconvert_exporter": "python",
   "pygments_lexer": "ipython3",
   "version": "3.9.12"
  }
 },
 "nbformat": 4,
 "nbformat_minor": 5
}
