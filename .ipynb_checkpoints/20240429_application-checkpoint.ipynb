{
 "cells": [
  {
   "cell_type": "code",
   "execution_count": 1,
   "id": "0f6a85e6",
   "metadata": {
    "ExecuteTime": {
     "end_time": "2024-04-30T13:29:27.252380Z",
     "start_time": "2024-04-30T13:29:25.078924Z"
    }
   },
   "outputs": [],
   "source": [
    "import pandas as pd\n",
    "import numpy as np\n",
    "import openpyxl as ox\n",
    "import re\n",
    "import editdistance\n",
    "from datetime import datetime"
   ]
  },
  {
   "cell_type": "code",
   "execution_count": 2,
   "id": "616d8023",
   "metadata": {
    "ExecuteTime": {
     "end_time": "2024-04-30T13:29:27.964185Z",
     "start_time": "2024-04-30T13:29:27.947225Z"
    }
   },
   "outputs": [],
   "source": [
    "# надо ли переделать на создание без извлечения из иксель?\n",
    "df = pd.DataFrame(columns=['Менеджер', 'Вид доставки', 'Дата', 'Товар', 'Примечание к Товару', \n",
    "                           'Кол-во', 'Ед.изм.', 'Машина/Водитель','Продавец', 'Откуда', \n",
    "                           'Покупатель', 'Грузополучатель ', 'Адрес грузополучателя (юрид)', \n",
    "                           'Адрес пункта разгрузки', 'Контакт гп','Примечание Иное',\n",
    "                          ])\n"
   ]
  },
  {
   "cell_type": "code",
   "execution_count": 3,
   "id": "68fc2d96",
   "metadata": {
    "ExecuteTime": {
     "end_time": "2024-04-30T13:29:28.698046Z",
     "start_time": "2024-04-30T13:29:28.671039Z"
    }
   },
   "outputs": [
    {
     "data": {
      "text/html": [
       "<div>\n",
       "<style scoped>\n",
       "    .dataframe tbody tr th:only-of-type {\n",
       "        vertical-align: middle;\n",
       "    }\n",
       "\n",
       "    .dataframe tbody tr th {\n",
       "        vertical-align: top;\n",
       "    }\n",
       "\n",
       "    .dataframe thead th {\n",
       "        text-align: right;\n",
       "    }\n",
       "</style>\n",
       "<table border=\"1\" class=\"dataframe\">\n",
       "  <thead>\n",
       "    <tr style=\"text-align: right;\">\n",
       "      <th></th>\n",
       "      <th>Менеджер</th>\n",
       "      <th>Вид доставки</th>\n",
       "      <th>Дата</th>\n",
       "      <th>Товар</th>\n",
       "      <th>Примечание к Товару</th>\n",
       "      <th>Кол-во</th>\n",
       "      <th>Ед.изм.</th>\n",
       "      <th>Машина/Водитель</th>\n",
       "      <th>Продавец</th>\n",
       "      <th>Откуда</th>\n",
       "      <th>Покупатель</th>\n",
       "      <th>Грузополучатель</th>\n",
       "      <th>Адрес грузополучателя (юрид)</th>\n",
       "      <th>Адрес пункта разгрузки</th>\n",
       "      <th>Контакт гп</th>\n",
       "      <th>Примечание Иное</th>\n",
       "    </tr>\n",
       "  </thead>\n",
       "  <tbody>\n",
       "  </tbody>\n",
       "</table>\n",
       "</div>"
      ],
      "text/plain": [
       "Empty DataFrame\n",
       "Columns: [Менеджер, Вид доставки, Дата, Товар, Примечание к Товару, Кол-во, Ед.изм., Машина/Водитель, Продавец, Откуда, Покупатель, Грузополучатель , Адрес грузополучателя (юрид), Адрес пункта разгрузки, Контакт гп, Примечание Иное]\n",
       "Index: []"
      ]
     },
     "execution_count": 3,
     "metadata": {},
     "output_type": "execute_result"
    }
   ],
   "source": [
    "df"
   ]
  },
  {
   "cell_type": "code",
   "execution_count": 4,
   "id": "adee0e96",
   "metadata": {
    "ExecuteTime": {
     "end_time": "2024-04-30T13:29:29.538225Z",
     "start_time": "2024-04-30T13:29:29.439621Z"
    }
   },
   "outputs": [],
   "source": [
    "managers = pd.read_excel(\"dictionary.xlsx\", sheet_name=\"managers\")\n",
    "products = pd.read_excel(\"dictionary.xlsx\", sheet_name=\"products\")\n",
    "units = pd.read_excel(\"dictionary.xlsx\", sheet_name=\"units\")"
   ]
  },
  {
   "cell_type": "code",
   "execution_count": 125,
   "id": "b89e7f23",
   "metadata": {
    "ExecuteTime": {
     "end_time": "2024-04-29T09:27:56.136692Z",
     "start_time": "2024-04-29T09:27:56.118311Z"
    }
   },
   "outputs": [],
   "source": [
    "# managers = pd.DataFrame({'login': ['ИГО', 'Юра Менеджер', 'Алексей Мельхер'],\n",
    "#                         'manager': ['Игорь Хабаров', 'Юрий', 'Алексей Мельхер']})"
   ]
  },
  {
   "cell_type": "code",
   "execution_count": 126,
   "id": "f44a154d",
   "metadata": {
    "ExecuteTime": {
     "end_time": "2024-04-29T09:27:56.414099Z",
     "start_time": "2024-04-29T09:27:56.404527Z"
    }
   },
   "outputs": [],
   "source": [
    "# products = pd.Series(data=['ЦЕМ I 42.5Н БЦК','Щебень гранитный 5-20 (ЛСР)','ЦЕМ I 42.5Н Костюковичи',\n",
    "#                                'ЦЕМ I 42.5Н БЦЗ Костюковичи', 'ЦЕМ I 42.5Н', 'ПЕСКОГРУНТ'], name='product')"
   ]
  },
  {
   "cell_type": "code",
   "execution_count": 104,
   "id": "40c8cc2d",
   "metadata": {
    "ExecuteTime": {
     "end_time": "2024-04-29T09:11:39.636824Z",
     "start_time": "2024-04-29T09:11:39.571250Z"
    }
   },
   "outputs": [],
   "source": [
    "with pd.ExcelWriter(\"dictionary.xlsx\") as writer:\n",
    "    managers.to_excel(writer, sheet_name=\"managers\", index=False)\n",
    "    products.to_excel(writer, sheet_name=\"products\", index=False)"
   ]
  },
  {
   "cell_type": "code",
   "execution_count": 57,
   "id": "68ca3a70",
   "metadata": {
    "ExecuteTime": {
     "end_time": "2024-04-29T08:22:19.572223Z",
     "start_time": "2024-04-29T08:22:19.553827Z"
    }
   },
   "outputs": [
    {
     "data": {
      "text/plain": [
       "0                ЦЕМI42.5НБЦК\n",
       "1    Щебеньгранитный5-20(ЛСР)\n",
       "2        ЦЕМI42.5НКостюковичи\n",
       "3     ЦЕМI42.5НБЦЗКостюковичи\n",
       "4                   ЦЕМI42.5Н\n",
       "5                  ПЕСКОГРУНТ\n",
       "dtype: object"
      ]
     },
     "execution_count": 57,
     "metadata": {},
     "output_type": "execute_result"
    }
   ],
   "source": [
    "products.str.replace(' ', '')"
   ]
  },
  {
   "cell_type": "markdown",
   "id": "3046eb4f",
   "metadata": {},
   "source": [
    "## Text"
   ]
  },
  {
   "cell_type": "code",
   "execution_count": 287,
   "id": "e539e43d",
   "metadata": {
    "ExecuteTime": {
     "end_time": "2024-05-01T02:35:06.628468Z",
     "start_time": "2024-05-01T02:35:06.616467Z"
    }
   },
   "outputs": [],
   "source": [
    "appl = \"\"\"\n",
    "Юра Менеджер:\n",
    "Заявка на самовывоз\n",
    "1. Дата отгрузки: 27.04.24 \n",
    "2. Марка: ПЕСКОГРУНТ\n",
    "Обязательно актуальный паспорт!\n",
    "3. Количество: 200 кубов \n",
    "4. Продажа от клиента: ООО Спарта\n",
    "5. Завод отгрузки: КПП, Солнечногорск, Люберцы \n",
    "6. Покупатель: ООО \"КАНТАН\"\n",
    "7. Грузополучатель: АО \"МСУ-1\"\n",
    "8. Время приёмки: с 9.00 до 20.00\n",
    "9. Контакт диспетчера: +7 968 558-83-13 \n",
    "10. Точка выгрузки: Бескудниковский бульвар, 52к1\n",
    "Россия, Москва\n",
    "7. Машина: \n",
    "О327ВН790 МАN\n",
    "О039ОУ790 МАN,\n",
    "Х194ВА797 КАМАЗ\n",
    "В683СН790 МАN\n",
    "\"\"\""
   ]
  },
  {
   "cell_type": "code",
   "execution_count": 198,
   "id": "3cee55cb",
   "metadata": {
    "ExecuteTime": {
     "end_time": "2024-04-30T16:21:12.200810Z",
     "start_time": "2024-04-30T16:21:12.192268Z"
    }
   },
   "outputs": [],
   "source": [
    "# Используем регулярное выражение для поиска даты в формате dd.mm.yyyy\n",
    "date_pattern = r'\\b\\d{2}\\.\\d{2}(?:\\.\\d{2}(?:\\d{2})?)?\\b'\n",
    "\n",
    "# Находим все совпадения с помощью метода findall\n",
    "dates = re.findall(date_pattern, appl)"
   ]
  },
  {
   "cell_type": "markdown",
   "id": "2809b960",
   "metadata": {},
   "source": [
    "## Check"
   ]
  },
  {
   "cell_type": "code",
   "execution_count": 199,
   "id": "8b01e40e",
   "metadata": {
    "ExecuteTime": {
     "end_time": "2024-04-30T16:21:12.699222Z",
     "start_time": "2024-04-30T16:21:12.683694Z"
    }
   },
   "outputs": [
    {
     "data": {
      "text/plain": [
       "['27.04.24', '20.00']"
      ]
     },
     "execution_count": 199,
     "metadata": {},
     "output_type": "execute_result"
    }
   ],
   "source": [
    "dates"
   ]
  },
  {
   "cell_type": "code",
   "execution_count": 200,
   "id": "b64df0b8",
   "metadata": {
    "ExecuteTime": {
     "end_time": "2024-04-30T16:21:13.059351Z",
     "start_time": "2024-04-30T16:21:13.047020Z"
    }
   },
   "outputs": [],
   "source": [
    "# функция для форматирования даты в установленный формат\n",
    "def convert_to_full_year(date_str):\n",
    "    current_year = datetime.now().year\n",
    "    parts = date_str.split('.')\n",
    "    \n",
    "    # Пытаемся интерпретировать дату\n",
    "    try:\n",
    "        # Если в строке только две части, добавляем текущий год\n",
    "        if len(parts) == 2:\n",
    "            date_str += f\".{current_year}\"\n",
    "        \n",
    "        # Пробуем преобразовать строку в дату\n",
    "        datetime_obj = datetime.strptime(date_str, '%d.%m.%Y')\n",
    "    except ValueError:\n",
    "        # Если возникает ошибка, попробуем считать год в формате yy\n",
    "        try:\n",
    "            datetime_obj = datetime.strptime(date_str, '%d.%m.%y')\n",
    "        except ValueError:\n",
    "            # Если и это не сработает, возможно, формат даты неизвестен\n",
    "            raise ValueError(\"Неподдерживаемый формат даты\")\n",
    "    \n",
    "    # Возвращаем дату в формате dd.mm.yyyy\n",
    "    return datetime_obj.strftime('%d.%m.%Y')"
   ]
  },
  {
   "cell_type": "code",
   "execution_count": 201,
   "id": "391e029d",
   "metadata": {
    "ExecuteTime": {
     "end_time": "2024-04-30T16:21:13.887413Z",
     "start_time": "2024-04-30T16:21:13.880322Z"
    }
   },
   "outputs": [],
   "source": [
    "# конвертируем ПОКА ЧТО для одной даты\n",
    "convert_date = convert_to_full_year(dates[0])"
   ]
  },
  {
   "cell_type": "markdown",
   "id": "5247cd10",
   "metadata": {},
   "source": [
    "## Check"
   ]
  },
  {
   "cell_type": "code",
   "execution_count": 202,
   "id": "9f313ea3",
   "metadata": {
    "ExecuteTime": {
     "end_time": "2024-04-30T16:21:14.512012Z",
     "start_time": "2024-04-30T16:21:14.502006Z"
    }
   },
   "outputs": [
    {
     "data": {
      "text/plain": [
       "'27.04.2024'"
      ]
     },
     "execution_count": 202,
     "metadata": {},
     "output_type": "execute_result"
    }
   ],
   "source": [
    "convert_date"
   ]
  },
  {
   "cell_type": "code",
   "execution_count": 203,
   "id": "6d1df367",
   "metadata": {
    "ExecuteTime": {
     "end_time": "2024-04-30T16:21:15.150226Z",
     "start_time": "2024-04-30T16:21:15.141226Z"
    }
   },
   "outputs": [],
   "source": [
    "def find_manager(text, managers_df):\n",
    "    # Проходим по каждому логину менеджера\n",
    "    for index, row in managers_df.iterrows():\n",
    "        login = row['login']\n",
    "        manager = row['manager']\n",
    "        \n",
    "        # Проверяем совпадение по колонке 'login'\n",
    "        if login.lower().replace(' ', '') in text.lower().replace(' ', ''):\n",
    "            return manager\n",
    "    return np.NAN\n",
    "\n"
   ]
  },
  {
   "cell_type": "code",
   "execution_count": 204,
   "id": "3cdcec83",
   "metadata": {
    "ExecuteTime": {
     "end_time": "2024-04-30T16:21:15.664081Z",
     "start_time": "2024-04-30T16:21:15.654081Z"
    }
   },
   "outputs": [],
   "source": [
    "manager_found = find_manager(appl, managers)"
   ]
  },
  {
   "cell_type": "code",
   "execution_count": 205,
   "id": "9f17e112",
   "metadata": {
    "ExecuteTime": {
     "end_time": "2024-04-30T16:21:16.099696Z",
     "start_time": "2024-04-30T16:21:16.081408Z"
    }
   },
   "outputs": [
    {
     "data": {
      "text/plain": [
       "'Юрий'"
      ]
     },
     "execution_count": 205,
     "metadata": {},
     "output_type": "execute_result"
    }
   ],
   "source": [
    "manager_found"
   ]
  },
  {
   "cell_type": "code",
   "execution_count": 256,
   "id": "4d6b9366",
   "metadata": {
    "ExecuteTime": {
     "end_time": "2024-04-30T16:29:00.231846Z",
     "start_time": "2024-04-30T16:29:00.223840Z"
    }
   },
   "outputs": [],
   "source": [
    "def delivery_type(text):\n",
    "    if \"самовывоз\" in text.lower():\n",
    "        return \"самовывоз\"\n",
    "    return \"доставка\""
   ]
  },
  {
   "cell_type": "code",
   "execution_count": 257,
   "id": "2f093c5b",
   "metadata": {
    "ExecuteTime": {
     "end_time": "2024-04-30T16:29:00.513947Z",
     "start_time": "2024-04-30T16:29:00.505563Z"
    }
   },
   "outputs": [],
   "source": [
    "delivery_found = delivery_type(appl)"
   ]
  },
  {
   "cell_type": "code",
   "execution_count": 258,
   "id": "63c9f490",
   "metadata": {
    "ExecuteTime": {
     "end_time": "2024-04-30T16:29:00.840800Z",
     "start_time": "2024-04-30T16:29:00.830782Z"
    }
   },
   "outputs": [
    {
     "data": {
      "text/plain": [
       "'самовывоз'"
      ]
     },
     "execution_count": 258,
     "metadata": {},
     "output_type": "execute_result"
    }
   ],
   "source": [
    "delivery_found"
   ]
  },
  {
   "cell_type": "code",
   "execution_count": 209,
   "id": "a125eea4",
   "metadata": {
    "ExecuteTime": {
     "end_time": "2024-04-30T16:21:17.935484Z",
     "start_time": "2024-04-30T16:21:17.928530Z"
    }
   },
   "outputs": [],
   "source": [
    "# def find_product(text, product_df):\n",
    "#     \"\"\"\n",
    "#     Функция для поиска товара по тексту и датафрейму с видами товара.\n",
    "\n",
    "#     Аргументы:\n",
    "#     text (str): Текст для поиска товара.\n",
    "#     product_df (pandas.DataFrame): Датафрейм с колонками 'login' и 'manager',\n",
    "#                                      содержащий информацию о менеджерах.\n",
    "\n",
    "#     Возвращает:\n",
    "#     str: Имя менеджера, если совпадение найдено, иначе сообщение о том, что совпадений не найдено.\n",
    "#     \"\"\"\n",
    "#     # Проходим по каждому логину менеджера\n",
    "#     for index, row in product_df.iterrows():\n",
    "#         product = row['product']\n",
    "#         # Проверяем совпадение по колонке 'login'\n",
    "#         if product.lower().replace(' ', '') in text.lower().replace(' ', ''):\n",
    "#             return product\n",
    "#     # Если совпадений не найдено\n",
    "#     return np.NAN"
   ]
  },
  {
   "cell_type": "code",
   "execution_count": 210,
   "id": "f52a40be",
   "metadata": {
    "ExecuteTime": {
     "end_time": "2024-04-30T16:21:18.258750Z",
     "start_time": "2024-04-30T16:21:18.250753Z"
    }
   },
   "outputs": [],
   "source": [
    "# product_found = find_product(appl, products)"
   ]
  },
  {
   "cell_type": "code",
   "execution_count": 211,
   "id": "f28bc893",
   "metadata": {
    "ExecuteTime": {
     "end_time": "2024-04-30T16:21:18.570068Z",
     "start_time": "2024-04-30T16:21:18.552008Z"
    }
   },
   "outputs": [],
   "source": [
    "# product_found"
   ]
  },
  {
   "cell_type": "code",
   "execution_count": 275,
   "id": "19026552",
   "metadata": {
    "ExecuteTime": {
     "end_time": "2024-05-01T02:30:06.043735Z",
     "start_time": "2024-05-01T02:30:06.029790Z"
    }
   },
   "outputs": [],
   "source": [
    "def find_product(text):\n",
    "    # Находим значение после слова \"Марка:\" без учета регистра\n",
    "    marca_match = re.search(r'(?i)Марка(:)?\\s*(цемента)?\\s*(.*?)\\n', text)\n",
    "    marca_value = marca_match.group(3) if marca_match else np.NAN\n",
    "\n",
    "    return marca_value\n",
    "    \n",
    "def find_product_notice(text):    \n",
    "    # Находим значение между строкой с \"Марка:\" и следующим номером пункта\n",
    "    # Если нет следующего номера пункта, возвращаем np.NAN\n",
    "  \n",
    "    intermediate_match = re.search(r'(?i)Марка.*?\\n(.*?)\\n\\d', text, re.DOTALL)\n",
    "    intermediate_value = intermediate_match.group(1) if intermediate_match else np.NAN\n",
    "    \n",
    "    if re.match(r'^[^0-9.].*', intermediate_value):\n",
    "        return intermediate_value\n",
    "    else:\n",
    "        np.NAN"
   ]
  },
  {
   "cell_type": "code",
   "execution_count": 276,
   "id": "3f53fb22",
   "metadata": {
    "ExecuteTime": {
     "end_time": "2024-05-01T02:30:06.790239Z",
     "start_time": "2024-05-01T02:30:06.772242Z"
    }
   },
   "outputs": [],
   "source": [
    "product_found = find_product(appl)"
   ]
  },
  {
   "cell_type": "code",
   "execution_count": 277,
   "id": "13105fa7",
   "metadata": {
    "ExecuteTime": {
     "end_time": "2024-05-01T02:30:07.596640Z",
     "start_time": "2024-05-01T02:30:07.586609Z"
    }
   },
   "outputs": [],
   "source": [
    "product_notice_found = find_product_notice(appl)"
   ]
  },
  {
   "cell_type": "markdown",
   "id": "f3a7e976",
   "metadata": {},
   "source": [
    "## Check"
   ]
  },
  {
   "cell_type": "code",
   "execution_count": 278,
   "id": "6afcd468",
   "metadata": {
    "ExecuteTime": {
     "end_time": "2024-05-01T02:30:08.312024Z",
     "start_time": "2024-05-01T02:30:08.289877Z"
    }
   },
   "outputs": [
    {
     "data": {
      "text/plain": [
       "'ПЕСКОГРУНТ'"
      ]
     },
     "execution_count": 278,
     "metadata": {},
     "output_type": "execute_result"
    }
   ],
   "source": [
    "product_found"
   ]
  },
  {
   "cell_type": "code",
   "execution_count": 279,
   "id": "596956f0",
   "metadata": {
    "ExecuteTime": {
     "end_time": "2024-05-01T02:30:08.821332Z",
     "start_time": "2024-05-01T02:30:08.803458Z"
    }
   },
   "outputs": [
    {
     "data": {
      "text/plain": [
       "'Обязательно актуальный паспорт!'"
      ]
     },
     "execution_count": 279,
     "metadata": {},
     "output_type": "execute_result"
    }
   ],
   "source": [
    "product_notice_found"
   ]
  },
  {
   "cell_type": "code",
   "execution_count": 271,
   "id": "bb5b2c92",
   "metadata": {
    "ExecuteTime": {
     "end_time": "2024-05-01T02:22:00.774659Z",
     "start_time": "2024-05-01T02:22:00.762656Z"
    }
   },
   "outputs": [],
   "source": [
    "def find_quantity(text):\n",
    "    # Находим значение после слова \"Количество/кол-во:\" без учета регистра    \n",
    "    quantity_match = re.search(r'(?i)кол(\\s*-\\s*|ичест)?во\\s*(:)?\\s*(\\d+)', text)\n",
    "    quantity = int(quantity_match.group(3)) if quantity_match else np.NAN\n",
    "    \n",
    "    return quantity"
   ]
  },
  {
   "cell_type": "code",
   "execution_count": 272,
   "id": "d5808d65",
   "metadata": {
    "ExecuteTime": {
     "end_time": "2024-05-01T02:22:01.729621Z",
     "start_time": "2024-05-01T02:22:01.711609Z"
    }
   },
   "outputs": [],
   "source": [
    "quantity_found = find_quantity(appl)"
   ]
  },
  {
   "cell_type": "code",
   "execution_count": 273,
   "id": "c689f6bc",
   "metadata": {
    "ExecuteTime": {
     "end_time": "2024-05-01T02:22:10.313505Z",
     "start_time": "2024-05-01T02:22:10.298442Z"
    }
   },
   "outputs": [
    {
     "data": {
      "text/plain": [
       "200"
      ]
     },
     "execution_count": 273,
     "metadata": {},
     "output_type": "execute_result"
    }
   ],
   "source": [
    "quantity_found"
   ]
  },
  {
   "cell_type": "code",
   "execution_count": 219,
   "id": "b13eee04",
   "metadata": {
    "ExecuteTime": {
     "end_time": "2024-04-30T16:21:26.332271Z",
     "start_time": "2024-04-30T16:21:26.320272Z"
    }
   },
   "outputs": [],
   "source": [
    "def find_unit_note(text):\n",
    "    # Находим значение после слова \"Количество/кол-во:\" без учета регистра    \n",
    "    unit_match = re.search(r'(?i)кол(-|ичест)?во\\s*(:)?\\s*(\\d+)\\s*(\\D+)\\s*', text)\n",
    "    unit = unit_match.group(4).strip() if unit_match else np.NAN\n",
    "    \n",
    "    return unit"
   ]
  },
  {
   "cell_type": "code",
   "execution_count": 220,
   "id": "b8e9882c",
   "metadata": {
    "ExecuteTime": {
     "end_time": "2024-04-30T16:21:26.785940Z",
     "start_time": "2024-04-30T16:21:26.767940Z"
    }
   },
   "outputs": [],
   "source": [
    "unit_note_found = find_unit_note(appl)"
   ]
  },
  {
   "cell_type": "code",
   "execution_count": 221,
   "id": "e5bee03c",
   "metadata": {
    "ExecuteTime": {
     "end_time": "2024-04-30T16:21:27.281415Z",
     "start_time": "2024-04-30T16:21:27.265392Z"
    }
   },
   "outputs": [],
   "source": [
    "unit_found = units.loc[units[units['data']==unit_note_found].index[0], 'unit']"
   ]
  },
  {
   "cell_type": "code",
   "execution_count": 226,
   "id": "2a1d38e5",
   "metadata": {
    "ExecuteTime": {
     "end_time": "2024-04-30T16:21:59.035834Z",
     "start_time": "2024-04-30T16:21:59.023839Z"
    }
   },
   "outputs": [],
   "source": [
    "def find_car(text):\n",
    "    \n",
    "    car_match = re.findall(r'(?i)[А-Я]{1}\\d{3}[А-Я]{2}\\d{3}\\s*\\w*', text)\n",
    "    cars = car_match if car_match else np.NAN\n",
    "    \n",
    "    return cars"
   ]
  },
  {
   "cell_type": "code",
   "execution_count": 227,
   "id": "7593e0a7",
   "metadata": {
    "ExecuteTime": {
     "end_time": "2024-04-30T16:21:59.502977Z",
     "start_time": "2024-04-30T16:21:59.494007Z"
    }
   },
   "outputs": [],
   "source": [
    "cars_found = ', '.join(find_car(appl)) if find_car(appl) is not np.NAN else np.NAN"
   ]
  },
  {
   "cell_type": "code",
   "execution_count": 228,
   "id": "5252b274",
   "metadata": {
    "ExecuteTime": {
     "end_time": "2024-04-30T16:22:00.140156Z",
     "start_time": "2024-04-30T16:22:00.120147Z"
    }
   },
   "outputs": [
    {
     "data": {
      "text/plain": [
       "'О327ВН790 МАN, О039ОУ790 МАN, Х194ВА797 КАМАЗ, В683СН790 МАN'"
      ]
     },
     "execution_count": 228,
     "metadata": {},
     "output_type": "execute_result"
    }
   ],
   "source": [
    "cars_found"
   ]
  },
  {
   "cell_type": "code",
   "execution_count": 262,
   "id": "d08394e7",
   "metadata": {
    "ExecuteTime": {
     "end_time": "2024-04-30T16:33:14.406649Z",
     "start_time": "2024-04-30T16:33:14.396657Z"
    }
   },
   "outputs": [],
   "source": [
    "def find_organization(text):\n",
    "#     Продажа от: ООО \"Спарта\"\n",
    "    organization_match = re.search(r'(?i)(продажа\\s+от:|(продажа)?\\s*от\\s+(клиента)?\\s*(:)?)\\s*(.+?)\\n', text)\n",
    "    organization = organization_match.group(5) if organization_match else np.NAN\n",
    "    \n",
    "    return organization"
   ]
  },
  {
   "cell_type": "code",
   "execution_count": 263,
   "id": "2b6eaee6",
   "metadata": {
    "ExecuteTime": {
     "end_time": "2024-04-30T16:33:14.748829Z",
     "start_time": "2024-04-30T16:33:14.736806Z"
    }
   },
   "outputs": [],
   "source": [
    "organization_found = find_organization(appl)"
   ]
  },
  {
   "cell_type": "code",
   "execution_count": 264,
   "id": "15214ef3",
   "metadata": {
    "ExecuteTime": {
     "end_time": "2024-04-30T16:33:15.154235Z",
     "start_time": "2024-04-30T16:33:15.133816Z"
    }
   },
   "outputs": [
    {
     "data": {
      "text/plain": [
       "'ООО Спарта'"
      ]
     },
     "execution_count": 264,
     "metadata": {},
     "output_type": "execute_result"
    }
   ],
   "source": [
    "organization_found"
   ]
  },
  {
   "cell_type": "code",
   "execution_count": 266,
   "id": "16127f7f",
   "metadata": {
    "ExecuteTime": {
     "end_time": "2024-04-30T16:33:40.590122Z",
     "start_time": "2024-04-30T16:33:40.581117Z"
    }
   },
   "outputs": [],
   "source": [
    "def find_transshipment(text):\n",
    "    \n",
    "    transshipment_match = \\\n",
    "    re.search(r'(?i)\\d+\\.\\s*(С\\s+(перевалки)?\\s*|Завод\\s*(отгрузки)?\\s*(:)?|Перевалка\\s*(:)?)\\s*(.+?)\\n', \n",
    "              text)\n",
    "    transshipment = transshipment_match.group(6) if transshipment_match else np.NAN\n",
    "    \n",
    "    return transshipment"
   ]
  },
  {
   "cell_type": "code",
   "execution_count": 267,
   "id": "673a1165",
   "metadata": {
    "ExecuteTime": {
     "end_time": "2024-04-30T16:33:40.888767Z",
     "start_time": "2024-04-30T16:33:40.881771Z"
    }
   },
   "outputs": [],
   "source": [
    "transshipment_found = find_transshipment(appl)"
   ]
  },
  {
   "cell_type": "code",
   "execution_count": 268,
   "id": "8d00460e",
   "metadata": {
    "ExecuteTime": {
     "end_time": "2024-04-30T16:33:41.277554Z",
     "start_time": "2024-04-30T16:33:41.267554Z"
    }
   },
   "outputs": [
    {
     "data": {
      "text/plain": [
       "'КПП, Солнечногорск, Люберцы '"
      ]
     },
     "execution_count": 268,
     "metadata": {},
     "output_type": "execute_result"
    }
   ],
   "source": [
    "transshipment_found "
   ]
  },
  {
   "cell_type": "markdown",
   "id": "05222473",
   "metadata": {},
   "source": [
    "## Доделать, спросить у Лёхи\n",
    "\n",
    "Нужно ли создавать словарь для именительного падежа названия перевалки?"
   ]
  },
  {
   "cell_type": "code",
   "execution_count": 288,
   "id": "17ac29f3",
   "metadata": {
    "ExecuteTime": {
     "end_time": "2024-05-01T02:35:11.043323Z",
     "start_time": "2024-05-01T02:35:11.032292Z"
    }
   },
   "outputs": [],
   "source": [
    "def find_purchaser(text):\n",
    "    \n",
    "    purchaser_match = \\\n",
    "    re.search(r'(?i)\\d+\\.\\s*(Покупатель\\s*(груза)?\\s*(:)?)\\s*(.+?)\\n', \n",
    "              text)\n",
    "    purchaser = purchaser_match.group(4) if purchaser_match else np.NAN\n",
    "    \n",
    "    return purchaser"
   ]
  },
  {
   "cell_type": "code",
   "execution_count": 290,
   "id": "4a83330d",
   "metadata": {
    "ExecuteTime": {
     "end_time": "2024-05-01T02:36:02.881555Z",
     "start_time": "2024-05-01T02:36:02.869535Z"
    }
   },
   "outputs": [],
   "source": [
    "purchaser_found = find_purchaser(appl)"
   ]
  },
  {
   "cell_type": "code",
   "execution_count": null,
   "id": "1239f9b4",
   "metadata": {},
   "outputs": [],
   "source": []
  },
  {
   "cell_type": "markdown",
   "id": "031369d7",
   "metadata": {},
   "source": [
    "  ## Доделать, спросить у Лёхи\n",
    "\n",
    "4. ООО «ПД Технологии» объект *Пушкино* ,\n",
    "4. ООО «ПД Технологии» объект *Пушкино* "
   ]
  },
  {
   "cell_type": "code",
   "execution_count": null,
   "id": "be30ee18",
   "metadata": {},
   "outputs": [],
   "source": []
  },
  {
   "cell_type": "code",
   "execution_count": null,
   "id": "f1cda75e",
   "metadata": {},
   "outputs": [],
   "source": []
  },
  {
   "cell_type": "code",
   "execution_count": null,
   "id": "ef1502fd",
   "metadata": {},
   "outputs": [],
   "source": []
  },
  {
   "cell_type": "code",
   "execution_count": null,
   "id": "a2c87ac5",
   "metadata": {},
   "outputs": [],
   "source": []
  },
  {
   "cell_type": "code",
   "execution_count": 293,
   "id": "758773f0",
   "metadata": {
    "ExecuteTime": {
     "end_time": "2024-05-01T02:36:38.524413Z",
     "start_time": "2024-05-01T02:36:38.502026Z"
    }
   },
   "outputs": [],
   "source": [
    "# Создаем новый DataFrame с одной строкой, содержащей только дату\n",
    "new_row_df = pd.DataFrame({'Менеджер': [manager_found], \n",
    "                           'Вид доставки': [delivery_found], \n",
    "                           'Дата': [convert_date], \n",
    "                           'Товар': [product_found], \n",
    "                           'Примечание к Товару': [product_notice_found], \n",
    "                           'Кол-во': [quantity_found], \n",
    "                           'Ед.изм.': [unit_found], \n",
    "                           'Машина/Водитель': [cars_found], \n",
    "                           'Продавец': [organization_found], \n",
    "                           'Откуда': [transshipment_found], \n",
    "                           'Покупатель': [purchaser_found], \n",
    "#                            'Грузополучатель ',\n",
    "#                            'Адрес грузополучателя (юрид)', \n",
    "#                            'Адрес пункта разгрузки', \n",
    "#                            'Контакт гп',\n",
    "#                            'Примечание Иное',\n",
    "                          })\n",
    "\n",
    "# new_row_df['Машина/Водитель'] = new_row_df['Машина/Водитель'].apply(lambda x: ', '.join(x)) \n",
    "# Объединяем исходный DataFrame с новым DataFrame\n",
    "df = pd.concat([df, new_row_df], ignore_index=True)"
   ]
  },
  {
   "cell_type": "code",
   "execution_count": 294,
   "id": "9c1ab873",
   "metadata": {
    "ExecuteTime": {
     "end_time": "2024-05-01T02:36:39.224156Z",
     "start_time": "2024-05-01T02:36:39.185154Z"
    }
   },
   "outputs": [
    {
     "data": {
      "text/html": [
       "<div>\n",
       "<style scoped>\n",
       "    .dataframe tbody tr th:only-of-type {\n",
       "        vertical-align: middle;\n",
       "    }\n",
       "\n",
       "    .dataframe tbody tr th {\n",
       "        vertical-align: top;\n",
       "    }\n",
       "\n",
       "    .dataframe thead th {\n",
       "        text-align: right;\n",
       "    }\n",
       "</style>\n",
       "<table border=\"1\" class=\"dataframe\">\n",
       "  <thead>\n",
       "    <tr style=\"text-align: right;\">\n",
       "      <th></th>\n",
       "      <th>Менеджер</th>\n",
       "      <th>Вид доставки</th>\n",
       "      <th>Дата</th>\n",
       "      <th>Товар</th>\n",
       "      <th>Примечание к Товару</th>\n",
       "      <th>Кол-во</th>\n",
       "      <th>Ед.изм.</th>\n",
       "      <th>Машина/Водитель</th>\n",
       "      <th>Продавец</th>\n",
       "      <th>Откуда</th>\n",
       "      <th>Покупатель</th>\n",
       "      <th>Грузополучатель</th>\n",
       "      <th>Адрес грузополучателя (юрид)</th>\n",
       "      <th>Адрес пункта разгрузки</th>\n",
       "      <th>Контакт гп</th>\n",
       "      <th>Примечание Иное</th>\n",
       "    </tr>\n",
       "  </thead>\n",
       "  <tbody>\n",
       "    <tr>\n",
       "      <th>0</th>\n",
       "      <td>Юрий</td>\n",
       "      <td>доставка</td>\n",
       "      <td>26.04.2024</td>\n",
       "      <td>Щебень гранитный 5-20(ЛСР)</td>\n",
       "      <td>Обязательно актуальный паспорт!</td>\n",
       "      <td>120</td>\n",
       "      <td>т</td>\n",
       "      <td>В683СН790 МАN, М991ХС750 МАN, О030ХЕ123 МАN, В...</td>\n",
       "      <td>NaN</td>\n",
       "      <td>NaN</td>\n",
       "      <td>NaN</td>\n",
       "      <td>NaN</td>\n",
       "      <td>NaN</td>\n",
       "      <td>NaN</td>\n",
       "      <td>NaN</td>\n",
       "      <td>NaN</td>\n",
       "    </tr>\n",
       "    <tr>\n",
       "      <th>1</th>\n",
       "      <td>Юрий</td>\n",
       "      <td>доставка</td>\n",
       "      <td>26.04.2024</td>\n",
       "      <td>Щебень гранитный 5-20(ЛСР)</td>\n",
       "      <td>Обязательно актуальный паспорт!</td>\n",
       "      <td>120</td>\n",
       "      <td>т</td>\n",
       "      <td>NaN</td>\n",
       "      <td>NaN</td>\n",
       "      <td>NaN</td>\n",
       "      <td>NaN</td>\n",
       "      <td>NaN</td>\n",
       "      <td>NaN</td>\n",
       "      <td>NaN</td>\n",
       "      <td>NaN</td>\n",
       "      <td>NaN</td>\n",
       "    </tr>\n",
       "    <tr>\n",
       "      <th>2</th>\n",
       "      <td>Юрий</td>\n",
       "      <td>доставка</td>\n",
       "      <td>26.04.2024</td>\n",
       "      <td>Щебень гранитный 5-20(ЛСР)</td>\n",
       "      <td>Обязательно актуальный паспорт!</td>\n",
       "      <td>120</td>\n",
       "      <td>т</td>\n",
       "      <td>NaN</td>\n",
       "      <td>ОО0 \"Спарта\"</td>\n",
       "      <td>NaN</td>\n",
       "      <td>NaN</td>\n",
       "      <td>NaN</td>\n",
       "      <td>NaN</td>\n",
       "      <td>NaN</td>\n",
       "      <td>NaN</td>\n",
       "      <td>NaN</td>\n",
       "    </tr>\n",
       "    <tr>\n",
       "      <th>3</th>\n",
       "      <td>Юрий</td>\n",
       "      <td>доставка</td>\n",
       "      <td>26.04.2024</td>\n",
       "      <td>Щебень гранитный 5-20(ЛСР)</td>\n",
       "      <td>Обязательно актуальный паспорт!</td>\n",
       "      <td>120</td>\n",
       "      <td>т</td>\n",
       "      <td>NaN</td>\n",
       "      <td>ОО0 \"Спарта\"</td>\n",
       "      <td>🤷‍♂️</td>\n",
       "      <td>NaN</td>\n",
       "      <td>NaN</td>\n",
       "      <td>NaN</td>\n",
       "      <td>NaN</td>\n",
       "      <td>NaN</td>\n",
       "      <td>NaN</td>\n",
       "    </tr>\n",
       "    <tr>\n",
       "      <th>4</th>\n",
       "      <td>Юрий</td>\n",
       "      <td>доставка</td>\n",
       "      <td>27.04.2024</td>\n",
       "      <td>ПЕСКОГРУНТ</td>\n",
       "      <td>Обязательно актуальный паспорт!</td>\n",
       "      <td>200</td>\n",
       "      <td>куб</td>\n",
       "      <td>О327ВН790 МАN, О039ОУ790 МАN, Х194ВА797 КАМАЗ,...</td>\n",
       "      <td>ООО \"Спарта\"</td>\n",
       "      <td>🤷‍♂️</td>\n",
       "      <td>NaN</td>\n",
       "      <td>NaN</td>\n",
       "      <td>NaN</td>\n",
       "      <td>NaN</td>\n",
       "      <td>NaN</td>\n",
       "      <td>NaN</td>\n",
       "    </tr>\n",
       "    <tr>\n",
       "      <th>5</th>\n",
       "      <td>Юрий</td>\n",
       "      <td>самовывоз</td>\n",
       "      <td>27.04.2024</td>\n",
       "      <td>ПЕСКОГРУНТ</td>\n",
       "      <td>Обязательно актуальный паспорт!</td>\n",
       "      <td>200</td>\n",
       "      <td>куб</td>\n",
       "      <td>О327ВН790 МАN, О039ОУ790 МАN, Х194ВА797 КАМАЗ,...</td>\n",
       "      <td>ООО \"Спарта\"</td>\n",
       "      <td>🤷‍♂️</td>\n",
       "      <td>NaN</td>\n",
       "      <td>NaN</td>\n",
       "      <td>NaN</td>\n",
       "      <td>NaN</td>\n",
       "      <td>NaN</td>\n",
       "      <td>NaN</td>\n",
       "    </tr>\n",
       "    <tr>\n",
       "      <th>6</th>\n",
       "      <td>Юрий</td>\n",
       "      <td>самовывоз</td>\n",
       "      <td>27.04.2024</td>\n",
       "      <td>ПЕСКОГРУНТ</td>\n",
       "      <td>Обязательно актуальный паспорт!</td>\n",
       "      <td>200</td>\n",
       "      <td>куб</td>\n",
       "      <td>О327ВН790 МАN, О039ОУ790 МАN, Х194ВА797 КАМАЗ,...</td>\n",
       "      <td>ООО Спарта</td>\n",
       "      <td>КПП, Солнечногорск, Люберцы</td>\n",
       "      <td>NaN</td>\n",
       "      <td>NaN</td>\n",
       "      <td>NaN</td>\n",
       "      <td>NaN</td>\n",
       "      <td>NaN</td>\n",
       "      <td>NaN</td>\n",
       "    </tr>\n",
       "    <tr>\n",
       "      <th>7</th>\n",
       "      <td>Юрий</td>\n",
       "      <td>самовывоз</td>\n",
       "      <td>27.04.2024</td>\n",
       "      <td>ПЕСКОГРУНТ</td>\n",
       "      <td>Обязательно актуальный паспорт!</td>\n",
       "      <td>200</td>\n",
       "      <td>куб</td>\n",
       "      <td>О327ВН790 МАN, О039ОУ790 МАN, Х194ВА797 КАМАЗ,...</td>\n",
       "      <td>ООО Спарта</td>\n",
       "      <td>КПП, Солнечногорск, Люберцы</td>\n",
       "      <td>NaN</td>\n",
       "      <td>NaN</td>\n",
       "      <td>NaN</td>\n",
       "      <td>NaN</td>\n",
       "      <td>NaN</td>\n",
       "      <td>NaN</td>\n",
       "    </tr>\n",
       "    <tr>\n",
       "      <th>8</th>\n",
       "      <td>Юрий</td>\n",
       "      <td>самовывоз</td>\n",
       "      <td>27.04.2024</td>\n",
       "      <td>ПЕСКОГРУНТ</td>\n",
       "      <td>Обязательно актуальный паспорт!</td>\n",
       "      <td>200</td>\n",
       "      <td>куб</td>\n",
       "      <td>О327ВН790 МАN, О039ОУ790 МАN, Х194ВА797 КАМАЗ,...</td>\n",
       "      <td>ООО Спарта</td>\n",
       "      <td>КПП, Солнечногорск, Люберцы</td>\n",
       "      <td>ООО \"КАНТАН\"</td>\n",
       "      <td>NaN</td>\n",
       "      <td>NaN</td>\n",
       "      <td>NaN</td>\n",
       "      <td>NaN</td>\n",
       "      <td>NaN</td>\n",
       "    </tr>\n",
       "  </tbody>\n",
       "</table>\n",
       "</div>"
      ],
      "text/plain": [
       "  Менеджер Вид доставки        Дата                       Товар  \\\n",
       "0     Юрий     доставка  26.04.2024  Щебень гранитный 5-20(ЛСР)   \n",
       "1     Юрий     доставка  26.04.2024  Щебень гранитный 5-20(ЛСР)   \n",
       "2     Юрий     доставка  26.04.2024  Щебень гранитный 5-20(ЛСР)   \n",
       "3     Юрий     доставка  26.04.2024  Щебень гранитный 5-20(ЛСР)   \n",
       "4     Юрий     доставка  27.04.2024                  ПЕСКОГРУНТ   \n",
       "5     Юрий    самовывоз  27.04.2024                  ПЕСКОГРУНТ   \n",
       "6     Юрий    самовывоз  27.04.2024                  ПЕСКОГРУНТ   \n",
       "7     Юрий    самовывоз  27.04.2024                  ПЕСКОГРУНТ   \n",
       "8     Юрий    самовывоз  27.04.2024                  ПЕСКОГРУНТ   \n",
       "\n",
       "               Примечание к Товару Кол-во Ед.изм.  \\\n",
       "0  Обязательно актуальный паспорт!    120       т   \n",
       "1  Обязательно актуальный паспорт!    120       т   \n",
       "2  Обязательно актуальный паспорт!    120       т   \n",
       "3  Обязательно актуальный паспорт!    120       т   \n",
       "4  Обязательно актуальный паспорт!    200     куб   \n",
       "5  Обязательно актуальный паспорт!    200     куб   \n",
       "6  Обязательно актуальный паспорт!    200     куб   \n",
       "7  Обязательно актуальный паспорт!    200     куб   \n",
       "8  Обязательно актуальный паспорт!    200     куб   \n",
       "\n",
       "                                     Машина/Водитель      Продавец  \\\n",
       "0  В683СН790 МАN, М991ХС750 МАN, О030ХЕ123 МАN, В...           NaN   \n",
       "1                                                NaN           NaN   \n",
       "2                                                NaN  ОО0 \"Спарта\"   \n",
       "3                                                NaN  ОО0 \"Спарта\"   \n",
       "4  О327ВН790 МАN, О039ОУ790 МАN, Х194ВА797 КАМАЗ,...  ООО \"Спарта\"   \n",
       "5  О327ВН790 МАN, О039ОУ790 МАN, Х194ВА797 КАМАЗ,...  ООО \"Спарта\"   \n",
       "6  О327ВН790 МАN, О039ОУ790 МАN, Х194ВА797 КАМАЗ,...    ООО Спарта   \n",
       "7  О327ВН790 МАN, О039ОУ790 МАN, Х194ВА797 КАМАЗ,...    ООО Спарта   \n",
       "8  О327ВН790 МАN, О039ОУ790 МАN, Х194ВА797 КАМАЗ,...    ООО Спарта   \n",
       "\n",
       "                         Откуда    Покупатель Грузополучатель   \\\n",
       "0                           NaN           NaN              NaN   \n",
       "1                           NaN           NaN              NaN   \n",
       "2                           NaN           NaN              NaN   \n",
       "3                          🤷‍♂️           NaN              NaN   \n",
       "4                          🤷‍♂️           NaN              NaN   \n",
       "5                          🤷‍♂️           NaN              NaN   \n",
       "6  КПП, Солнечногорск, Люберцы            NaN              NaN   \n",
       "7  КПП, Солнечногорск, Люберцы            NaN              NaN   \n",
       "8  КПП, Солнечногорск, Люберцы   ООО \"КАНТАН\"              NaN   \n",
       "\n",
       "  Адрес грузополучателя (юрид) Адрес пункта разгрузки Контакт гп  \\\n",
       "0                          NaN                    NaN        NaN   \n",
       "1                          NaN                    NaN        NaN   \n",
       "2                          NaN                    NaN        NaN   \n",
       "3                          NaN                    NaN        NaN   \n",
       "4                          NaN                    NaN        NaN   \n",
       "5                          NaN                    NaN        NaN   \n",
       "6                          NaN                    NaN        NaN   \n",
       "7                          NaN                    NaN        NaN   \n",
       "8                          NaN                    NaN        NaN   \n",
       "\n",
       "  Примечание Иное  \n",
       "0             NaN  \n",
       "1             NaN  \n",
       "2             NaN  \n",
       "3             NaN  \n",
       "4             NaN  \n",
       "5             NaN  \n",
       "6             NaN  \n",
       "7             NaN  \n",
       "8             NaN  "
      ]
     },
     "execution_count": 294,
     "metadata": {},
     "output_type": "execute_result"
    }
   ],
   "source": [
    "df"
   ]
  },
  {
   "cell_type": "code",
   "execution_count": 75,
   "id": "9307b9f8",
   "metadata": {
    "ExecuteTime": {
     "end_time": "2024-04-30T14:05:19.558842Z",
     "start_time": "2024-04-30T14:05:19.538834Z"
    }
   },
   "outputs": [],
   "source": [
    "df.drop(df.index, inplace=True)"
   ]
  },
  {
   "cell_type": "code",
   "execution_count": 76,
   "id": "7885b13e",
   "metadata": {
    "ExecuteTime": {
     "end_time": "2024-04-30T14:05:23.947343Z",
     "start_time": "2024-04-30T14:05:23.924348Z"
    }
   },
   "outputs": [
    {
     "data": {
      "text/plain": [
       "Index(['Менеджер', 'Вид доставки', 'Дата', 'Товар', 'Примечание к Товару',\n",
       "       'Кол-во', 'Ед.изм.', 'Машина/Водитель', 'Продавец', 'Откуда',\n",
       "       'Покупатель', 'Грузополучатель ', 'Адрес грузополучателя (юрид)',\n",
       "       'Адрес пункта разгрузки', 'Контакт гп', 'Примечание Иное'],\n",
       "      dtype='object')"
      ]
     },
     "execution_count": 76,
     "metadata": {},
     "output_type": "execute_result"
    }
   ],
   "source": [
    "df.columns"
   ]
  },
  {
   "cell_type": "code",
   "execution_count": null,
   "id": "8a23897c",
   "metadata": {},
   "outputs": [],
   "source": []
  },
  {
   "cell_type": "code",
   "execution_count": null,
   "id": "7fc06616",
   "metadata": {},
   "outputs": [],
   "source": []
  },
  {
   "cell_type": "code",
   "execution_count": null,
   "id": "aefb6d50",
   "metadata": {},
   "outputs": [],
   "source": []
  },
  {
   "cell_type": "code",
   "execution_count": null,
   "id": "42ed8312",
   "metadata": {},
   "outputs": [],
   "source": [
    "patterns = [\n",
    "    # ПАО ГТС => ГТС, ПАО\n",
    "    r'^(?i)(П?АО|ООО|ГУП)(?:\\s+|\\s*\")([^\"]+)\"?',\n",
    "    \n",
    "    # ПАО Р-БАНК//ИЗМАЙЛОВ ВАЛЕРИЙ МИХАЙЛОВИЧ//РОССИЯ,МОСКВА Г Р/С в ПАО Р-БАНК г Москва => Измайлов В.\n",
    "    r'//([\\w-]+)\\s+(\\w)\\w*\\s+(?:\\w)\\w*//',\n",
    "    \n",
    "    # Индивидуальный ПРЕДПРИНИМАТЕЛЬ Логинов Андрей Николаевич => Логинов А., ИП\n",
    "    r'^(?i)(и)(?:ндивидуальный)?\\s*(п)(?:редприниматель)?\\s*(\\w+)\\s+(\\w)\\w*\\s*(\\w)?\\w*',\n",
    "    \n",
    "    # Никишкина Лидия Алексеевна (ИП) => Нокошина Л., ИП\n",
    "    r'^([\\w-]+)\\s+(\\w)\\w*\\s*(\\w)?\\w*\\s*\\((ИП)\\)$',\n",
    "    \n",
    "    # ВОРОНОВ ИЛЬЯ АНДРЕЕВИЧ => Воронов И.\n",
    "    r'([\\w-]+)\\s+(\\w)\\w*\\s+(\\w)\\w*$',\n",
    "    \n",
    "    # ООО \"ЧОП \"ОХРАННЫЕ СИСТЕМЫ\" => ОХРАННЫЕ СИСТЕМЫ, ЧОП, ООО\n",
    "    r'^([\\w-]{2,3})\\s+\"?(.*)\\s+\"(.*)\"',\n",
    "    \n",
    "    #  contains \"ФНС\": \n",
    "    r'\\w*\\s*(?i)(?:и?)\\s*(ф)(?:едеральной)?\\s*(н)(?:алоговой)?\\s*(с)(?:лужбы)?\\s*(?:россии)?\\s*\\w*\\s*', \n",
    "    \n",
    "    # ОБЩЕСТВО С ОГРАНИЧЕННОЙ ОТВЕТСТВЕННОСТЬЮ \"ЛАГ1\" => ЛАГ1, ООО\n",
    "    r'(\\w)\\w{3,}|\\\"([^\\\"]+)\\\"',\n",
    "    \n",
    "    # Межрегиональное операционное УФК (КАЗНАЧЕЙСТВО РОССИИ) => Межрегиональное операционное УФК\n",
    "    r'^.+?(?=\\s*\\()',\n",
    "]       \n",
    "\n",
    "def extract_text(row):\n",
    "    \"\"\"\n",
    "    Get string with raw title, extract necessary text by patterns and returns formatted values\n",
    "    \"\"\"\n",
    "    matches = []\n",
    "\n",
    "    for pattern in patterns:\n",
    "        match = re.findall(pattern, row)\n",
    "        matches.append(match)\n",
    "    \n",
    "    return '{}, {}, {}'.format(matches[5][0][2], matches[5][0][1], matches[5][0][0]) if matches[5] else \\\n",
    "        '{} {}.'.format(matches[1][0][0].capitalize(), matches[1][0][1]) if matches[1] else \\\n",
    "        '{}, {}'.format(matches[0][0][1], matches[0][0][0]) if matches[0] else \\\n",
    "        '{} {}.{}., {}{}'.format(matches[2][0][2].capitalize(), matches[2][0][3], matches[2][0][4], matches[2][0][0], matches[2][0][1]) if matches[2] else \\\n",
    "        '{} {}.{}., {}'.format(matches[3][0][0].capitalize(), matches[3][0][1], matches[3][0][2], matches[3][0][3]) if matches[3] else \\\n",
    "        '{}{}{}'.format(matches[6][0][0].upper(),matches[6][0][1].upper(),matches[6][0][2]).upper() if matches[6] else \\\n",
    "        '{} {}.{}.'.format(matches[4][0][0].capitalize(), matches[4][0][1], matches[4][0][2]) if matches[4] else \\\n",
    "        '{}, {}'.format([mat[1] for mat in matches[7] if mat[1]][0],\n",
    "                        ''.join(map(str, [mat[0] for mat in matches[7] if\n",
    "                                          mat[0]]))) if '\"' in row else \\\n",
    "        '{}'.format(matches[8][0]) if matches[8] else \\\n",
    "        row\n",
    "\n",
    "# creating column \"Agent\"\n",
    "df['Agent'] = np.vectorize(extract_text)(df['Full_Name'])\n",
    "df['Name'] = df['Agent'].map(lambda x: x.lower())"
   ]
  },
  {
   "cell_type": "code",
   "execution_count": 95,
   "id": "1b3cf129",
   "metadata": {
    "ExecuteTime": {
     "end_time": "2024-04-29T09:03:08.649095Z",
     "start_time": "2024-04-29T09:03:08.629538Z"
    }
   },
   "outputs": [
    {
     "name": "stdout",
     "output_type": "stream",
     "text": [
      "Fixed string: Щебень гранитный\n"
     ]
    }
   ],
   "source": [
    "def fix_typo(original, target):\n",
    "    distance = editdistance.eval(original, target)\n",
    "    if distance <= 3:  # Пороговое значение для определения опечатки\n",
    "        return target\n",
    "    else:\n",
    "        return original\n",
    "\n",
    "original = \"Щебин ранитный\"\n",
    "target = \"Щебень гранитный\"\n",
    "fixed_string = fix_typo(original, target)\n",
    "print(\"Fixed string:\", fixed_string)"
   ]
  },
  {
   "cell_type": "code",
   "execution_count": 139,
   "id": "49438967",
   "metadata": {
    "ExecuteTime": {
     "end_time": "2024-04-29T13:57:39.936043Z",
     "start_time": "2024-04-29T13:57:39.921934Z"
    }
   },
   "outputs": [
    {
     "name": "stdout",
     "output_type": "stream",
     "text": [
      "Значение после слова 'Марка:': Цем I 42.5Н Кричев\n",
      "Значение между строкой с 'Марка:' и следующим номером: nan\n"
     ]
    }
   ],
   "source": [
    "import re\n",
    "import numpy as np\n",
    "\n",
    "text = \"\"\"\n",
    "1. Дата отгрузки: 28.04.24 \n",
    "2. Марка Цем I 42.5Н Кричев\n",
    "3. Количество: 40т.\n",
    "\"\"\"\n",
    "\n",
    "# Находим значение после слова \"Марка:\" без учета регистра\n",
    "marca_match = re.search(r'Марка\\s*(цемента)?\\s*(.*?)\\n', text, re.IGNORECASE)\n",
    "marca_value = marca_match.group(2)\n",
    "\n",
    "# Находим значение между строкой с \"Марка:\" и следующим номером пункта\n",
    "# Если нет следующего номера пункта, возвращаем np.NAN\n",
    "intermediate_match = re.search(r'Марка.*?\\n(.*?)\\n\\d', text, re.IGNORECASE | re.DOTALL)\n",
    "intermediate_value = intermediate_match.group(1) if intermediate_match else np.NAN\n",
    "\n",
    "print(\"Значение после слова 'Марка:':\", marca_value)\n",
    "print(\"Значение между строкой с 'Марка:' и следующим номером:\", intermediate_value)\n"
   ]
  },
  {
   "cell_type": "code",
   "execution_count": null,
   "id": "d31ef2b8",
   "metadata": {},
   "outputs": [],
   "source": []
  },
  {
   "cell_type": "code",
   "execution_count": null,
   "id": "410fc7db",
   "metadata": {},
   "outputs": [],
   "source": []
  },
  {
   "cell_type": "code",
   "execution_count": null,
   "id": "5e3dc031",
   "metadata": {},
   "outputs": [],
   "source": []
  },
  {
   "cell_type": "code",
   "execution_count": 64,
   "id": "2c06c702",
   "metadata": {
    "ExecuteTime": {
     "end_time": "2024-04-29T14:17:24.130913Z",
     "start_time": "2024-04-29T14:17:24.114196Z"
    }
   },
   "outputs": [],
   "source": [
    "pattern = r'\\d+\\..*'\n",
    "text = \"5. Надо полис\"\n",
    "\n",
    "match = re.match( r'\\d+\\..*', text)"
   ]
  },
  {
   "cell_type": "code",
   "execution_count": 65,
   "id": "ac9dea62",
   "metadata": {
    "ExecuteTime": {
     "end_time": "2024-04-29T14:17:24.474352Z",
     "start_time": "2024-04-29T14:17:24.464212Z"
    }
   },
   "outputs": [
    {
     "data": {
      "text/plain": [
       "'5. Надо полис'"
      ]
     },
     "execution_count": 65,
     "metadata": {},
     "output_type": "execute_result"
    }
   ],
   "source": [
    "match[0]"
   ]
  },
  {
   "cell_type": "code",
   "execution_count": 83,
   "id": "784292c6",
   "metadata": {
    "ExecuteTime": {
     "end_time": "2024-04-29T14:24:05.496263Z",
     "start_time": "2024-04-29T14:24:05.480264Z"
    }
   },
   "outputs": [
    {
     "data": {
      "text/plain": [
       "NoneType"
      ]
     },
     "execution_count": 83,
     "metadata": {},
     "output_type": "execute_result"
    }
   ],
   "source": [
    "type(re.match(r'^[^0-9.].*', \"5. Надо полис\"))"
   ]
  },
  {
   "cell_type": "code",
   "execution_count": 67,
   "id": "cc69eaba",
   "metadata": {
    "ExecuteTime": {
     "end_time": "2024-04-30T06:14:29.100704Z",
     "start_time": "2024-04-30T06:14:29.093392Z"
    }
   },
   "outputs": [
    {
     "name": "stdout",
     "output_type": "stream",
     "text": [
      "тю.\n",
      "\n"
     ]
    }
   ],
   "source": [
    "import re\n",
    "\n",
    "text=\"\"\"\n",
    "2. Марка: ЦЕМ I 42,5н БЦЗ Костюковичи \n",
    "Машина с пломбами и актуальными паспортами \n",
    "3. Количество: 40 тю.\n",
    "4. Продажа от: ООО \"Спарта\"\n",
    "\"\"\"\n",
    "\n",
    "# Ищем строку, содержащую \"Количество:\"\n",
    "match = re.search(r'(?i)кол(-|ичест)?во\\s*(:)?\\s*(\\d+)\\s*(\\D+)\\s*', text)\n",
    "# Если найдено соответствие, выводим символы после числа в этой строке\n",
    "if match:\n",
    "    print(match.group(4))\n"
   ]
  },
  {
   "cell_type": "code",
   "execution_count": 83,
   "id": "5ca1629f",
   "metadata": {
    "ExecuteTime": {
     "end_time": "2024-04-30T06:22:39.452571Z",
     "start_time": "2024-04-30T06:22:39.426572Z"
    }
   },
   "outputs": [
    {
     "name": "stdout",
     "output_type": "stream",
     "text": [
      "т\n",
      "\n"
     ]
    }
   ],
   "source": [
    "import re\n",
    "\n",
    "def find_unit(text):\n",
    "    # Находим значение после слова \"Количество/кол-во:\" без учета регистра    \n",
    "    unit_match = re.search(r'(?i)кол(-|ичест)?во\\s*(:)?\\s*\\d+\\s*(\\D+)\\s*', text)\n",
    "    unit = unit_match.group(3) if unit_match else None\n",
    "    \n",
    "    return unit\n",
    "\n",
    "appl = \"\"\"\n",
    "Юра Менеджер:\n",
    "1. Дата отгрузки:\n",
    "26.04                    \n",
    "2. От ООО Спарта\n",
    "3. Марка: Щебень гранитный 5-20(ЛСР)\n",
    "Обязательно актуальный паспорт!\n",
    "4. Покупатель ООО НВЛ ГРУП\n",
    "5. Бетас \n",
    "6.  Количество: 120т\n",
    "7. Машина: \n",
    "О327ВН790 МАN\n",
    "\"\"\"\n",
    "\n",
    "print(find_unit(appl))\n"
   ]
  },
  {
   "cell_type": "code",
   "execution_count": 150,
   "id": "8071a1e0",
   "metadata": {
    "ExecuteTime": {
     "end_time": "2024-04-30T13:03:32.120423Z",
     "start_time": "2024-04-30T13:03:32.100406Z"
    }
   },
   "outputs": [
    {
     "name": "stdout",
     "output_type": "stream",
     "text": [
      "['О327ВН790 МАN', 'О039ОУ790 МАN', 'х194ВА797 КАМАЗ', 'В683СН790 МАN', 'К702ОС797 Куряев']\n"
     ]
    }
   ],
   "source": [
    "import re\n",
    "\n",
    "text=\"\"\"\n",
    "4. Покупатель ООО НВЛ ГРУП\n",
    "5. Бетас \n",
    "6.  Количество 120т\n",
    "7. Машина: \n",
    "О327ВН790 МАN\n",
    "О039ОУ790 МАN,\n",
    "х194ВА797 КАМАЗ\n",
    "В683СН790 МАN\n",
    "К702ОС797 Куряев\n",
    "\"\"\"\n",
    "\n",
    "car_numbers = re.findall(r'(?i)[А-Я]{1}\\d{3}[А-Я]{2}\\d{3}\\s*\\w*', text)\n",
    "\n",
    "print(car_numbers)\n"
   ]
  },
  {
   "cell_type": "code",
   "execution_count": 170,
   "id": "1f7ba27c",
   "metadata": {
    "ExecuteTime": {
     "end_time": "2024-04-30T13:24:24.396258Z",
     "start_time": "2024-04-30T13:24:24.367254Z"
    }
   },
   "outputs": [
    {
     "name": "stdout",
     "output_type": "stream",
     "text": [
      "        col_name\n",
      "0  abc, def, ghi\n"
     ]
    }
   ],
   "source": [
    "import pandas as pd\n",
    "\n",
    "# Создание DataFrame с вашим списком в одной из ячеек\n",
    "df = pd.DataFrame({'col_name': [['abc', 'def', 'ghi']]})\n",
    "\n",
    "# Применение метода str.join() к списку в ячейке и замена значения ячейки\n",
    "df['col_name'] = df['col_name'].apply(lambda x: ', '.join(x))\n",
    "\n",
    "# Вывод измененного DataFrame\n",
    "print(df)\n"
   ]
  },
  {
   "cell_type": "code",
   "execution_count": 171,
   "id": "0ea1019e",
   "metadata": {
    "ExecuteTime": {
     "end_time": "2024-04-30T13:25:23.267719Z",
     "start_time": "2024-04-30T13:25:23.257482Z"
    }
   },
   "outputs": [],
   "source": [
    "df = pd.DataFrame({'col_name': [['abc', 'def', 'ghi']]})"
   ]
  },
  {
   "cell_type": "code",
   "execution_count": 173,
   "id": "72ec4969",
   "metadata": {
    "ExecuteTime": {
     "end_time": "2024-04-30T13:25:29.121522Z",
     "start_time": "2024-04-30T13:25:29.099529Z"
    }
   },
   "outputs": [
    {
     "data": {
      "text/html": [
       "<div>\n",
       "<style scoped>\n",
       "    .dataframe tbody tr th:only-of-type {\n",
       "        vertical-align: middle;\n",
       "    }\n",
       "\n",
       "    .dataframe tbody tr th {\n",
       "        vertical-align: top;\n",
       "    }\n",
       "\n",
       "    .dataframe thead th {\n",
       "        text-align: right;\n",
       "    }\n",
       "</style>\n",
       "<table border=\"1\" class=\"dataframe\">\n",
       "  <thead>\n",
       "    <tr style=\"text-align: right;\">\n",
       "      <th></th>\n",
       "      <th>col_name</th>\n",
       "    </tr>\n",
       "  </thead>\n",
       "  <tbody>\n",
       "    <tr>\n",
       "      <th>0</th>\n",
       "      <td>[abc, def, ghi]</td>\n",
       "    </tr>\n",
       "  </tbody>\n",
       "</table>\n",
       "</div>"
      ],
      "text/plain": [
       "          col_name\n",
       "0  [abc, def, ghi]"
      ]
     },
     "execution_count": 173,
     "metadata": {},
     "output_type": "execute_result"
    }
   ],
   "source": [
    "df"
   ]
  },
  {
   "cell_type": "code",
   "execution_count": 121,
   "id": "b0a77b82",
   "metadata": {
    "ExecuteTime": {
     "end_time": "2024-04-30T16:07:58.955112Z",
     "start_time": "2024-04-30T16:07:58.938083Z"
    }
   },
   "outputs": [
    {
     "name": "stdout",
     "output_type": "stream",
     "text": [
      "Покупатель ООО НВЛ ГРУП\n"
     ]
    }
   ],
   "source": [
    "import re\n",
    "\n",
    "text = \"5. Покупатель ООО НВЛ ГРУП\\n5\"\n",
    "\n",
    "result = re.search(r'\\d+\\.\\s(.+?)\\n', text, re.DOTALL)\n",
    "if result:\n",
    "    extracted_text = result.group(1)\n",
    "    print(extracted_text)\n"
   ]
  },
  {
   "cell_type": "code",
   "execution_count": null,
   "id": "977f4a05",
   "metadata": {},
   "outputs": [],
   "source": []
  }
 ],
 "metadata": {
  "kernelspec": {
   "display_name": "Python 3 (ipykernel)",
   "language": "python",
   "name": "python3"
  },
  "language_info": {
   "codemirror_mode": {
    "name": "ipython",
    "version": 3
   },
   "file_extension": ".py",
   "mimetype": "text/x-python",
   "name": "python",
   "nbconvert_exporter": "python",
   "pygments_lexer": "ipython3",
   "version": "3.9.12"
  }
 },
 "nbformat": 4,
 "nbformat_minor": 5
}
