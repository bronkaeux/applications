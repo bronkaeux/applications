{
 "cells": [
  {
   "cell_type": "code",
   "execution_count": 1,
   "id": "0f6a85e6",
   "metadata": {
    "ExecuteTime": {
     "end_time": "2024-04-30T13:29:27.252380Z",
     "start_time": "2024-04-30T13:29:25.078924Z"
    }
   },
   "outputs": [],
   "source": [
    "import pandas as pd\n",
    "import numpy as np\n",
    "import openpyxl as ox\n",
    "import re\n",
    "import editdistance\n",
    "from datetime import datetime"
   ]
  },
  {
   "cell_type": "code",
   "execution_count": 635,
   "id": "616d8023",
   "metadata": {
    "ExecuteTime": {
     "end_time": "2024-05-02T04:50:02.482322Z",
     "start_time": "2024-05-02T04:50:02.437254Z"
    }
   },
   "outputs": [],
   "source": [
    "# надо ли переделать на создание без извлечения из иксель?\n",
    "df = pd.DataFrame(columns=['Менеджер', 'Вид доставки', 'Дата', 'Товар', 'Примечание к Товару', \n",
    "                           'Кол-во', 'Ед.изм.', 'Машина/Водитель','Продавец', 'Откуда', \n",
    "                           'Покупатель', 'Грузополучатель', 'Адрес грузополучателя (юрид)', \n",
    "                           'Адрес пункта разгрузки', 'Контакт гп','Время приемки',\n",
    "                          ])\n"
   ]
  },
  {
   "cell_type": "code",
   "execution_count": 381,
   "id": "68fc2d96",
   "metadata": {
    "ExecuteTime": {
     "end_time": "2024-05-01T06:47:51.842568Z",
     "start_time": "2024-05-01T06:47:51.819330Z"
    }
   },
   "outputs": [
    {
     "data": {
      "text/html": [
       "<div>\n",
       "<style scoped>\n",
       "    .dataframe tbody tr th:only-of-type {\n",
       "        vertical-align: middle;\n",
       "    }\n",
       "\n",
       "    .dataframe tbody tr th {\n",
       "        vertical-align: top;\n",
       "    }\n",
       "\n",
       "    .dataframe thead th {\n",
       "        text-align: right;\n",
       "    }\n",
       "</style>\n",
       "<table border=\"1\" class=\"dataframe\">\n",
       "  <thead>\n",
       "    <tr style=\"text-align: right;\">\n",
       "      <th></th>\n",
       "      <th>Менеджер</th>\n",
       "      <th>Вид доставки</th>\n",
       "      <th>Дата</th>\n",
       "      <th>Товар</th>\n",
       "      <th>Примечание к Товару</th>\n",
       "      <th>Кол-во</th>\n",
       "      <th>Ед.изм.</th>\n",
       "      <th>Машина/Водитель</th>\n",
       "      <th>Продавец</th>\n",
       "      <th>Откуда</th>\n",
       "      <th>Покупатель</th>\n",
       "      <th>Грузополучатель</th>\n",
       "      <th>Адрес грузополучателя (юрид)</th>\n",
       "      <th>Адрес пункта разгрузки</th>\n",
       "      <th>Контакт гп</th>\n",
       "      <th>Примечание Иное</th>\n",
       "    </tr>\n",
       "  </thead>\n",
       "  <tbody>\n",
       "  </tbody>\n",
       "</table>\n",
       "</div>"
      ],
      "text/plain": [
       "Empty DataFrame\n",
       "Columns: [Менеджер, Вид доставки, Дата, Товар, Примечание к Товару, Кол-во, Ед.изм., Машина/Водитель, Продавец, Откуда, Покупатель, Грузополучатель, Адрес грузополучателя (юрид), Адрес пункта разгрузки, Контакт гп, Примечание Иное]\n",
       "Index: []"
      ]
     },
     "execution_count": 381,
     "metadata": {},
     "output_type": "execute_result"
    }
   ],
   "source": [
    "df"
   ]
  },
  {
   "cell_type": "code",
   "execution_count": 4,
   "id": "adee0e96",
   "metadata": {
    "ExecuteTime": {
     "end_time": "2024-04-30T13:29:29.538225Z",
     "start_time": "2024-04-30T13:29:29.439621Z"
    }
   },
   "outputs": [],
   "source": [
    "managers = pd.read_excel(\"dictionary.xlsx\", sheet_name=\"managers\")\n",
    "products = pd.read_excel(\"dictionary.xlsx\", sheet_name=\"products\")\n",
    "units = pd.read_excel(\"dictionary.xlsx\", sheet_name=\"units\")\n",
    "unload_addresses = pd.read_excel(\"dictionary.xlsx\", sheet_name=\"unload_addresses\")"
   ]
  },
  {
   "cell_type": "code",
   "execution_count": 125,
   "id": "b89e7f23",
   "metadata": {
    "ExecuteTime": {
     "end_time": "2024-04-29T09:27:56.136692Z",
     "start_time": "2024-04-29T09:27:56.118311Z"
    }
   },
   "outputs": [],
   "source": [
    "# managers = pd.DataFrame({'login': ['ИГО', 'Юра Менеджер', 'Алексей Мельхер'],\n",
    "#                         'manager': ['Игорь Хабаров', 'Юрий', 'Алексей Мельхер']})"
   ]
  },
  {
   "cell_type": "code",
   "execution_count": 539,
   "id": "679111c2",
   "metadata": {
    "ExecuteTime": {
     "end_time": "2024-05-01T15:51:10.916486Z",
     "start_time": "2024-05-01T15:51:10.889431Z"
    }
   },
   "outputs": [],
   "source": [
    "# units = pd.DataFrame({'data': ['т', 'т.', 'тн', 'тонн', 'кубов'],\n",
    "#                         'unit': ['т', 'т', 'т', 'т', 'куб']})"
   ]
  },
  {
   "cell_type": "code",
   "execution_count": 126,
   "id": "f44a154d",
   "metadata": {
    "ExecuteTime": {
     "end_time": "2024-04-29T09:27:56.414099Z",
     "start_time": "2024-04-29T09:27:56.404527Z"
    }
   },
   "outputs": [],
   "source": [
    "# products = pd.Series(data=['ЦЕМ I 42.5Н БЦК','Щебень гранитный 5-20 (ЛСР)','ЦЕМ I 42.5Н Костюковичи',\n",
    "#                                'ЦЕМ I 42.5Н БЦЗ Костюковичи', 'ЦЕМ I 42.5Н', 'ПЕСКОГРУНТ'], name='product')"
   ]
  },
  {
   "cell_type": "code",
   "execution_count": 536,
   "id": "a400961c",
   "metadata": {
    "ExecuteTime": {
     "end_time": "2024-05-01T15:46:32.792564Z",
     "start_time": "2024-05-01T15:46:32.779573Z"
    }
   },
   "outputs": [],
   "source": [
    "# unload_addresses = pd.DataFrame({'pattern1': ['Бетонная индустрия', 'Бетон Строй', 'МСУ-1', 'БетонПром', \n",
    "#                                            'Сибирский элемент Рента', 'КАНТАН', 'М Бетон', '\"ТД\"Цемент'], \n",
    "#                         'pattern2': ['Одинцово', 'Солнечногорск', 'Бескудниковский', 'Октябрьский', 'Обухово', \n",
    "#                                      'Соколовское', 'Очаковское','Голицыно'],\n",
    "#                         'address': ['Одинцово. Кобяковская. Краснознаменск.', \n",
    "#                                     'город Солнечногорск, ул. Промышленная 1б ', \n",
    "#                                     'Москва, Бескудниковский бульвар, 52к1',\n",
    "#                                     'Октябрьский, улица Старый двор, промзона',\n",
    "#                                     'Калужская обл., Дзержинский р-н, д. Обухово 1Б',\n",
    "#                                     'Московская обл., территориальное упр-е Соколовское, г.о. Солнечногорск',\n",
    "#                                     'Москва г, Очаковское ш., дом 5А, въезд с проезда Стройкомбината',\n",
    "#                                     'Голицыно, Можайское ш., 81, РБУ'\n",
    "#                                    ],\n",
    "#                               })"
   ]
  },
  {
   "cell_type": "code",
   "execution_count": 540,
   "id": "40c8cc2d",
   "metadata": {
    "ExecuteTime": {
     "end_time": "2024-05-01T15:52:06.032012Z",
     "start_time": "2024-05-01T15:52:05.939399Z"
    }
   },
   "outputs": [],
   "source": [
    "with pd.ExcelWriter(\"dictionary.xlsx\") as writer:\n",
    "    managers.to_excel(writer, sheet_name=\"managers\", index=False)\n",
    "    products.to_excel(writer, sheet_name=\"products\", index=False)\n",
    "    units.to_excel(writer, sheet_name=\"units\", index=False)\n",
    "    unload_addresses.to_excel(writer, sheet_name=\"unload_addresses\", index=False)"
   ]
  },
  {
   "cell_type": "code",
   "execution_count": 554,
   "id": "68ca3a70",
   "metadata": {
    "ExecuteTime": {
     "end_time": "2024-05-01T16:06:24.198108Z",
     "start_time": "2024-05-01T16:06:24.184938Z"
    }
   },
   "outputs": [
    {
     "data": {
      "text/plain": [
       "0                ЦЕМI42.5НБЦК\n",
       "1    Щебеньгранитный5-20(ЛСР)\n",
       "2        ЦЕМI42.5НКостюковичи\n",
       "3     ЦЕМI42.5НБЦЗКостюковичи\n",
       "4                   ЦЕМI42.5Н\n",
       "5                  ПЕСКОГРУНТ\n",
       "6             ЦемI42.5НКричев\n",
       "7           ЦЕМI42.5НБеларусь\n",
       "Name: product, dtype: object"
      ]
     },
     "execution_count": 554,
     "metadata": {},
     "output_type": "execute_result"
    }
   ],
   "source": [
    "products['product'].str.replace(' ', '').replace('.', '')"
   ]
  },
  {
   "cell_type": "markdown",
   "id": "3046eb4f",
   "metadata": {},
   "source": [
    "## Text"
   ]
  },
  {
   "cell_type": "code",
   "execution_count": 719,
   "id": "e539e43d",
   "metadata": {
    "ExecuteTime": {
     "end_time": "2024-05-02T05:02:11.252414Z",
     "start_time": "2024-05-02T05:02:11.235370Z"
    }
   },
   "outputs": [],
   "source": [
    "appl = \"\"\"\n",
    "ИГО:\n",
    "Заявка на доставку\n",
    "1. Дата отгрузки на 26.04\n",
    "2. Марка цемента ЦЕМ I 42,5н\n",
    "Сертификаты!\n",
    "3. Количество 35 тонн \n",
    "4. Продажа от ООО \"Спарта\"\n",
    "5. С Солнечногорска  \n",
    "6. Покупатель ООО \"Бетон Строй»\n",
    "7. Грузополучатель ООО \"Бетон Строй»\n",
    "8. Адрес город Солнечногорск, ул. Промышленная 1б \n",
    "+79232208000\n",
    "+74959242828\n",
    "Дебет оплата 250\n",
    "У162ХК750 MAN\n",
    "Х240ВА797 КАМАЗ\n",
    "А215УХ750 МAN\n",
    "8. Адрес грузополучателя (юрид): 249850, Калужская обл., Дзержинский р-н, д. Обуховской, д 1Б. \n",
    "8. Время приёмки: с 9.00 до 20.00\n",
    "\"\"\""
   ]
  },
  {
   "cell_type": "code",
   "execution_count": 661,
   "id": "3cee55cb",
   "metadata": {
    "ExecuteTime": {
     "end_time": "2024-05-02T04:58:42.411522Z",
     "start_time": "2024-05-02T04:58:42.392141Z"
    }
   },
   "outputs": [],
   "source": [
    "# Используем регулярное выражение для поиска даты в формате dd.mm.yyyy\n",
    "date_pattern = r'\\b\\d{2}\\.\\d{2}(?:\\.\\d{2}(?:\\d{2})?)?\\b'\n",
    "\n",
    "# Находим все совпадения с помощью метода findall\n",
    "dates = re.findall(date_pattern, appl)"
   ]
  },
  {
   "cell_type": "markdown",
   "id": "2809b960",
   "metadata": {},
   "source": [
    "## Check"
   ]
  },
  {
   "cell_type": "code",
   "execution_count": 662,
   "id": "8b01e40e",
   "metadata": {
    "ExecuteTime": {
     "end_time": "2024-05-02T04:58:43.222052Z",
     "start_time": "2024-05-02T04:58:43.206537Z"
    }
   },
   "outputs": [
    {
     "data": {
      "text/plain": [
       "['26.04']"
      ]
     },
     "execution_count": 662,
     "metadata": {},
     "output_type": "execute_result"
    }
   ],
   "source": [
    "dates"
   ]
  },
  {
   "cell_type": "code",
   "execution_count": 663,
   "id": "b64df0b8",
   "metadata": {
    "ExecuteTime": {
     "end_time": "2024-05-02T04:58:43.796971Z",
     "start_time": "2024-05-02T04:58:43.773786Z"
    }
   },
   "outputs": [],
   "source": [
    "# функция для форматирования даты в установленный формат\n",
    "def convert_to_full_year(date_str):\n",
    "    current_year = datetime.now().year\n",
    "    parts = date_str.split('.')\n",
    "    \n",
    "    # Пытаемся интерпретировать дату\n",
    "    try:\n",
    "        # Если в строке только две части, добавляем текущий год\n",
    "        if len(parts) == 2:\n",
    "            date_str += f\".{current_year}\"\n",
    "        \n",
    "        # Пробуем преобразовать строку в дату\n",
    "        datetime_obj = datetime.strptime(date_str, '%d.%m.%Y')\n",
    "    except ValueError:\n",
    "        # Если возникает ошибка, попробуем считать год в формате yy\n",
    "        try:\n",
    "            datetime_obj = datetime.strptime(date_str, '%d.%m.%y')\n",
    "        except ValueError:\n",
    "            # Если и это не сработает, возможно, формат даты неизвестен\n",
    "            raise ValueError(\"Неподдерживаемый формат даты\")\n",
    "    \n",
    "    # Возвращаем дату в формате dd.mm.yyyy\n",
    "    return datetime_obj.strftime('%d.%m.%Y')"
   ]
  },
  {
   "cell_type": "code",
   "execution_count": 664,
   "id": "391e029d",
   "metadata": {
    "ExecuteTime": {
     "end_time": "2024-05-02T04:58:44.422077Z",
     "start_time": "2024-05-02T04:58:44.397254Z"
    }
   },
   "outputs": [],
   "source": [
    "# конвертируем ПОКА ЧТО для одной даты\n",
    "convert_date = convert_to_full_year(dates[0])"
   ]
  },
  {
   "cell_type": "markdown",
   "id": "5247cd10",
   "metadata": {},
   "source": [
    "## Check"
   ]
  },
  {
   "cell_type": "code",
   "execution_count": 665,
   "id": "9f313ea3",
   "metadata": {
    "ExecuteTime": {
     "end_time": "2024-05-02T04:58:45.111290Z",
     "start_time": "2024-05-02T04:58:45.101330Z"
    }
   },
   "outputs": [
    {
     "data": {
      "text/plain": [
       "'26.04.2024'"
      ]
     },
     "execution_count": 665,
     "metadata": {},
     "output_type": "execute_result"
    }
   ],
   "source": [
    "convert_date"
   ]
  },
  {
   "cell_type": "code",
   "execution_count": 666,
   "id": "6d1df367",
   "metadata": {
    "ExecuteTime": {
     "end_time": "2024-05-02T04:58:45.841364Z",
     "start_time": "2024-05-02T04:58:45.826851Z"
    }
   },
   "outputs": [],
   "source": [
    "def find_manager(text, managers_df):\n",
    "    # Проходим по каждому логину менеджера\n",
    "    for index, row in managers_df.iterrows():\n",
    "        login = row['login']\n",
    "        manager = row['manager']\n",
    "        \n",
    "        # Проверяем совпадение по колонке 'login'\n",
    "        if login.lower().replace(' ', '') in text.lower().replace(' ', ''):\n",
    "            return manager\n",
    "    return np.NAN\n",
    "\n"
   ]
  },
  {
   "cell_type": "code",
   "execution_count": 667,
   "id": "3cdcec83",
   "metadata": {
    "ExecuteTime": {
     "end_time": "2024-05-02T04:58:47.590970Z",
     "start_time": "2024-05-02T04:58:47.569388Z"
    }
   },
   "outputs": [],
   "source": [
    "manager_found = find_manager(appl, managers)"
   ]
  },
  {
   "cell_type": "code",
   "execution_count": 668,
   "id": "9f17e112",
   "metadata": {
    "ExecuteTime": {
     "end_time": "2024-05-02T04:58:48.634186Z",
     "start_time": "2024-05-02T04:58:48.615191Z"
    }
   },
   "outputs": [
    {
     "data": {
      "text/plain": [
       "'Игорь Хабаров'"
      ]
     },
     "execution_count": 668,
     "metadata": {},
     "output_type": "execute_result"
    }
   ],
   "source": [
    "manager_found"
   ]
  },
  {
   "cell_type": "code",
   "execution_count": 669,
   "id": "4d6b9366",
   "metadata": {
    "ExecuteTime": {
     "end_time": "2024-05-02T04:58:49.908064Z",
     "start_time": "2024-05-02T04:58:49.894066Z"
    }
   },
   "outputs": [],
   "source": [
    "def delivery_type(text):\n",
    "    if \"самовывоз\" in text.lower():\n",
    "        return \"самовывоз\"\n",
    "    return \"доставка\""
   ]
  },
  {
   "cell_type": "code",
   "execution_count": 670,
   "id": "2f093c5b",
   "metadata": {
    "ExecuteTime": {
     "end_time": "2024-05-02T04:58:50.250413Z",
     "start_time": "2024-05-02T04:58:50.237396Z"
    }
   },
   "outputs": [],
   "source": [
    "delivery_found = delivery_type(appl)"
   ]
  },
  {
   "cell_type": "code",
   "execution_count": 671,
   "id": "63c9f490",
   "metadata": {
    "ExecuteTime": {
     "end_time": "2024-05-02T04:58:51.172963Z",
     "start_time": "2024-05-02T04:58:51.160947Z"
    }
   },
   "outputs": [
    {
     "data": {
      "text/plain": [
       "'доставка'"
      ]
     },
     "execution_count": 671,
     "metadata": {},
     "output_type": "execute_result"
    }
   ],
   "source": [
    "delivery_found"
   ]
  },
  {
   "cell_type": "code",
   "execution_count": 209,
   "id": "a125eea4",
   "metadata": {
    "ExecuteTime": {
     "end_time": "2024-04-30T16:21:17.935484Z",
     "start_time": "2024-04-30T16:21:17.928530Z"
    }
   },
   "outputs": [],
   "source": [
    "# def find_product(text, product_df):\n",
    "#     \"\"\"\n",
    "#     Функция для поиска товара по тексту и датафрейму с видами товара.\n",
    "\n",
    "#     Аргументы:\n",
    "#     text (str): Текст для поиска товара.\n",
    "#     product_df (pandas.DataFrame): Датафрейм с колонками 'login' и 'manager',\n",
    "#                                      содержащий информацию о менеджерах.\n",
    "\n",
    "#     Возвращает:\n",
    "#     str: Имя менеджера, если совпадение найдено, иначе сообщение о том, что совпадений не найдено.\n",
    "#     \"\"\"\n",
    "#     # Проходим по каждому логину менеджера\n",
    "#     for index, row in product_df.iterrows():\n",
    "#         product = row['product']\n",
    "#         # Проверяем совпадение по колонке 'login'\n",
    "#         if product.lower().replace(' ', '') in text.lower().replace(' ', ''):\n",
    "#             return product\n",
    "#     # Если совпадений не найдено\n",
    "#     return np.NAN"
   ]
  },
  {
   "cell_type": "code",
   "execution_count": 210,
   "id": "f52a40be",
   "metadata": {
    "ExecuteTime": {
     "end_time": "2024-04-30T16:21:18.258750Z",
     "start_time": "2024-04-30T16:21:18.250753Z"
    }
   },
   "outputs": [],
   "source": [
    "# product_found = find_product(appl, products)"
   ]
  },
  {
   "cell_type": "code",
   "execution_count": 211,
   "id": "f28bc893",
   "metadata": {
    "ExecuteTime": {
     "end_time": "2024-04-30T16:21:18.570068Z",
     "start_time": "2024-04-30T16:21:18.552008Z"
    }
   },
   "outputs": [],
   "source": [
    "# product_found"
   ]
  },
  {
   "cell_type": "code",
   "execution_count": 678,
   "id": "19026552",
   "metadata": {
    "ExecuteTime": {
     "end_time": "2024-05-02T04:59:18.255309Z",
     "start_time": "2024-05-02T04:59:18.243305Z"
    }
   },
   "outputs": [],
   "source": [
    "def find_product(text):\n",
    "    # Находим значение после слова \"Марка:\" без учета регистра\n",
    "    marca_match = re.search(r'(?i)Марка(:)?\\s*(цемента)?\\s*(.*?)\\n', text)\n",
    "    marca_value = marca_match.group(3) if marca_match else np.NAN\n",
    "\n",
    "    return marca_value\n",
    "    \n",
    "def find_product_notice(text):    \n",
    "    # Находим значение между строкой с \"Марка:\" и следующим номером пункта\n",
    "    # Если нет следующего номера пункта, возвращаем np.NAN\n",
    "  \n",
    "    intermediate_match = re.search(r'(?i)Марка.*?\\n(.*?)\\n\\d', text, re.DOTALL)\n",
    "    intermediate_value = intermediate_match.group(1) if intermediate_match else np.NAN\n",
    "    \n",
    "    if re.match(r'^[^0-9.].*', intermediate_value):\n",
    "        return intermediate_value\n",
    "    else:\n",
    "        np.NAN"
   ]
  },
  {
   "cell_type": "code",
   "execution_count": 679,
   "id": "3f53fb22",
   "metadata": {
    "ExecuteTime": {
     "end_time": "2024-05-02T04:59:18.537522Z",
     "start_time": "2024-05-02T04:59:18.523632Z"
    }
   },
   "outputs": [],
   "source": [
    "product_found = find_product(appl)"
   ]
  },
  {
   "cell_type": "code",
   "execution_count": 680,
   "id": "13105fa7",
   "metadata": {
    "ExecuteTime": {
     "end_time": "2024-05-02T04:59:18.836321Z",
     "start_time": "2024-05-02T04:59:18.815735Z"
    }
   },
   "outputs": [],
   "source": [
    "product_notice_found = find_product_notice(appl)"
   ]
  },
  {
   "cell_type": "markdown",
   "id": "f3a7e976",
   "metadata": {},
   "source": [
    "## Check"
   ]
  },
  {
   "cell_type": "code",
   "execution_count": 681,
   "id": "6afcd468",
   "metadata": {
    "ExecuteTime": {
     "end_time": "2024-05-02T04:59:19.416106Z",
     "start_time": "2024-05-02T04:59:19.398099Z"
    }
   },
   "outputs": [
    {
     "data": {
      "text/plain": [
       "'ЦЕМ I 42,5н'"
      ]
     },
     "execution_count": 681,
     "metadata": {},
     "output_type": "execute_result"
    }
   ],
   "source": [
    "product_found"
   ]
  },
  {
   "cell_type": "code",
   "execution_count": 682,
   "id": "596956f0",
   "metadata": {
    "ExecuteTime": {
     "end_time": "2024-05-02T04:59:19.835323Z",
     "start_time": "2024-05-02T04:59:19.824784Z"
    }
   },
   "outputs": [
    {
     "data": {
      "text/plain": [
       "'Сертификаты!'"
      ]
     },
     "execution_count": 682,
     "metadata": {},
     "output_type": "execute_result"
    }
   ],
   "source": [
    "product_notice_found"
   ]
  },
  {
   "cell_type": "code",
   "execution_count": 683,
   "id": "bb5b2c92",
   "metadata": {
    "ExecuteTime": {
     "end_time": "2024-05-02T04:59:23.374909Z",
     "start_time": "2024-05-02T04:59:23.359910Z"
    }
   },
   "outputs": [],
   "source": [
    "def find_quantity(text):\n",
    "    # Находим значение после слова \"Количество/кол-во:\" без учета регистра    \n",
    "    quantity_match = re.search(r'(?i)кол(\\s*-\\s*|ичест)?во\\s*(:)?\\s*(\\d+)', text)\n",
    "    quantity = int(quantity_match.group(3)) if quantity_match else np.NAN\n",
    "    \n",
    "    return quantity"
   ]
  },
  {
   "cell_type": "code",
   "execution_count": 684,
   "id": "d5808d65",
   "metadata": {
    "ExecuteTime": {
     "end_time": "2024-05-02T04:59:23.669440Z",
     "start_time": "2024-05-02T04:59:23.655448Z"
    }
   },
   "outputs": [],
   "source": [
    "quantity_found = find_quantity(appl)"
   ]
  },
  {
   "cell_type": "code",
   "execution_count": 685,
   "id": "4b40ed00",
   "metadata": {
    "ExecuteTime": {
     "end_time": "2024-05-02T04:59:23.979971Z",
     "start_time": "2024-05-02T04:59:23.966581Z"
    }
   },
   "outputs": [
    {
     "data": {
      "text/plain": [
       "35"
      ]
     },
     "execution_count": 685,
     "metadata": {},
     "output_type": "execute_result"
    }
   ],
   "source": [
    "quantity_found"
   ]
  },
  {
   "cell_type": "code",
   "execution_count": 686,
   "id": "b13eee04",
   "metadata": {
    "ExecuteTime": {
     "end_time": "2024-05-02T04:59:25.292857Z",
     "start_time": "2024-05-02T04:59:25.276008Z"
    }
   },
   "outputs": [],
   "source": [
    "def find_unit_note(text):\n",
    "    # Находим значение после слова \"Количество/кол-во:\" без учета регистра    \n",
    "    unit_match = re.search(r'(?i)кол(-|ичест)?во\\s*(:)?\\s*(\\d+)\\s*(\\D+)\\s*', text)\n",
    "    unit = unit_match.group(4).strip() if unit_match else np.NAN\n",
    "    \n",
    "    return unit"
   ]
  },
  {
   "cell_type": "code",
   "execution_count": 687,
   "id": "b8e9882c",
   "metadata": {
    "ExecuteTime": {
     "end_time": "2024-05-02T04:59:26.003963Z",
     "start_time": "2024-05-02T04:59:25.988899Z"
    }
   },
   "outputs": [],
   "source": [
    "unit_note_found = find_unit_note(appl)"
   ]
  },
  {
   "cell_type": "code",
   "execution_count": 688,
   "id": "e5bee03c",
   "metadata": {
    "ExecuteTime": {
     "end_time": "2024-05-02T04:59:26.284111Z",
     "start_time": "2024-05-02T04:59:26.257093Z"
    }
   },
   "outputs": [],
   "source": [
    "unit_found = units.loc[units[units['data']==unit_note_found].index[0], 'unit']"
   ]
  },
  {
   "cell_type": "code",
   "execution_count": 693,
   "id": "2a1d38e5",
   "metadata": {
    "ExecuteTime": {
     "end_time": "2024-05-02T05:00:04.126328Z",
     "start_time": "2024-05-02T05:00:04.114264Z"
    }
   },
   "outputs": [],
   "source": [
    "def find_car(text):\n",
    "    \n",
    "    car_match = re.findall(r'(?i)[А-Я]{1}\\d{3}[А-Я]{2}\\d{3}\\s*\\w*', text)\n",
    "    cars = car_match if car_match else np.NAN\n",
    "    \n",
    "    return cars"
   ]
  },
  {
   "cell_type": "code",
   "execution_count": 694,
   "id": "7593e0a7",
   "metadata": {
    "ExecuteTime": {
     "end_time": "2024-05-02T05:00:04.362462Z",
     "start_time": "2024-05-02T05:00:04.352191Z"
    }
   },
   "outputs": [],
   "source": [
    "cars_found = ', '.join(find_car(appl)) if find_car(appl) is not np.NAN else np.NAN"
   ]
  },
  {
   "cell_type": "code",
   "execution_count": 695,
   "id": "5252b274",
   "metadata": {
    "ExecuteTime": {
     "end_time": "2024-05-02T05:00:04.889221Z",
     "start_time": "2024-05-02T05:00:04.873196Z"
    }
   },
   "outputs": [
    {
     "data": {
      "text/plain": [
       "'У162ХК750 MAN, Х240ВА797 КАМАЗ, А215УХ750 МAN'"
      ]
     },
     "execution_count": 695,
     "metadata": {},
     "output_type": "execute_result"
    }
   ],
   "source": [
    "cars_found"
   ]
  },
  {
   "cell_type": "code",
   "execution_count": 696,
   "id": "d08394e7",
   "metadata": {
    "ExecuteTime": {
     "end_time": "2024-05-02T05:00:06.848598Z",
     "start_time": "2024-05-02T05:00:06.828537Z"
    }
   },
   "outputs": [],
   "source": [
    "def find_organization(text):\n",
    "#     Продажа от: ООО \"Спарта\"\n",
    "    organization_match = re.search(r'(?i)(продажа\\s+от:|(продажа)?\\s*от\\s+(клиента)?\\s*(:)?)\\s*(.+?)\\n', text)\n",
    "    organization = organization_match.group(5) if organization_match else np.NAN\n",
    "    \n",
    "    return organization"
   ]
  },
  {
   "cell_type": "code",
   "execution_count": 697,
   "id": "2b6eaee6",
   "metadata": {
    "ExecuteTime": {
     "end_time": "2024-05-02T05:00:07.673607Z",
     "start_time": "2024-05-02T05:00:07.660341Z"
    }
   },
   "outputs": [],
   "source": [
    "organization_found = find_organization(appl)"
   ]
  },
  {
   "cell_type": "code",
   "execution_count": 698,
   "id": "15214ef3",
   "metadata": {
    "ExecuteTime": {
     "end_time": "2024-05-02T05:00:08.379671Z",
     "start_time": "2024-05-02T05:00:08.363679Z"
    }
   },
   "outputs": [
    {
     "data": {
      "text/plain": [
       "'ООО \"Спарта\"'"
      ]
     },
     "execution_count": 698,
     "metadata": {},
     "output_type": "execute_result"
    }
   ],
   "source": [
    "organization_found"
   ]
  },
  {
   "cell_type": "code",
   "execution_count": 699,
   "id": "16127f7f",
   "metadata": {
    "ExecuteTime": {
     "end_time": "2024-05-02T05:00:09.577576Z",
     "start_time": "2024-05-02T05:00:09.558517Z"
    }
   },
   "outputs": [],
   "source": [
    "def find_transshipment(text):\n",
    "    \n",
    "    transshipment_match = \\\n",
    "    re.search(r'(?i)\\d+\\.\\s*(С\\s+(перевалки)?\\s*|Завод\\s*(отгрузки)?\\s*(:)?|Перевалка\\s*(:)?)\\s*(.+?)\\n', \n",
    "              text)\n",
    "    transshipment = transshipment_match.group(6) if transshipment_match else np.NAN\n",
    "    \n",
    "    return transshipment"
   ]
  },
  {
   "cell_type": "code",
   "execution_count": 700,
   "id": "673a1165",
   "metadata": {
    "ExecuteTime": {
     "end_time": "2024-05-02T05:00:10.155096Z",
     "start_time": "2024-05-02T05:00:10.136099Z"
    }
   },
   "outputs": [],
   "source": [
    "transshipment_found = find_transshipment(appl)"
   ]
  },
  {
   "cell_type": "code",
   "execution_count": 701,
   "id": "8d00460e",
   "metadata": {
    "ExecuteTime": {
     "end_time": "2024-05-02T05:00:10.949175Z",
     "start_time": "2024-05-02T05:00:10.928823Z"
    }
   },
   "outputs": [
    {
     "data": {
      "text/plain": [
       "'Солнечногорска  '"
      ]
     },
     "execution_count": 701,
     "metadata": {},
     "output_type": "execute_result"
    }
   ],
   "source": [
    "transshipment_found "
   ]
  },
  {
   "cell_type": "markdown",
   "id": "53e5a3c6",
   "metadata": {},
   "source": [
    "## Доделать, спросить у Лёхи\n",
    "\n",
    "Нужно ли создавать словарь для именительного падежа названия перевалки?"
   ]
  },
  {
   "cell_type": "code",
   "execution_count": 702,
   "id": "236c0f75",
   "metadata": {
    "ExecuteTime": {
     "end_time": "2024-05-02T05:00:16.461073Z",
     "start_time": "2024-05-02T05:00:16.454013Z"
    }
   },
   "outputs": [],
   "source": [
    "def find_purchaser(text):\n",
    "    \n",
    "    purchaser_match = \\\n",
    "    re.search(r'(?i)\\d+\\.\\s*(Покупатель\\s*(груза)?\\s*(:)?)\\s*(.+?)\\n', \n",
    "              text)\n",
    "    purchaser = purchaser_match.group(4) if purchaser_match else np.NAN\n",
    "    \n",
    "    return purchaser"
   ]
  },
  {
   "cell_type": "code",
   "execution_count": 703,
   "id": "9c46f6d5",
   "metadata": {
    "ExecuteTime": {
     "end_time": "2024-05-02T05:00:19.357088Z",
     "start_time": "2024-05-02T05:00:19.344089Z"
    }
   },
   "outputs": [],
   "source": [
    "purchaser_found = find_purchaser(appl)"
   ]
  },
  {
   "cell_type": "code",
   "execution_count": 704,
   "id": "156211f1",
   "metadata": {
    "ExecuteTime": {
     "end_time": "2024-05-02T05:00:19.669043Z",
     "start_time": "2024-05-02T05:00:19.657730Z"
    }
   },
   "outputs": [
    {
     "data": {
      "text/plain": [
       "'ООО \"Бетон Строй»'"
      ]
     },
     "execution_count": 704,
     "metadata": {},
     "output_type": "execute_result"
    }
   ],
   "source": [
    "purchaser_found"
   ]
  },
  {
   "cell_type": "markdown",
   "id": "0e16825a",
   "metadata": {},
   "source": [
    "  ## Доделать, спросить у Лёхи\n",
    "\n",
    "4. ООО «ПД Технологии» объект *Пушкино* ,\n",
    "4. ООО «ПД Технологии» объект *Пушкино* "
   ]
  },
  {
   "cell_type": "code",
   "execution_count": 705,
   "id": "be30ee18",
   "metadata": {
    "ExecuteTime": {
     "end_time": "2024-05-02T05:00:28.260331Z",
     "start_time": "2024-05-02T05:00:28.240393Z"
    }
   },
   "outputs": [],
   "source": [
    "def find_consignee(text):\n",
    "    \n",
    "    consignee_match = \\\n",
    "    consignee_match = re.search(r'(?i)\\d+\\.\\s*(?:Грузополучатель\\s*(?::)?|Грузополучатель\\s*\\(при\\s*оформлении\\s*ттн\\)\\s*(?::)?)\\s*(.+?)\\n', \n",
    "              text)\n",
    "    consignee = consignee_match.group(1).split(':')[-1].strip() if consignee_match else np.NAN\n",
    "    \n",
    "    return consignee"
   ]
  },
  {
   "cell_type": "code",
   "execution_count": 706,
   "id": "c652d124",
   "metadata": {
    "ExecuteTime": {
     "end_time": "2024-05-02T05:00:28.588199Z",
     "start_time": "2024-05-02T05:00:28.566251Z"
    }
   },
   "outputs": [],
   "source": [
    "consignee_found = find_consignee(appl)"
   ]
  },
  {
   "cell_type": "code",
   "execution_count": 707,
   "id": "73b48cfe",
   "metadata": {
    "ExecuteTime": {
     "end_time": "2024-05-02T05:00:29.024059Z",
     "start_time": "2024-05-02T05:00:29.007013Z"
    }
   },
   "outputs": [
    {
     "data": {
      "text/plain": [
       "'ООО \"Бетон Строй»'"
      ]
     },
     "execution_count": 707,
     "metadata": {},
     "output_type": "execute_result"
    }
   ],
   "source": [
    "consignee_found"
   ]
  },
  {
   "cell_type": "markdown",
   "id": "09ba00bf",
   "metadata": {},
   "source": [
    "## Лёхе\n",
    "\n",
    "С этим надо что-то делать, так нихуя не понятно  \n",
    "5. Бетас "
   ]
  },
  {
   "cell_type": "code",
   "execution_count": 709,
   "id": "f247f4ab",
   "metadata": {
    "ExecuteTime": {
     "end_time": "2024-05-02T05:01:05.663336Z",
     "start_time": "2024-05-02T05:01:05.643269Z"
    }
   },
   "outputs": [],
   "source": [
    "def find_consignee_leg_addr(text):\n",
    "    \n",
    "    find_consignee_leg_addr_match = \\\n",
    "    re.search(r'(?i)\\d+\\.\\s*(Юр\\s*\\.)?\\s*(Адрес\\s*грузополучателя)\\s*(\\(юрид\\))?\\s*(:)?\\s*(.+?)\\n',\n",
    "              text)\n",
    "    find_consignee_leg_addr = find_consignee_leg_addr_match.group(5) if find_consignee_leg_addr_match else np.NAN\n",
    "    \n",
    "    return find_consignee_leg_addr"
   ]
  },
  {
   "cell_type": "code",
   "execution_count": 710,
   "id": "ce2762b9",
   "metadata": {
    "ExecuteTime": {
     "end_time": "2024-05-02T05:01:06.066605Z",
     "start_time": "2024-05-02T05:01:06.049473Z"
    }
   },
   "outputs": [],
   "source": [
    "consignee_leg_addr_found = find_consignee_leg_addr(appl)"
   ]
  },
  {
   "cell_type": "code",
   "execution_count": 711,
   "id": "59ffb888",
   "metadata": {
    "ExecuteTime": {
     "end_time": "2024-05-02T05:01:13.852705Z",
     "start_time": "2024-05-02T05:01:13.836743Z"
    }
   },
   "outputs": [
    {
     "data": {
      "text/plain": [
       "'249850, Калужская обл., Дзержинский р-н, д. Обуховской, д 1Б.    '"
      ]
     },
     "execution_count": 711,
     "metadata": {},
     "output_type": "execute_result"
    }
   ],
   "source": [
    "consignee_leg_addr_found"
   ]
  },
  {
   "cell_type": "markdown",
   "id": "3e73b224",
   "metadata": {},
   "source": [
    "## Лёхе\n",
    "Может ли быть подъёб со стороны менеджера, который еще вариант написания придумает?  \n",
    "8. Адрес грузополучателя (юрид):  \n",
    "8. Юр.Адрес грузополучателя:"
   ]
  },
  {
   "cell_type": "code",
   "execution_count": 712,
   "id": "d49a853b",
   "metadata": {
    "ExecuteTime": {
     "end_time": "2024-05-02T05:01:19.750650Z",
     "start_time": "2024-05-02T05:01:19.741683Z"
    }
   },
   "outputs": [],
   "source": [
    "def find_phones(text):\n",
    "    phone_numbers = re.findall(r'\\+?\\d{1,3}[\\s-]?\\(?\\d{3}\\)?[\\s-]?\\d{2,3}[\\s-]?\\d{2}[\\s-]?\\d{2}(?=\\s|$)', text)\n",
    "    phone_numbers = phone_numbers if phone_numbers else np.NAN\n",
    "    \n",
    "    return phone_numbers"
   ]
  },
  {
   "cell_type": "code",
   "execution_count": 713,
   "id": "f43b6540",
   "metadata": {
    "ExecuteTime": {
     "end_time": "2024-05-02T05:01:20.530575Z",
     "start_time": "2024-05-02T05:01:20.512575Z"
    }
   },
   "outputs": [],
   "source": [
    "phones_found = find_phones(appl)"
   ]
  },
  {
   "cell_type": "code",
   "execution_count": 714,
   "id": "fc96dbdd",
   "metadata": {
    "ExecuteTime": {
     "end_time": "2024-05-02T05:01:21.638516Z",
     "start_time": "2024-05-02T05:01:21.620493Z"
    }
   },
   "outputs": [],
   "source": [
    "phones_found = ', '.join(find_phones(appl)) if find_phones(appl) is not np.NAN else np.NAN"
   ]
  },
  {
   "cell_type": "code",
   "execution_count": 715,
   "id": "5e344af3",
   "metadata": {
    "ExecuteTime": {
     "end_time": "2024-05-02T05:01:22.200038Z",
     "start_time": "2024-05-02T05:01:22.181792Z"
    }
   },
   "outputs": [
    {
     "data": {
      "text/plain": [
       "'+79232208000, +74959242828'"
      ]
     },
     "execution_count": 715,
     "metadata": {},
     "output_type": "execute_result"
    }
   ],
   "source": [
    "phones_found"
   ]
  },
  {
   "cell_type": "code",
   "execution_count": 716,
   "id": "d3c92a48",
   "metadata": {
    "ExecuteTime": {
     "end_time": "2024-05-02T05:01:32.409860Z",
     "start_time": "2024-05-02T05:01:32.387849Z"
    }
   },
   "outputs": [],
   "source": [
    "def find_unl_addr(text, unload_addresses_df):\n",
    "    # Проходим по каждому логину менеджера\n",
    "    for index, row in unload_addresses_df.iterrows():\n",
    "        pattern1 = row['pattern1']\n",
    "        pattern2 = row['pattern2']\n",
    "        address = row['address']\n",
    "        \n",
    "        # Проверяем совпадение по колонке 'login'\n",
    "        if pattern1.lower().replace(' ', '') and pattern2.lower().replace(' ', '') \\\n",
    "        in text.lower().replace(' ', ''):\n",
    "            return address\n",
    "    return np.NAN"
   ]
  },
  {
   "cell_type": "code",
   "execution_count": 717,
   "id": "cc549d67",
   "metadata": {
    "ExecuteTime": {
     "end_time": "2024-05-02T05:01:40.414786Z",
     "start_time": "2024-05-02T05:01:40.397725Z"
    }
   },
   "outputs": [],
   "source": [
    "unl_addr_found = find_unl_addr(appl, unload_addresses)"
   ]
  },
  {
   "cell_type": "code",
   "execution_count": 718,
   "id": "16e96bef",
   "metadata": {
    "ExecuteTime": {
     "end_time": "2024-05-02T05:01:45.157760Z",
     "start_time": "2024-05-02T05:01:45.148752Z"
    }
   },
   "outputs": [
    {
     "data": {
      "text/plain": [
       "'город Солнечногорск, ул. Промышленная 1б '"
      ]
     },
     "execution_count": 718,
     "metadata": {},
     "output_type": "execute_result"
    }
   ],
   "source": [
    "unl_addr_found"
   ]
  },
  {
   "cell_type": "markdown",
   "id": "4793c584",
   "metadata": {},
   "source": [
    "## Лёхе\n",
    "\n",
    "Забить все адреса в словарь"
   ]
  },
  {
   "cell_type": "code",
   "execution_count": 720,
   "id": "0275cde1",
   "metadata": {
    "ExecuteTime": {
     "end_time": "2024-05-02T05:02:19.058715Z",
     "start_time": "2024-05-02T05:02:19.041385Z"
    }
   },
   "outputs": [],
   "source": [
    "def find_time(text):\n",
    "    if 'приёмк' or 'приемк' in text.lower():\n",
    "        time_match = re.search(r'(?i)(время)?\\s*при(ё|е)мк(и|а)(?::)?\\s*(.*)', text)\n",
    "        time = time_match.group(4) if time_match else np.NAN\n",
    "    \n",
    "    return time"
   ]
  },
  {
   "cell_type": "code",
   "execution_count": 721,
   "id": "706cff90",
   "metadata": {
    "ExecuteTime": {
     "end_time": "2024-05-02T05:02:20.049119Z",
     "start_time": "2024-05-02T05:02:20.030178Z"
    }
   },
   "outputs": [],
   "source": [
    "accept_time_found = find_time(appl)"
   ]
  },
  {
   "cell_type": "code",
   "execution_count": 722,
   "id": "a25a14ec",
   "metadata": {
    "ExecuteTime": {
     "end_time": "2024-05-02T05:02:25.306771Z",
     "start_time": "2024-05-02T05:02:25.297806Z"
    }
   },
   "outputs": [
    {
     "data": {
      "text/plain": [
       "'с 9.00 до 20.00'"
      ]
     },
     "execution_count": 722,
     "metadata": {},
     "output_type": "execute_result"
    }
   ],
   "source": [
    "accept_time_found"
   ]
  },
  {
   "cell_type": "code",
   "execution_count": null,
   "id": "756b915c",
   "metadata": {},
   "outputs": [],
   "source": []
  },
  {
   "cell_type": "code",
   "execution_count": null,
   "id": "98175901",
   "metadata": {},
   "outputs": [],
   "source": []
  },
  {
   "cell_type": "code",
   "execution_count": null,
   "id": "ae6d477a",
   "metadata": {},
   "outputs": [],
   "source": []
  },
  {
   "cell_type": "code",
   "execution_count": null,
   "id": "6ac527a0",
   "metadata": {},
   "outputs": [],
   "source": []
  },
  {
   "cell_type": "code",
   "execution_count": null,
   "id": "5f9a1dd1",
   "metadata": {},
   "outputs": [],
   "source": []
  },
  {
   "cell_type": "code",
   "execution_count": 632,
   "id": "834cc102",
   "metadata": {
    "ExecuteTime": {
     "end_time": "2024-05-02T04:48:52.511682Z",
     "start_time": "2024-05-02T04:48:52.497106Z"
    }
   },
   "outputs": [],
   "source": [
    "text = \"\"\"\n",
    "Юра Менеджер:\n",
    "Заявка на самовывоз\n",
    "1. Дата отгрузки 28.04.2023 \n",
    "2. Марка ЦЕМ I 42.5н Беларусь   \n",
    "3. Количество 40 тонн \n",
    "9. Приёмка иди в пизду\n",
    "10. jdjksdfj\n",
    "\"\"\""
   ]
  },
  {
   "cell_type": "code",
   "execution_count": null,
   "id": "a2c87ac5",
   "metadata": {},
   "outputs": [],
   "source": [
    "Дебет оплата 250\n",
    "8. Время приёмки: к 9 "
   ]
  },
  {
   "cell_type": "code",
   "execution_count": 723,
   "id": "758773f0",
   "metadata": {
    "ExecuteTime": {
     "end_time": "2024-05-02T05:02:31.131744Z",
     "start_time": "2024-05-02T05:02:31.114752Z"
    }
   },
   "outputs": [],
   "source": [
    "# Создаем новый DataFrame с одной строкой, содержащей только дату\n",
    "new_row_df = pd.DataFrame({'Менеджер': [manager_found], \n",
    "                           'Вид доставки': [delivery_found], \n",
    "                           'Дата': [convert_date], \n",
    "                           'Товар': [product_found], \n",
    "                           'Примечание к Товару': [product_notice_found], \n",
    "                           'Кол-во': [quantity_found], \n",
    "                           'Ед.изм.': [unit_found], \n",
    "                           'Машина/Водитель': [cars_found], \n",
    "                           'Продавец': [organization_found], \n",
    "                           'Откуда': [transshipment_found], \n",
    "                           'Покупатель': [purchaser_found], \n",
    "                           'Грузополучатель': [consignee_found],\n",
    "                           'Адрес грузополучателя (юрид)': [consignee_leg_addr_found], \n",
    "                           'Адрес пункта разгрузки': [unl_addr_found], \n",
    "                           'Контакт гп': [phones_found],\n",
    "                           'Время приемки': [accept_time_found],\n",
    "#                            'Примечание Иное',\n",
    "                          })\n",
    "\n",
    "# new_row_df['Машина/Водитель'] = new_row_df['Машина/Водитель'].apply(lambda x: ', '.join(x)) \n",
    "# Объединяем исходный DataFrame с новым DataFrame\n",
    "df = pd.concat([df, new_row_df], ignore_index=True)"
   ]
  },
  {
   "cell_type": "code",
   "execution_count": 724,
   "id": "9c1ab873",
   "metadata": {
    "ExecuteTime": {
     "end_time": "2024-05-02T05:02:31.957101Z",
     "start_time": "2024-05-02T05:02:31.917684Z"
    }
   },
   "outputs": [
    {
     "data": {
      "text/html": [
       "<div>\n",
       "<style scoped>\n",
       "    .dataframe tbody tr th:only-of-type {\n",
       "        vertical-align: middle;\n",
       "    }\n",
       "\n",
       "    .dataframe tbody tr th {\n",
       "        vertical-align: top;\n",
       "    }\n",
       "\n",
       "    .dataframe thead th {\n",
       "        text-align: right;\n",
       "    }\n",
       "</style>\n",
       "<table border=\"1\" class=\"dataframe\">\n",
       "  <thead>\n",
       "    <tr style=\"text-align: right;\">\n",
       "      <th></th>\n",
       "      <th>Менеджер</th>\n",
       "      <th>Вид доставки</th>\n",
       "      <th>Дата</th>\n",
       "      <th>Товар</th>\n",
       "      <th>Примечание к Товару</th>\n",
       "      <th>Кол-во</th>\n",
       "      <th>Ед.изм.</th>\n",
       "      <th>Машина/Водитель</th>\n",
       "      <th>Продавец</th>\n",
       "      <th>Откуда</th>\n",
       "      <th>Покупатель</th>\n",
       "      <th>Грузополучатель</th>\n",
       "      <th>Адрес грузополучателя (юрид)</th>\n",
       "      <th>Адрес пункта разгрузки</th>\n",
       "      <th>Контакт гп</th>\n",
       "      <th>Время приемки</th>\n",
       "    </tr>\n",
       "  </thead>\n",
       "  <tbody>\n",
       "    <tr>\n",
       "      <th>0</th>\n",
       "      <td>Юрий</td>\n",
       "      <td>самовывоз</td>\n",
       "      <td>27.04.2024</td>\n",
       "      <td>ПЕСКОГРУНТ</td>\n",
       "      <td>Обязательно актуальный паспорт!</td>\n",
       "      <td>200</td>\n",
       "      <td>куб</td>\n",
       "      <td>О327ВН790 МАN, О039ОУ790 МАN, Х194ВА797 КАМАЗ,...</td>\n",
       "      <td>ООО Спарта</td>\n",
       "      <td>КПП, Солнечногорск, Люберцы</td>\n",
       "      <td>ООО \"КАНТАН\"</td>\n",
       "      <td>ООО БетонПром</td>\n",
       "      <td>249850, Калужская обл., Дзержинский р-н, д. Об...</td>\n",
       "      <td>Голицыно, Можайское ш., 81, РБУ</td>\n",
       "      <td>+79777728931, 8-925-758-01-54, 8-925-758-01-54...</td>\n",
       "      <td>с 9.00 до 20.00</td>\n",
       "    </tr>\n",
       "    <tr>\n",
       "      <th>1</th>\n",
       "      <td>Игорь Хабаров</td>\n",
       "      <td>доставка</td>\n",
       "      <td>26.04.2024</td>\n",
       "      <td>ЦЕМ I 42,5н</td>\n",
       "      <td>Сертификаты!</td>\n",
       "      <td>35</td>\n",
       "      <td>т</td>\n",
       "      <td>У162ХК750 MAN, Х240ВА797 КАМАЗ, А215УХ750 МAN</td>\n",
       "      <td>ООО \"Спарта\"</td>\n",
       "      <td>Солнечногорска</td>\n",
       "      <td>ООО \"Бетон Строй»</td>\n",
       "      <td>ООО \"Бетон Строй»</td>\n",
       "      <td>249850, Калужская обл., Дзержинский р-н, д. Об...</td>\n",
       "      <td>город Солнечногорск, ул. Промышленная 1б</td>\n",
       "      <td>+79232208000, +74959242828</td>\n",
       "      <td>с 9.00 до 20.00</td>\n",
       "    </tr>\n",
       "  </tbody>\n",
       "</table>\n",
       "</div>"
      ],
      "text/plain": [
       "        Менеджер Вид доставки        Дата        Товар  \\\n",
       "0           Юрий    самовывоз  27.04.2024   ПЕСКОГРУНТ   \n",
       "1  Игорь Хабаров     доставка  26.04.2024  ЦЕМ I 42,5н   \n",
       "\n",
       "               Примечание к Товару Кол-во Ед.изм.  \\\n",
       "0  Обязательно актуальный паспорт!    200     куб   \n",
       "1                     Сертификаты!     35       т   \n",
       "\n",
       "                                     Машина/Водитель      Продавец  \\\n",
       "0  О327ВН790 МАN, О039ОУ790 МАN, Х194ВА797 КАМАЗ,...    ООО Спарта   \n",
       "1      У162ХК750 MAN, Х240ВА797 КАМАЗ, А215УХ750 МAN  ООО \"Спарта\"   \n",
       "\n",
       "                         Откуда         Покупатель    Грузополучатель  \\\n",
       "0  КПП, Солнечногорск, Люберцы        ООО \"КАНТАН\"      ООО БетонПром   \n",
       "1              Солнечногорска    ООО \"Бетон Строй»  ООО \"Бетон Строй»   \n",
       "\n",
       "                        Адрес грузополучателя (юрид)  \\\n",
       "0  249850, Калужская обл., Дзержинский р-н, д. Об...   \n",
       "1  249850, Калужская обл., Дзержинский р-н, д. Об...   \n",
       "\n",
       "                      Адрес пункта разгрузки  \\\n",
       "0            Голицыно, Можайское ш., 81, РБУ   \n",
       "1  город Солнечногорск, ул. Промышленная 1б    \n",
       "\n",
       "                                          Контакт гп    Время приемки  \n",
       "0  +79777728931, 8-925-758-01-54, 8-925-758-01-54...  с 9.00 до 20.00  \n",
       "1                         +79232208000, +74959242828  с 9.00 до 20.00  "
      ]
     },
     "execution_count": 724,
     "metadata": {},
     "output_type": "execute_result"
    }
   ],
   "source": [
    "df"
   ]
  },
  {
   "cell_type": "code",
   "execution_count": 75,
   "id": "9307b9f8",
   "metadata": {
    "ExecuteTime": {
     "end_time": "2024-04-30T14:05:19.558842Z",
     "start_time": "2024-04-30T14:05:19.538834Z"
    }
   },
   "outputs": [],
   "source": [
    "df.drop(df.index, inplace=True)"
   ]
  },
  {
   "cell_type": "code",
   "execution_count": 76,
   "id": "7885b13e",
   "metadata": {
    "ExecuteTime": {
     "end_time": "2024-04-30T14:05:23.947343Z",
     "start_time": "2024-04-30T14:05:23.924348Z"
    }
   },
   "outputs": [
    {
     "data": {
      "text/plain": [
       "Index(['Менеджер', 'Вид доставки', 'Дата', 'Товар', 'Примечание к Товару',\n",
       "       'Кол-во', 'Ед.изм.', 'Машина/Водитель', 'Продавец', 'Откуда',\n",
       "       'Покупатель', 'Грузополучатель ', 'Адрес грузополучателя (юрид)',\n",
       "       'Адрес пункта разгрузки', 'Контакт гп', 'Примечание Иное'],\n",
       "      dtype='object')"
      ]
     },
     "execution_count": 76,
     "metadata": {},
     "output_type": "execute_result"
    }
   ],
   "source": [
    "df.columns"
   ]
  },
  {
   "cell_type": "code",
   "execution_count": null,
   "id": "8a23897c",
   "metadata": {},
   "outputs": [],
   "source": []
  },
  {
   "cell_type": "code",
   "execution_count": null,
   "id": "7fc06616",
   "metadata": {},
   "outputs": [],
   "source": []
  },
  {
   "cell_type": "code",
   "execution_count": null,
   "id": "aefb6d50",
   "metadata": {},
   "outputs": [],
   "source": []
  },
  {
   "cell_type": "code",
   "execution_count": null,
   "id": "42ed8312",
   "metadata": {},
   "outputs": [],
   "source": [
    "patterns = [\n",
    "    # ПАО ГТС => ГТС, ПАО\n",
    "    r'^(?i)(П?АО|ООО|ГУП)(?:\\s+|\\s*\")([^\"]+)\"?',\n",
    "    \n",
    "    # ПАО Р-БАНК//ИЗМАЙЛОВ ВАЛЕРИЙ МИХАЙЛОВИЧ//РОССИЯ,МОСКВА Г Р/С в ПАО Р-БАНК г Москва => Измайлов В.\n",
    "    r'//([\\w-]+)\\s+(\\w)\\w*\\s+(?:\\w)\\w*//',\n",
    "    \n",
    "    # Индивидуальный ПРЕДПРИНИМАТЕЛЬ Логинов Андрей Николаевич => Логинов А., ИП\n",
    "    r'^(?i)(и)(?:ндивидуальный)?\\s*(п)(?:редприниматель)?\\s*(\\w+)\\s+(\\w)\\w*\\s*(\\w)?\\w*',\n",
    "    \n",
    "    # Никишкина Лидия Алексеевна (ИП) => Нокошина Л., ИП\n",
    "    r'^([\\w-]+)\\s+(\\w)\\w*\\s*(\\w)?\\w*\\s*\\((ИП)\\)$',\n",
    "    \n",
    "    # ВОРОНОВ ИЛЬЯ АНДРЕЕВИЧ => Воронов И.\n",
    "    r'([\\w-]+)\\s+(\\w)\\w*\\s+(\\w)\\w*$',\n",
    "    \n",
    "    # ООО \"ЧОП \"ОХРАННЫЕ СИСТЕМЫ\" => ОХРАННЫЕ СИСТЕМЫ, ЧОП, ООО\n",
    "    r'^([\\w-]{2,3})\\s+\"?(.*)\\s+\"(.*)\"',\n",
    "    \n",
    "    #  contains \"ФНС\": \n",
    "    r'\\w*\\s*(?i)(?:и?)\\s*(ф)(?:едеральной)?\\s*(н)(?:алоговой)?\\s*(с)(?:лужбы)?\\s*(?:россии)?\\s*\\w*\\s*', \n",
    "    \n",
    "    # ОБЩЕСТВО С ОГРАНИЧЕННОЙ ОТВЕТСТВЕННОСТЬЮ \"ЛАГ1\" => ЛАГ1, ООО\n",
    "    r'(\\w)\\w{3,}|\\\"([^\\\"]+)\\\"',\n",
    "    \n",
    "    # Межрегиональное операционное УФК (КАЗНАЧЕЙСТВО РОССИИ) => Межрегиональное операционное УФК\n",
    "    r'^.+?(?=\\s*\\()',\n",
    "]       \n",
    "\n",
    "def extract_text(row):\n",
    "    \"\"\"\n",
    "    Get string with raw title, extract necessary text by patterns and returns formatted values\n",
    "    \"\"\"\n",
    "    matches = []\n",
    "\n",
    "    for pattern in patterns:\n",
    "        match = re.findall(pattern, row)\n",
    "        matches.append(match)\n",
    "    \n",
    "    return '{}, {}, {}'.format(matches[5][0][2], matches[5][0][1], matches[5][0][0]) if matches[5] else \\\n",
    "        '{} {}.'.format(matches[1][0][0].capitalize(), matches[1][0][1]) if matches[1] else \\\n",
    "        '{}, {}'.format(matches[0][0][1], matches[0][0][0]) if matches[0] else \\\n",
    "        '{} {}.{}., {}{}'.format(matches[2][0][2].capitalize(), matches[2][0][3], matches[2][0][4], matches[2][0][0], matches[2][0][1]) if matches[2] else \\\n",
    "        '{} {}.{}., {}'.format(matches[3][0][0].capitalize(), matches[3][0][1], matches[3][0][2], matches[3][0][3]) if matches[3] else \\\n",
    "        '{}{}{}'.format(matches[6][0][0].upper(),matches[6][0][1].upper(),matches[6][0][2]).upper() if matches[6] else \\\n",
    "        '{} {}.{}.'.format(matches[4][0][0].capitalize(), matches[4][0][1], matches[4][0][2]) if matches[4] else \\\n",
    "        '{}, {}'.format([mat[1] for mat in matches[7] if mat[1]][0],\n",
    "                        ''.join(map(str, [mat[0] for mat in matches[7] if\n",
    "                                          mat[0]]))) if '\"' in row else \\\n",
    "        '{}'.format(matches[8][0]) if matches[8] else \\\n",
    "        row\n",
    "\n",
    "# creating column \"Agent\"\n",
    "df['Agent'] = np.vectorize(extract_text)(df['Full_Name'])\n",
    "df['Name'] = df['Agent'].map(lambda x: x.lower())"
   ]
  },
  {
   "cell_type": "code",
   "execution_count": 95,
   "id": "1b3cf129",
   "metadata": {
    "ExecuteTime": {
     "end_time": "2024-04-29T09:03:08.649095Z",
     "start_time": "2024-04-29T09:03:08.629538Z"
    }
   },
   "outputs": [
    {
     "name": "stdout",
     "output_type": "stream",
     "text": [
      "Fixed string: Щебень гранитный\n"
     ]
    }
   ],
   "source": [
    "def fix_typo(original, target):\n",
    "    distance = editdistance.eval(original, target)\n",
    "    if distance <= 3:  # Пороговое значение для определения опечатки\n",
    "        return target\n",
    "    else:\n",
    "        return original\n",
    "\n",
    "original = \"Щебин ранитный\"\n",
    "target = \"Щебень гранитный\"\n",
    "fixed_string = fix_typo(original, target)\n",
    "print(\"Fixed string:\", fixed_string)"
   ]
  },
  {
   "cell_type": "code",
   "execution_count": 139,
   "id": "49438967",
   "metadata": {
    "ExecuteTime": {
     "end_time": "2024-04-29T13:57:39.936043Z",
     "start_time": "2024-04-29T13:57:39.921934Z"
    }
   },
   "outputs": [
    {
     "name": "stdout",
     "output_type": "stream",
     "text": [
      "Значение после слова 'Марка:': Цем I 42.5Н Кричев\n",
      "Значение между строкой с 'Марка:' и следующим номером: nan\n"
     ]
    }
   ],
   "source": [
    "import re\n",
    "import numpy as np\n",
    "\n",
    "text = \"\"\"\n",
    "1. Дата отгрузки: 28.04.24 \n",
    "2. Марка Цем I 42.5Н Кричев\n",
    "3. Количество: 40т.\n",
    "\"\"\"\n",
    "\n",
    "# Находим значение после слова \"Марка:\" без учета регистра\n",
    "marca_match = re.search(r'Марка\\s*(цемента)?\\s*(.*?)\\n', text, re.IGNORECASE)\n",
    "marca_value = marca_match.group(2)\n",
    "\n",
    "# Находим значение между строкой с \"Марка:\" и следующим номером пункта\n",
    "# Если нет следующего номера пункта, возвращаем np.NAN\n",
    "intermediate_match = re.search(r'Марка.*?\\n(.*?)\\n\\d', text, re.IGNORECASE | re.DOTALL)\n",
    "intermediate_value = intermediate_match.group(1) if intermediate_match else np.NAN\n",
    "\n",
    "print(\"Значение после слова 'Марка:':\", marca_value)\n",
    "print(\"Значение между строкой с 'Марка:' и следующим номером:\", intermediate_value)\n"
   ]
  },
  {
   "cell_type": "code",
   "execution_count": null,
   "id": "d31ef2b8",
   "metadata": {},
   "outputs": [],
   "source": []
  },
  {
   "cell_type": "code",
   "execution_count": null,
   "id": "410fc7db",
   "metadata": {},
   "outputs": [],
   "source": []
  },
  {
   "cell_type": "code",
   "execution_count": null,
   "id": "5e3dc031",
   "metadata": {},
   "outputs": [],
   "source": []
  },
  {
   "cell_type": "code",
   "execution_count": 64,
   "id": "2c06c702",
   "metadata": {
    "ExecuteTime": {
     "end_time": "2024-04-29T14:17:24.130913Z",
     "start_time": "2024-04-29T14:17:24.114196Z"
    }
   },
   "outputs": [],
   "source": [
    "pattern = r'\\d+\\..*'\n",
    "text = \"5. Надо полис\"\n",
    "\n",
    "match = re.match( r'\\d+\\..*', text)"
   ]
  },
  {
   "cell_type": "code",
   "execution_count": 65,
   "id": "ac9dea62",
   "metadata": {
    "ExecuteTime": {
     "end_time": "2024-04-29T14:17:24.474352Z",
     "start_time": "2024-04-29T14:17:24.464212Z"
    }
   },
   "outputs": [
    {
     "data": {
      "text/plain": [
       "'5. Надо полис'"
      ]
     },
     "execution_count": 65,
     "metadata": {},
     "output_type": "execute_result"
    }
   ],
   "source": [
    "match[0]"
   ]
  },
  {
   "cell_type": "code",
   "execution_count": 83,
   "id": "784292c6",
   "metadata": {
    "ExecuteTime": {
     "end_time": "2024-04-29T14:24:05.496263Z",
     "start_time": "2024-04-29T14:24:05.480264Z"
    }
   },
   "outputs": [
    {
     "data": {
      "text/plain": [
       "NoneType"
      ]
     },
     "execution_count": 83,
     "metadata": {},
     "output_type": "execute_result"
    }
   ],
   "source": [
    "type(re.match(r'^[^0-9.].*', \"5. Надо полис\"))"
   ]
  },
  {
   "cell_type": "code",
   "execution_count": 67,
   "id": "cc69eaba",
   "metadata": {
    "ExecuteTime": {
     "end_time": "2024-04-30T06:14:29.100704Z",
     "start_time": "2024-04-30T06:14:29.093392Z"
    }
   },
   "outputs": [
    {
     "name": "stdout",
     "output_type": "stream",
     "text": [
      "тю.\n",
      "\n"
     ]
    }
   ],
   "source": [
    "import re\n",
    "\n",
    "text=\"\"\"\n",
    "2. Марка: ЦЕМ I 42,5н БЦЗ Костюковичи \n",
    "Машина с пломбами и актуальными паспортами \n",
    "3. Количество: 40 тю.\n",
    "4. Продажа от: ООО \"Спарта\"\n",
    "\"\"\"\n",
    "\n",
    "# Ищем строку, содержащую \"Количество:\"\n",
    "match = re.search(r'(?i)кол(-|ичест)?во\\s*(:)?\\s*(\\d+)\\s*(\\D+)\\s*', text)\n",
    "# Если найдено соответствие, выводим символы после числа в этой строке\n",
    "if match:\n",
    "    print(match.group(4))\n"
   ]
  },
  {
   "cell_type": "code",
   "execution_count": 83,
   "id": "5ca1629f",
   "metadata": {
    "ExecuteTime": {
     "end_time": "2024-04-30T06:22:39.452571Z",
     "start_time": "2024-04-30T06:22:39.426572Z"
    }
   },
   "outputs": [
    {
     "name": "stdout",
     "output_type": "stream",
     "text": [
      "т\n",
      "\n"
     ]
    }
   ],
   "source": [
    "import re\n",
    "\n",
    "def find_unit(text):\n",
    "    # Находим значение после слова \"Количество/кол-во:\" без учета регистра    \n",
    "    unit_match = re.search(r'(?i)кол(-|ичест)?во\\s*(:)?\\s*\\d+\\s*(\\D+)\\s*', text)\n",
    "    unit = unit_match.group(3) if unit_match else None\n",
    "    \n",
    "    return unit\n",
    "\n",
    "appl = \"\"\"\n",
    "Юра Менеджер:\n",
    "1. Дата отгрузки:\n",
    "26.04                    \n",
    "2. От ООО Спарта\n",
    "3. Марка: Щебень гранитный 5-20(ЛСР)\n",
    "Обязательно актуальный паспорт!\n",
    "4. Покупатель ООО НВЛ ГРУП\n",
    "5. Бетас \n",
    "6.  Количество: 120т\n",
    "7. Машина: \n",
    "О327ВН790 МАN\n",
    "\"\"\"\n",
    "\n",
    "print(find_unit(appl))\n"
   ]
  },
  {
   "cell_type": "code",
   "execution_count": 150,
   "id": "8071a1e0",
   "metadata": {
    "ExecuteTime": {
     "end_time": "2024-04-30T13:03:32.120423Z",
     "start_time": "2024-04-30T13:03:32.100406Z"
    }
   },
   "outputs": [
    {
     "name": "stdout",
     "output_type": "stream",
     "text": [
      "['О327ВН790 МАN', 'О039ОУ790 МАN', 'х194ВА797 КАМАЗ', 'В683СН790 МАN', 'К702ОС797 Куряев']\n"
     ]
    }
   ],
   "source": [
    "import re\n",
    "\n",
    "text=\"\"\"\n",
    "4. Покупатель ООО НВЛ ГРУП\n",
    "5. Бетас \n",
    "6.  Количество 120т\n",
    "7. Машина: \n",
    "О327ВН790 МАN\n",
    "О039ОУ790 МАN,\n",
    "х194ВА797 КАМАЗ\n",
    "В683СН790 МАN\n",
    "К702ОС797 Куряев\n",
    "\"\"\"\n",
    "\n",
    "car_numbers = re.findall(r'(?i)[А-Я]{1}\\d{3}[А-Я]{2}\\d{3}\\s*\\w*', text)\n",
    "\n",
    "print(car_numbers)\n"
   ]
  },
  {
   "cell_type": "code",
   "execution_count": 170,
   "id": "1f7ba27c",
   "metadata": {
    "ExecuteTime": {
     "end_time": "2024-04-30T13:24:24.396258Z",
     "start_time": "2024-04-30T13:24:24.367254Z"
    }
   },
   "outputs": [
    {
     "name": "stdout",
     "output_type": "stream",
     "text": [
      "        col_name\n",
      "0  abc, def, ghi\n"
     ]
    }
   ],
   "source": [
    "import pandas as pd\n",
    "\n",
    "# Создание DataFrame с вашим списком в одной из ячеек\n",
    "df = pd.DataFrame({'col_name': [['abc', 'def', 'ghi']]})\n",
    "\n",
    "# Применение метода str.join() к списку в ячейке и замена значения ячейки\n",
    "df['col_name'] = df['col_name'].apply(lambda x: ', '.join(x))\n",
    "\n",
    "# Вывод измененного DataFrame\n",
    "print(df)\n"
   ]
  },
  {
   "cell_type": "code",
   "execution_count": 171,
   "id": "0ea1019e",
   "metadata": {
    "ExecuteTime": {
     "end_time": "2024-04-30T13:25:23.267719Z",
     "start_time": "2024-04-30T13:25:23.257482Z"
    }
   },
   "outputs": [],
   "source": [
    "df = pd.DataFrame({'col_name': [['abc', 'def', 'ghi']]})"
   ]
  },
  {
   "cell_type": "code",
   "execution_count": 173,
   "id": "72ec4969",
   "metadata": {
    "ExecuteTime": {
     "end_time": "2024-04-30T13:25:29.121522Z",
     "start_time": "2024-04-30T13:25:29.099529Z"
    }
   },
   "outputs": [
    {
     "data": {
      "text/html": [
       "<div>\n",
       "<style scoped>\n",
       "    .dataframe tbody tr th:only-of-type {\n",
       "        vertical-align: middle;\n",
       "    }\n",
       "\n",
       "    .dataframe tbody tr th {\n",
       "        vertical-align: top;\n",
       "    }\n",
       "\n",
       "    .dataframe thead th {\n",
       "        text-align: right;\n",
       "    }\n",
       "</style>\n",
       "<table border=\"1\" class=\"dataframe\">\n",
       "  <thead>\n",
       "    <tr style=\"text-align: right;\">\n",
       "      <th></th>\n",
       "      <th>col_name</th>\n",
       "    </tr>\n",
       "  </thead>\n",
       "  <tbody>\n",
       "    <tr>\n",
       "      <th>0</th>\n",
       "      <td>[abc, def, ghi]</td>\n",
       "    </tr>\n",
       "  </tbody>\n",
       "</table>\n",
       "</div>"
      ],
      "text/plain": [
       "          col_name\n",
       "0  [abc, def, ghi]"
      ]
     },
     "execution_count": 173,
     "metadata": {},
     "output_type": "execute_result"
    }
   ],
   "source": [
    "df"
   ]
  },
  {
   "cell_type": "code",
   "execution_count": 121,
   "id": "b0a77b82",
   "metadata": {
    "ExecuteTime": {
     "end_time": "2024-04-30T16:07:58.955112Z",
     "start_time": "2024-04-30T16:07:58.938083Z"
    }
   },
   "outputs": [
    {
     "name": "stdout",
     "output_type": "stream",
     "text": [
      "Покупатель ООО НВЛ ГРУП\n"
     ]
    }
   ],
   "source": [
    "import re\n",
    "\n",
    "text = \"5. Покупатель ООО НВЛ ГРУП\\n5\"\n",
    "\n",
    "result = re.search(r'\\d+\\.\\s(.+?)\\n', text, re.DOTALL)\n",
    "if result:\n",
    "    extracted_text = result.group(1)\n",
    "    print(extracted_text)\n"
   ]
  },
  {
   "cell_type": "code",
   "execution_count": 485,
   "id": "977f4a05",
   "metadata": {
    "ExecuteTime": {
     "end_time": "2024-05-01T09:41:50.613060Z",
     "start_time": "2024-05-01T09:41:50.588993Z"
    }
   },
   "outputs": [
    {
     "name": "stdout",
     "output_type": "stream",
     "text": [
      "\n",
      "\n",
      "8 (903) 007-00-86\n",
      "+79232208000\n",
      "+74959242828\n",
      "9\n",
      "\n",
      "\n",
      "\n",
      "+7 968 558-83-13\n",
      "\n",
      "8 (965) 709-90-77\n",
      "9\n",
      "\n",
      "\n",
      "\n",
      "+79777728931\n",
      "10\n",
      "\n",
      "\n",
      "\n",
      "8-925-758-01-54\n",
      "8\n",
      "\n",
      "\n",
      "+7 910 404-06-14\n",
      "10\n",
      "\n"
     ]
    }
   ],
   "source": [
    "import re\n",
    "\n",
    "text = \"\"\"\n",
    "Контакт диспетчера: 8 (903) 007-00-86\\n+79232208000\\n+74959242828\\n9. Контакт диспетчера: +7 968 558-83-13 \\nКонтактный телефон 8 (965) 709-90-77 Игорь.\\n9. Контакт диспетчера: +79777728931\\n10. Контакты для связи 8-925-758-01-54\\n8. Голицыно\\n+7 910 404-06-14\\n10.\n",
    "\"\"\"\n",
    "\n",
    "# Регулярное выражение для поиска номеров телефонов\n",
    "phone_regex = re.compile(r'(\\+?[\\d\\s()-]+)')\n",
    "\n",
    "# Извлечение номеров телефонов из текста\n",
    "phone_numbers = phone_regex.findall(text)\n",
    "\n",
    "# Печать найденных номеров телефонов\n",
    "for number in phone_numbers:\n",
    "    print(number.strip())\n"
   ]
  },
  {
   "cell_type": "code",
   "execution_count": 494,
   "id": "61853792",
   "metadata": {
    "ExecuteTime": {
     "end_time": "2024-05-01T10:24:20.433998Z",
     "start_time": "2024-05-01T10:24:20.413279Z"
    }
   },
   "outputs": [
    {
     "name": "stdout",
     "output_type": "stream",
     "text": [
      "+79777728931\n"
     ]
    }
   ],
   "source": [
    "import re\n",
    "\n",
    "# Исходная строка\n",
    "phone_number_with_extra = '+79777728931\\n10'\n",
    "\n",
    "# Шаблон для поиска номера телефона\n",
    "pattern = r'\\+\\d+'\n",
    "\n",
    "# Поиск совпадений с помощью регулярного выражения\n",
    "matches = re.findall(pattern, phone_number_with_extra)\n",
    "\n",
    "# Если найдено совпадение, берем первое (и, возможно, единственное)\n",
    "if matches:\n",
    "    phone_number = matches[0]\n",
    "    print(phone_number)\n",
    "else:\n",
    "    print(\"Номер телефона не найден\")\n"
   ]
  },
  {
   "cell_type": "code",
   "execution_count": 558,
   "id": "cb7091f5",
   "metadata": {
    "ExecuteTime": {
     "end_time": "2024-05-02T04:15:30.053721Z",
     "start_time": "2024-05-02T04:15:30.024604Z"
    }
   },
   "outputs": [
    {
     "name": "stdout",
     "output_type": "stream",
     "text": [
      "Приёмка круглосуточно\n"
     ]
    }
   ],
   "source": [
    "import re\n",
    "\n",
    "def find_time_availability(text):\n",
    "    # Паттерн для поиска времени приёмки\n",
    "    time_pattern = r'Время приёмки:\\s*([\\d:.]+)'\n",
    "    # Паттерн для поиска круглосуточной приёмки\n",
    "    round_the_clock_pattern = r'Приёмка круглосуточно'\n",
    "\n",
    "    # Поиск времени приёмки\n",
    "    time_match = re.search(time_pattern, text)\n",
    "    if time_match:\n",
    "        time_availability = time_match.group(1)\n",
    "        return f\"Время приёмки: {time_availability}\"\n",
    "    \n",
    "    # Поиск круглосуточной приёмки\n",
    "    round_the_clock_match = re.search(round_the_clock_pattern, text)\n",
    "    if round_the_clock_match:\n",
    "        return \"Приёмка круглосуточно\"\n",
    "\n",
    "    return \"Информация не найдена\"\n",
    "\n",
    "# Пример текста\n",
    "text = \"\"\"\n",
    "Юра Менеджер:\n",
    "Заявка на самовывоз\n",
    "1. Дата отгрузки 28.04.2023 \n",
    "8. Время приёмки: с 9.00 до 20.00\n",
    "2. Марка ЦЕМ I 42.5н Беларусь   \n",
    "3. Количество 40 тонн \n",
    "9. Приёмка круглосуточно\n",
    "\"\"\"\n",
    "\n",
    "# Поиск и вывод информации\n",
    "print(find_time_availability(text))\n",
    "8. Время приёмки: с 9.00 до 20.00"
   ]
  },
  {
   "cell_type": "code",
   "execution_count": 609,
   "id": "cf87b00a",
   "metadata": {
    "ExecuteTime": {
     "end_time": "2024-05-02T04:39:31.245773Z",
     "start_time": "2024-05-02T04:39:31.221398Z"
    }
   },
   "outputs": [
    {
     "name": "stdout",
     "output_type": "stream",
     "text": [
      "Время приёмки круглосуточно\n"
     ]
    }
   ],
   "source": [
    "pattern = r'(?i)(время)?\\s*приёмк(и|а)(?::)?\\s*(.*)'\n",
    "# text = '\\nЮра Менеджер:\\nЗаявка на самовывоз\\n1. Дата отгрузки 28.04.2023 \\n8. Время приёмки: с 9.00 до 20.00\\n2. Марка ЦЕМ I 42.5н Беларусь   \\n3. Количество 40 тонн \\n9. Приёмка круглосуточно\\n'\n",
    "text = \"\"\"\n",
    "Контактный телефон 8 (965) 709-90-77 Игорь.\n",
    "Приёмка круглосуточно\n",
    "Заявка на самовывоз\n",
    "\"\"\"\n",
    "match = re.search(pattern, text)\n",
    "\n",
    "if match:\n",
    "    print(\"Время приёмки\", match.group(3).strip())\n",
    "else:\n",
    "    print(\"Время приёмки не найдено.\")"
   ]
  },
  {
   "cell_type": "code",
   "execution_count": 593,
   "id": "e67069ee",
   "metadata": {
    "ExecuteTime": {
     "end_time": "2024-05-02T04:33:48.128067Z",
     "start_time": "2024-05-02T04:33:48.111397Z"
    }
   },
   "outputs": [],
   "source": [
    "text = \"\"\"\n",
    "Контактный телефон 8 (965) 709-90-77 Игорь.\n",
    "Время приёмки круглосуточно\n",
    "Заявка на самовывоз\n",
    "\"\"\""
   ]
  },
  {
   "cell_type": "code",
   "execution_count": 594,
   "id": "7a19d4dd",
   "metadata": {
    "ExecuteTime": {
     "end_time": "2024-05-02T04:33:52.811480Z",
     "start_time": "2024-05-02T04:33:52.792522Z"
    }
   },
   "outputs": [
    {
     "data": {
      "text/plain": [
       "'\\nКонтактный телефон 8 (965) 709-90-77 Игорь.\\nВремя приёмки круглосуточно\\nЗаявка на самовывоз\\n'"
      ]
     },
     "execution_count": 594,
     "metadata": {},
     "output_type": "execute_result"
    }
   ],
   "source": [
    "text"
   ]
  },
  {
   "cell_type": "code",
   "execution_count": null,
   "id": "0402f6d0",
   "metadata": {},
   "outputs": [],
   "source": []
  }
 ],
 "metadata": {
  "kernelspec": {
   "display_name": "Python 3 (ipykernel)",
   "language": "python",
   "name": "python3"
  },
  "language_info": {
   "codemirror_mode": {
    "name": "ipython",
    "version": 3
   },
   "file_extension": ".py",
   "mimetype": "text/x-python",
   "name": "python",
   "nbconvert_exporter": "python",
   "pygments_lexer": "ipython3",
   "version": "3.9.12"
  }
 },
 "nbformat": 4,
 "nbformat_minor": 5
}
