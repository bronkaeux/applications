{
 "cells": [
  {
   "cell_type": "code",
   "execution_count": 1,
   "id": "0f6a85e6",
   "metadata": {
    "ExecuteTime": {
     "end_time": "2024-05-02T08:27:49.038338Z",
     "start_time": "2024-05-02T08:27:46.813520Z"
    }
   },
   "outputs": [],
   "source": [
    "import pandas as pd\n",
    "import numpy as np\n",
    "import openpyxl as ox\n",
    "import re\n",
    "import editdistance\n",
    "from datetime import datetime"
   ]
  },
  {
   "cell_type": "code",
   "execution_count": 2,
   "id": "616d8023",
   "metadata": {
    "ExecuteTime": {
     "end_time": "2024-05-02T08:27:51.975444Z",
     "start_time": "2024-05-02T08:27:51.962493Z"
    }
   },
   "outputs": [],
   "source": [
    "# надо ли переделать на создание без извлечения из иксель?\n",
    "df = pd.DataFrame(columns=['Менеджер', 'Вид доставки', 'Дата', 'Товар', 'Примечание к Товару', \n",
    "                           'Кол-во', 'Ед.изм.', 'Машина/Водитель','Продавец', 'Откуда', \n",
    "                           'Покупатель', 'Грузополучатель', 'Адрес грузополучателя (юрид)', \n",
    "                           'Адрес пункта разгрузки', 'Контакт гп','Время приемки',\n",
    "                          ])\n"
   ]
  },
  {
   "cell_type": "code",
   "execution_count": 4,
   "id": "68fc2d96",
   "metadata": {
    "ExecuteTime": {
     "end_time": "2024-05-02T08:27:54.090943Z",
     "start_time": "2024-05-02T08:27:54.054981Z"
    }
   },
   "outputs": [
    {
     "data": {
      "text/html": [
       "<div>\n",
       "<style scoped>\n",
       "    .dataframe tbody tr th:only-of-type {\n",
       "        vertical-align: middle;\n",
       "    }\n",
       "\n",
       "    .dataframe tbody tr th {\n",
       "        vertical-align: top;\n",
       "    }\n",
       "\n",
       "    .dataframe thead th {\n",
       "        text-align: right;\n",
       "    }\n",
       "</style>\n",
       "<table border=\"1\" class=\"dataframe\">\n",
       "  <thead>\n",
       "    <tr style=\"text-align: right;\">\n",
       "      <th></th>\n",
       "      <th>Менеджер</th>\n",
       "      <th>Вид доставки</th>\n",
       "      <th>Дата</th>\n",
       "      <th>Товар</th>\n",
       "      <th>Примечание к Товару</th>\n",
       "      <th>Кол-во</th>\n",
       "      <th>Ед.изм.</th>\n",
       "      <th>Машина/Водитель</th>\n",
       "      <th>Продавец</th>\n",
       "      <th>Откуда</th>\n",
       "      <th>Покупатель</th>\n",
       "      <th>Грузополучатель</th>\n",
       "      <th>Адрес грузополучателя (юрид)</th>\n",
       "      <th>Адрес пункта разгрузки</th>\n",
       "      <th>Контакт гп</th>\n",
       "      <th>Время приемки</th>\n",
       "    </tr>\n",
       "  </thead>\n",
       "  <tbody>\n",
       "  </tbody>\n",
       "</table>\n",
       "</div>"
      ],
      "text/plain": [
       "Empty DataFrame\n",
       "Columns: [Менеджер, Вид доставки, Дата, Товар, Примечание к Товару, Кол-во, Ед.изм., Машина/Водитель, Продавец, Откуда, Покупатель, Грузополучатель, Адрес грузополучателя (юрид), Адрес пункта разгрузки, Контакт гп, Время приемки]\n",
       "Index: []"
      ]
     },
     "execution_count": 4,
     "metadata": {},
     "output_type": "execute_result"
    }
   ],
   "source": [
    "df"
   ]
  },
  {
   "cell_type": "code",
   "execution_count": 5,
   "id": "adee0e96",
   "metadata": {
    "ExecuteTime": {
     "end_time": "2024-05-02T08:28:54.632590Z",
     "start_time": "2024-05-02T08:28:54.493725Z"
    }
   },
   "outputs": [],
   "source": [
    "df = pd.read_excel(\"appl_register.xlsx\", sheet_name=\"data\")\n",
    "managers = pd.read_excel(\"dictionary.xlsx\", sheet_name=\"managers\")\n",
    "products = pd.read_excel(\"dictionary.xlsx\", sheet_name=\"products\")\n",
    "units = pd.read_excel(\"dictionary.xlsx\", sheet_name=\"units\")\n",
    "unload_addresses = pd.read_excel(\"dictionary.xlsx\", sheet_name=\"unload_addresses\")"
   ]
  },
  {
   "cell_type": "code",
   "execution_count": 125,
   "id": "b89e7f23",
   "metadata": {
    "ExecuteTime": {
     "end_time": "2024-04-29T09:27:56.136692Z",
     "start_time": "2024-04-29T09:27:56.118311Z"
    }
   },
   "outputs": [],
   "source": [
    "# managers = pd.DataFrame({'login': ['ИГО', 'Юра Менеджер', 'Алексей Мельхер'],\n",
    "#                         'manager': ['Игорь Хабаров', 'Юрий', 'Алексей Мельхер']})"
   ]
  },
  {
   "cell_type": "code",
   "execution_count": 539,
   "id": "a1a51ae2",
   "metadata": {
    "ExecuteTime": {
     "end_time": "2024-05-01T15:51:10.916486Z",
     "start_time": "2024-05-01T15:51:10.889431Z"
    }
   },
   "outputs": [],
   "source": [
    "# units = pd.DataFrame({'data': ['т', 'т.', 'тн', 'тонн', 'кубов'],\n",
    "#                         'unit': ['т', 'т', 'т', 'т', 'куб']})"
   ]
  },
  {
   "cell_type": "code",
   "execution_count": 126,
   "id": "f44a154d",
   "metadata": {
    "ExecuteTime": {
     "end_time": "2024-04-29T09:27:56.414099Z",
     "start_time": "2024-04-29T09:27:56.404527Z"
    }
   },
   "outputs": [],
   "source": [
    "# products = pd.Series(data=['ЦЕМ I 42.5Н БЦК','Щебень гранитный 5-20 (ЛСР)','ЦЕМ I 42.5Н Костюковичи',\n",
    "#                                'ЦЕМ I 42.5Н БЦЗ Костюковичи', 'ЦЕМ I 42.5Н', 'ПЕСКОГРУНТ'], name='product')"
   ]
  },
  {
   "cell_type": "code",
   "execution_count": 536,
   "id": "77061a07",
   "metadata": {
    "ExecuteTime": {
     "end_time": "2024-05-01T15:46:32.792564Z",
     "start_time": "2024-05-01T15:46:32.779573Z"
    }
   },
   "outputs": [],
   "source": [
    "# unload_addresses = pd.DataFrame({'pattern1': ['Бетонная индустрия', 'Бетон Строй', 'МСУ-1', 'БетонПром', \n",
    "#                                            'Сибирский элемент Рента', 'КАНТАН', 'М Бетон', '\"ТД\"Цемент'], \n",
    "#                         'pattern2': ['Одинцово', 'Солнечногорск', 'Бескудниковский', 'Октябрьский', 'Обухово', \n",
    "#                                      'Соколовское', 'Очаковское','Голицыно'],\n",
    "#                         'address': ['Одинцово. Кобяковская. Краснознаменск.', \n",
    "#                                     'город Солнечногорск, ул. Промышленная 1б ', \n",
    "#                                     'Москва, Бескудниковский бульвар, 52к1',\n",
    "#                                     'Октябрьский, улица Старый двор, промзона',\n",
    "#                                     'Калужская обл., Дзержинский р-н, д. Обухово 1Б',\n",
    "#                                     'Московская обл., территориальное упр-е Соколовское, г.о. Солнечногорск',\n",
    "#                                     'Москва г, Очаковское ш., дом 5А, въезд с проезда Стройкомбината',\n",
    "#                                     'Голицыно, Можайское ш., 81, РБУ'\n",
    "#                                    ],\n",
    "#                               })"
   ]
  },
  {
   "cell_type": "code",
   "execution_count": 540,
   "id": "40c8cc2d",
   "metadata": {
    "ExecuteTime": {
     "end_time": "2024-05-01T15:52:06.032012Z",
     "start_time": "2024-05-01T15:52:05.939399Z"
    }
   },
   "outputs": [],
   "source": [
    "with pd.ExcelWriter(\"dictionary.xlsx\") as writer:\n",
    "    managers.to_excel(writer, sheet_name=\"managers\", index=False)\n",
    "    products.to_excel(writer, sheet_name=\"products\", index=False)\n",
    "    units.to_excel(writer, sheet_name=\"units\", index=False)\n",
    "    unload_addresses.to_excel(writer, sheet_name=\"unload_addresses\", index=False)"
   ]
  },
  {
   "cell_type": "code",
   "execution_count": 79,
   "id": "45af530f",
   "metadata": {
    "ExecuteTime": {
     "end_time": "2024-05-02T08:42:51.671615Z",
     "start_time": "2024-05-02T08:42:51.130279Z"
    }
   },
   "outputs": [],
   "source": [
    "with pd.ExcelWriter(\"appl_register.xlsx\") as writer:\n",
    "    df.to_excel(writer, sheet_name=\"data\", index=False)"
   ]
  },
  {
   "cell_type": "code",
   "execution_count": 554,
   "id": "68ca3a70",
   "metadata": {
    "ExecuteTime": {
     "end_time": "2024-05-01T16:06:24.198108Z",
     "start_time": "2024-05-01T16:06:24.184938Z"
    }
   },
   "outputs": [
    {
     "data": {
      "text/plain": [
       "0                ЦЕМI42.5НБЦК\n",
       "1    Щебеньгранитный5-20(ЛСР)\n",
       "2        ЦЕМI42.5НКостюковичи\n",
       "3     ЦЕМI42.5НБЦЗКостюковичи\n",
       "4                   ЦЕМI42.5Н\n",
       "5                  ПЕСКОГРУНТ\n",
       "6             ЦемI42.5НКричев\n",
       "7           ЦЕМI42.5НБеларусь\n",
       "Name: product, dtype: object"
      ]
     },
     "execution_count": 554,
     "metadata": {},
     "output_type": "execute_result"
    }
   ],
   "source": [
    "products['product'].str.replace(' ', '').replace('.', '')"
   ]
  },
  {
   "cell_type": "markdown",
   "id": "3046eb4f",
   "metadata": {},
   "source": [
    "## Text"
   ]
  },
  {
   "cell_type": "code",
   "execution_count": 12,
   "id": "e539e43d",
   "metadata": {
    "ExecuteTime": {
     "end_time": "2024-05-02T08:34:41.732944Z",
     "start_time": "2024-05-02T08:34:41.723891Z"
    }
   },
   "outputs": [],
   "source": [
    "appl = \"\"\"\n",
    "ИГО:\n",
    "Заявка на доставку\n",
    "1. Дата отгрузки на 26.04\n",
    "2. Марка цемента ЦЕМ I 42,5н\n",
    "Сертификаты!\n",
    "3. Количество 35 тонн \n",
    "4. Продажа от ООО \"Спарта\"\n",
    "5. С Солнечногорска  \n",
    "6. Покупатель ООО \"Бетон Строй»\n",
    "7. Грузополучатель ООО \"Бетон Строй»\n",
    "8. Адрес город Солнечногорск, ул. Промышленная 1б \n",
    "+79232208000\n",
    "+74959242828\n",
    "Дебет оплата 250\n",
    "У162ХК750 MAN\n",
    "Х240ВА797 КАМАЗ\n",
    "А215УХ750 МAN\n",
    "8. Адрес грузополучателя (юрид): 249850, Калужская обл., Дзержинский р-н, д. Обуховской, д 1Б. \n",
    "8. Время приёмки: с 9.00 до 20.00 Круглосуточно\n",
    "\"\"\""
   ]
  },
  {
   "cell_type": "code",
   "execution_count": 13,
   "id": "3cee55cb",
   "metadata": {
    "ExecuteTime": {
     "end_time": "2024-05-02T08:34:42.031292Z",
     "start_time": "2024-05-02T08:34:42.025287Z"
    }
   },
   "outputs": [],
   "source": [
    "# Используем регулярное выражение для поиска даты в формате dd.mm.yyyy\n",
    "date_pattern = r'\\b\\d{2}\\.(?:0[1-9]|1[0-2])(?:\\.\\d{2}(?:\\d{2})?)?\\b'\n",
    "\n",
    "# Находим все совпадения с помощью метода findall\n",
    "dates = re.findall(date_pattern, appl)"
   ]
  },
  {
   "cell_type": "markdown",
   "id": "2809b960",
   "metadata": {},
   "source": [
    "## Check"
   ]
  },
  {
   "cell_type": "code",
   "execution_count": 14,
   "id": "8b01e40e",
   "metadata": {
    "ExecuteTime": {
     "end_time": "2024-05-02T08:34:42.735593Z",
     "start_time": "2024-05-02T08:34:42.727571Z"
    }
   },
   "outputs": [
    {
     "data": {
      "text/plain": [
       "['26.04']"
      ]
     },
     "execution_count": 14,
     "metadata": {},
     "output_type": "execute_result"
    }
   ],
   "source": [
    "dates"
   ]
  },
  {
   "cell_type": "code",
   "execution_count": 15,
   "id": "b64df0b8",
   "metadata": {
    "ExecuteTime": {
     "end_time": "2024-05-02T08:34:43.488310Z",
     "start_time": "2024-05-02T08:34:43.465834Z"
    }
   },
   "outputs": [],
   "source": [
    "# функция для форматирования даты в установленный формат\n",
    "def convert_to_full_year(date_str):\n",
    "    current_year = datetime.now().year\n",
    "    parts = date_str.split('.')\n",
    "    \n",
    "    # Пытаемся интерпретировать дату\n",
    "    try:\n",
    "        # Если в строке только две части, добавляем текущий год\n",
    "        if len(parts) == 2:\n",
    "            date_str += f\".{current_year}\"\n",
    "        \n",
    "        # Пробуем преобразовать строку в дату\n",
    "        datetime_obj = datetime.strptime(date_str, '%d.%m.%Y')\n",
    "    except ValueError:\n",
    "        # Если возникает ошибка, попробуем считать год в формате yy\n",
    "        try:\n",
    "            datetime_obj = datetime.strptime(date_str, '%d.%m.%y')\n",
    "        except ValueError:\n",
    "            # Если и это не сработает, возможно, формат даты неизвестен\n",
    "            raise ValueError(\"Неподдерживаемый формат даты\")\n",
    "    \n",
    "    # Возвращаем дату в формате dd.mm.yyyy\n",
    "    return datetime_obj.strftime('%d.%m.%Y')"
   ]
  },
  {
   "cell_type": "code",
   "execution_count": 16,
   "id": "391e029d",
   "metadata": {
    "ExecuteTime": {
     "end_time": "2024-05-02T08:34:44.116998Z",
     "start_time": "2024-05-02T08:34:44.097934Z"
    }
   },
   "outputs": [],
   "source": [
    "# конвертируем ПОКА ЧТО для одной даты\n",
    "convert_date = convert_to_full_year(dates[0])"
   ]
  },
  {
   "cell_type": "markdown",
   "id": "5247cd10",
   "metadata": {},
   "source": [
    "## Check"
   ]
  },
  {
   "cell_type": "code",
   "execution_count": 17,
   "id": "9f313ea3",
   "metadata": {
    "ExecuteTime": {
     "end_time": "2024-05-02T08:34:44.963118Z",
     "start_time": "2024-05-02T08:34:44.943028Z"
    }
   },
   "outputs": [
    {
     "data": {
      "text/plain": [
       "'26.04.2024'"
      ]
     },
     "execution_count": 17,
     "metadata": {},
     "output_type": "execute_result"
    }
   ],
   "source": [
    "convert_date"
   ]
  },
  {
   "cell_type": "code",
   "execution_count": 18,
   "id": "6d1df367",
   "metadata": {
    "ExecuteTime": {
     "end_time": "2024-05-02T08:34:45.949845Z",
     "start_time": "2024-05-02T08:34:45.938845Z"
    }
   },
   "outputs": [],
   "source": [
    "def find_manager(text, managers_df):\n",
    "    # Проходим по каждому логину менеджера\n",
    "    for index, row in managers_df.iterrows():\n",
    "        login = row['login']\n",
    "        manager = row['manager']\n",
    "        \n",
    "        # Проверяем совпадение по колонке 'login'\n",
    "        if login.lower().replace(' ', '') in text.lower().replace(' ', ''):\n",
    "            return manager\n",
    "    return np.NAN\n",
    "\n"
   ]
  },
  {
   "cell_type": "code",
   "execution_count": 19,
   "id": "3cdcec83",
   "metadata": {
    "ExecuteTime": {
     "end_time": "2024-05-02T08:34:46.791614Z",
     "start_time": "2024-05-02T08:34:46.785546Z"
    }
   },
   "outputs": [],
   "source": [
    "manager_found = find_manager(appl, managers)"
   ]
  },
  {
   "cell_type": "code",
   "execution_count": 20,
   "id": "9f17e112",
   "metadata": {
    "ExecuteTime": {
     "end_time": "2024-05-02T08:34:47.120541Z",
     "start_time": "2024-05-02T08:34:47.110539Z"
    }
   },
   "outputs": [
    {
     "data": {
      "text/plain": [
       "'Игорь Хабаров'"
      ]
     },
     "execution_count": 20,
     "metadata": {},
     "output_type": "execute_result"
    }
   ],
   "source": [
    "manager_found"
   ]
  },
  {
   "cell_type": "code",
   "execution_count": 21,
   "id": "4d6b9366",
   "metadata": {
    "ExecuteTime": {
     "end_time": "2024-05-02T08:34:47.887919Z",
     "start_time": "2024-05-02T08:34:47.880915Z"
    }
   },
   "outputs": [],
   "source": [
    "def delivery_type(text):\n",
    "    if \"самовывоз\" in text.lower():\n",
    "        return \"самовывоз\"\n",
    "    return \"доставка\""
   ]
  },
  {
   "cell_type": "code",
   "execution_count": 22,
   "id": "2f093c5b",
   "metadata": {
    "ExecuteTime": {
     "end_time": "2024-05-02T08:34:48.385194Z",
     "start_time": "2024-05-02T08:34:48.381193Z"
    }
   },
   "outputs": [],
   "source": [
    "delivery_found = delivery_type(appl)"
   ]
  },
  {
   "cell_type": "code",
   "execution_count": 23,
   "id": "63c9f490",
   "metadata": {
    "ExecuteTime": {
     "end_time": "2024-05-02T08:34:49.265491Z",
     "start_time": "2024-05-02T08:34:49.250575Z"
    }
   },
   "outputs": [
    {
     "data": {
      "text/plain": [
       "'доставка'"
      ]
     },
     "execution_count": 23,
     "metadata": {},
     "output_type": "execute_result"
    }
   ],
   "source": [
    "delivery_found"
   ]
  },
  {
   "cell_type": "code",
   "execution_count": 24,
   "id": "a125eea4",
   "metadata": {
    "ExecuteTime": {
     "end_time": "2024-05-02T08:34:49.939381Z",
     "start_time": "2024-05-02T08:34:49.934428Z"
    }
   },
   "outputs": [],
   "source": [
    "# def find_product(text, product_df):\n",
    "#     \"\"\"\n",
    "#     Функция для поиска товара по тексту и датафрейму с видами товара.\n",
    "\n",
    "#     Аргументы:\n",
    "#     text (str): Текст для поиска товара.\n",
    "#     product_df (pandas.DataFrame): Датафрейм с колонками 'login' и 'manager',\n",
    "#                                      содержащий информацию о менеджерах.\n",
    "\n",
    "#     Возвращает:\n",
    "#     str: Имя менеджера, если совпадение найдено, иначе сообщение о том, что совпадений не найдено.\n",
    "#     \"\"\"\n",
    "#     # Проходим по каждому логину менеджера\n",
    "#     for index, row in product_df.iterrows():\n",
    "#         product = row['product']\n",
    "#         # Проверяем совпадение по колонке 'login'\n",
    "#         if product.lower().replace(' ', '') in text.lower().replace(' ', ''):\n",
    "#             return product\n",
    "#     # Если совпадений не найдено\n",
    "#     return np.NAN"
   ]
  },
  {
   "cell_type": "code",
   "execution_count": 25,
   "id": "f52a40be",
   "metadata": {
    "ExecuteTime": {
     "end_time": "2024-05-02T08:34:50.627022Z",
     "start_time": "2024-05-02T08:34:50.613142Z"
    }
   },
   "outputs": [],
   "source": [
    "# product_found = find_product(appl, products)"
   ]
  },
  {
   "cell_type": "code",
   "execution_count": 26,
   "id": "f28bc893",
   "metadata": {
    "ExecuteTime": {
     "end_time": "2024-05-02T08:34:50.940034Z",
     "start_time": "2024-05-02T08:34:50.934479Z"
    }
   },
   "outputs": [],
   "source": [
    "# product_found"
   ]
  },
  {
   "cell_type": "code",
   "execution_count": 28,
   "id": "79d16206",
   "metadata": {
    "ExecuteTime": {
     "end_time": "2024-05-02T08:35:20.457548Z",
     "start_time": "2024-05-02T08:35:20.448548Z"
    }
   },
   "outputs": [],
   "source": [
    "def find_product(text):\n",
    "    # Находим значение после слова \"Марка:\" без учета регистра\n",
    "    marca_match = re.search(r'(?i)Марка(:)?\\s*(цемента)?\\s*(.*?)\\n', text)\n",
    "    marca_value = marca_match.group(3) if marca_match else np.NAN\n",
    "\n",
    "    return marca_value\n",
    "    "
   ]
  },
  {
   "cell_type": "code",
   "execution_count": 29,
   "id": "27eb16d9",
   "metadata": {
    "ExecuteTime": {
     "end_time": "2024-05-02T08:35:20.913785Z",
     "start_time": "2024-05-02T08:35:20.906737Z"
    }
   },
   "outputs": [],
   "source": [
    "product_found = find_product(appl)"
   ]
  },
  {
   "cell_type": "code",
   "execution_count": 30,
   "id": "c26723cb",
   "metadata": {
    "ExecuteTime": {
     "end_time": "2024-05-02T08:35:21.380524Z",
     "start_time": "2024-05-02T08:35:21.357167Z"
    }
   },
   "outputs": [
    {
     "data": {
      "text/plain": [
       "'ЦЕМ I 42,5н'"
      ]
     },
     "execution_count": 30,
     "metadata": {},
     "output_type": "execute_result"
    }
   ],
   "source": [
    "product_found"
   ]
  },
  {
   "cell_type": "code",
   "execution_count": 31,
   "id": "19026552",
   "metadata": {
    "ExecuteTime": {
     "end_time": "2024-05-02T08:35:26.239531Z",
     "start_time": "2024-05-02T08:35:26.217922Z"
    }
   },
   "outputs": [],
   "source": [
    "def find_product_notice(text):    \n",
    "    # Находим значение между строкой с \"Марка:\" и следующим номером пункта\n",
    "    # Если нет следующего номера пункта, возвращаем np.NAN\n",
    "  \n",
    "    intermediate_match = re.search(r'(?i)Марка.*?\\n(.*?)\\n\\d', text, re.DOTALL)\n",
    "    intermediate_value = intermediate_match.group(1) if intermediate_match else np.NAN\n",
    "    \n",
    "    if re.match(r'^[^0-9.].*', intermediate_value):\n",
    "        return intermediate_value\n",
    "    else:\n",
    "        np.NAN"
   ]
  },
  {
   "cell_type": "code",
   "execution_count": 32,
   "id": "13105fa7",
   "metadata": {
    "ExecuteTime": {
     "end_time": "2024-05-02T08:35:30.479719Z",
     "start_time": "2024-05-02T08:35:30.467318Z"
    }
   },
   "outputs": [],
   "source": [
    "product_notice_found = find_product_notice(appl)"
   ]
  },
  {
   "cell_type": "code",
   "execution_count": 33,
   "id": "596956f0",
   "metadata": {
    "ExecuteTime": {
     "end_time": "2024-05-02T08:35:36.702513Z",
     "start_time": "2024-05-02T08:35:36.687722Z"
    }
   },
   "outputs": [
    {
     "data": {
      "text/plain": [
       "'Сертификаты!'"
      ]
     },
     "execution_count": 33,
     "metadata": {},
     "output_type": "execute_result"
    }
   ],
   "source": [
    "product_notice_found"
   ]
  },
  {
   "cell_type": "code",
   "execution_count": 34,
   "id": "bb5b2c92",
   "metadata": {
    "ExecuteTime": {
     "end_time": "2024-05-02T08:35:40.348890Z",
     "start_time": "2024-05-02T08:35:40.335372Z"
    }
   },
   "outputs": [],
   "source": [
    "def find_quantity(text):\n",
    "    # Находим значение после слова \"Количество/кол-во:\" без учета регистра    \n",
    "    quantity_match = re.search(r'(?i)кол(\\s*-\\s*|ичест)?во\\s*(:)?\\s*(\\d+)', text)\n",
    "    quantity = int(quantity_match.group(3)) if quantity_match else np.NAN\n",
    "    \n",
    "    return quantity"
   ]
  },
  {
   "cell_type": "code",
   "execution_count": 35,
   "id": "d5808d65",
   "metadata": {
    "ExecuteTime": {
     "end_time": "2024-05-02T08:35:40.647233Z",
     "start_time": "2024-05-02T08:35:40.632712Z"
    }
   },
   "outputs": [],
   "source": [
    "quantity_found = find_quantity(appl)"
   ]
  },
  {
   "cell_type": "code",
   "execution_count": 36,
   "id": "84465970",
   "metadata": {
    "ExecuteTime": {
     "end_time": "2024-05-02T08:35:40.975039Z",
     "start_time": "2024-05-02T08:35:40.956064Z"
    }
   },
   "outputs": [
    {
     "data": {
      "text/plain": [
       "35"
      ]
     },
     "execution_count": 36,
     "metadata": {},
     "output_type": "execute_result"
    }
   ],
   "source": [
    "quantity_found"
   ]
  },
  {
   "cell_type": "code",
   "execution_count": 37,
   "id": "b13eee04",
   "metadata": {
    "ExecuteTime": {
     "end_time": "2024-05-02T08:35:41.872335Z",
     "start_time": "2024-05-02T08:35:41.859334Z"
    }
   },
   "outputs": [],
   "source": [
    "def find_unit_note(text):\n",
    "    # Находим значение после слова \"Количество/кол-во:\" без учета регистра    \n",
    "    unit_match = re.search(r'(?i)кол(-|ичест)?во\\s*(:)?\\s*(\\d+)\\s*(\\D+)\\s*', text)\n",
    "    unit = unit_match.group(4).strip() if unit_match else np.NAN\n",
    "    \n",
    "    return unit"
   ]
  },
  {
   "cell_type": "code",
   "execution_count": 38,
   "id": "b8e9882c",
   "metadata": {
    "ExecuteTime": {
     "end_time": "2024-05-02T08:35:42.247093Z",
     "start_time": "2024-05-02T08:35:42.239031Z"
    }
   },
   "outputs": [],
   "source": [
    "unit_note_found = find_unit_note(appl)"
   ]
  },
  {
   "cell_type": "code",
   "execution_count": 39,
   "id": "e5bee03c",
   "metadata": {
    "ExecuteTime": {
     "end_time": "2024-05-02T08:35:42.819657Z",
     "start_time": "2024-05-02T08:35:42.807064Z"
    }
   },
   "outputs": [],
   "source": [
    "unit_found = units.loc[units[units['data']==unit_note_found].index[0], 'unit']"
   ]
  },
  {
   "cell_type": "code",
   "execution_count": 41,
   "id": "52b48183",
   "metadata": {
    "ExecuteTime": {
     "end_time": "2024-05-02T08:35:51.763306Z",
     "start_time": "2024-05-02T08:35:51.751440Z"
    }
   },
   "outputs": [
    {
     "data": {
      "text/plain": [
       "'т'"
      ]
     },
     "execution_count": 41,
     "metadata": {},
     "output_type": "execute_result"
    }
   ],
   "source": [
    "unit_found"
   ]
  },
  {
   "cell_type": "code",
   "execution_count": 42,
   "id": "2a1d38e5",
   "metadata": {
    "ExecuteTime": {
     "end_time": "2024-05-02T08:35:54.335836Z",
     "start_time": "2024-05-02T08:35:54.327837Z"
    }
   },
   "outputs": [],
   "source": [
    "def find_car(text):\n",
    "    \n",
    "    car_match = re.findall(r'(?i)[А-Я]{1}\\d{3}[А-Я]{2}\\d{3}\\s*\\w*', text)\n",
    "    cars = car_match if car_match else np.NAN\n",
    "    \n",
    "    return cars"
   ]
  },
  {
   "cell_type": "code",
   "execution_count": 43,
   "id": "7593e0a7",
   "metadata": {
    "ExecuteTime": {
     "end_time": "2024-05-02T08:35:54.716062Z",
     "start_time": "2024-05-02T08:35:54.707002Z"
    }
   },
   "outputs": [],
   "source": [
    "cars_found = ', '.join(find_car(appl)) if find_car(appl) is not np.NAN else np.NAN"
   ]
  },
  {
   "cell_type": "code",
   "execution_count": 44,
   "id": "5252b274",
   "metadata": {
    "ExecuteTime": {
     "end_time": "2024-05-02T08:35:55.236632Z",
     "start_time": "2024-05-02T08:35:55.215110Z"
    }
   },
   "outputs": [
    {
     "data": {
      "text/plain": [
       "'У162ХК750 MAN, Х240ВА797 КАМАЗ, А215УХ750 МAN'"
      ]
     },
     "execution_count": 44,
     "metadata": {},
     "output_type": "execute_result"
    }
   ],
   "source": [
    "cars_found"
   ]
  },
  {
   "cell_type": "code",
   "execution_count": 45,
   "id": "d08394e7",
   "metadata": {
    "ExecuteTime": {
     "end_time": "2024-05-02T08:35:58.458222Z",
     "start_time": "2024-05-02T08:35:58.443200Z"
    }
   },
   "outputs": [],
   "source": [
    "def find_organization(text):\n",
    "#     Продажа от: ООО \"Спарта\"\n",
    "    organization_match = re.search(r'(?i)(продажа\\s+от:|(продажа)?\\s*от\\s+(клиента)?\\s*(:)?)\\s*(.+?)\\n', text)\n",
    "    organization = organization_match.group(5) if organization_match else np.NAN\n",
    "    \n",
    "    return organization"
   ]
  },
  {
   "cell_type": "code",
   "execution_count": 46,
   "id": "2b6eaee6",
   "metadata": {
    "ExecuteTime": {
     "end_time": "2024-05-02T08:35:58.728540Z",
     "start_time": "2024-05-02T08:35:58.707942Z"
    }
   },
   "outputs": [],
   "source": [
    "organization_found = find_organization(appl)"
   ]
  },
  {
   "cell_type": "code",
   "execution_count": 47,
   "id": "15214ef3",
   "metadata": {
    "ExecuteTime": {
     "end_time": "2024-05-02T08:35:59.184289Z",
     "start_time": "2024-05-02T08:35:59.174281Z"
    }
   },
   "outputs": [
    {
     "data": {
      "text/plain": [
       "'ООО \"Спарта\"'"
      ]
     },
     "execution_count": 47,
     "metadata": {},
     "output_type": "execute_result"
    }
   ],
   "source": [
    "organization_found"
   ]
  },
  {
   "cell_type": "code",
   "execution_count": 48,
   "id": "16127f7f",
   "metadata": {
    "ExecuteTime": {
     "end_time": "2024-05-02T08:35:59.991626Z",
     "start_time": "2024-05-02T08:35:59.970577Z"
    }
   },
   "outputs": [],
   "source": [
    "def find_transshipment(text):\n",
    "    \n",
    "    transshipment_match = \\\n",
    "    re.search(r'(?i)\\d+\\.\\s*(С\\s+(перевалки)?\\s*|Завод\\s*(отгрузки)?\\s*(:)?|Перевалка\\s*(:)?)\\s*(.+?)\\n', \n",
    "              text)\n",
    "    transshipment = transshipment_match.group(6) if transshipment_match else np.NAN\n",
    "    \n",
    "    return transshipment"
   ]
  },
  {
   "cell_type": "code",
   "execution_count": 49,
   "id": "673a1165",
   "metadata": {
    "ExecuteTime": {
     "end_time": "2024-05-02T08:36:01.012732Z",
     "start_time": "2024-05-02T08:36:00.999794Z"
    }
   },
   "outputs": [],
   "source": [
    "transshipment_found = find_transshipment(appl)"
   ]
  },
  {
   "cell_type": "code",
   "execution_count": 50,
   "id": "8d00460e",
   "metadata": {
    "ExecuteTime": {
     "end_time": "2024-05-02T08:36:02.133222Z",
     "start_time": "2024-05-02T08:36:02.117227Z"
    }
   },
   "outputs": [
    {
     "data": {
      "text/plain": [
       "'Солнечногорска  '"
      ]
     },
     "execution_count": 50,
     "metadata": {},
     "output_type": "execute_result"
    }
   ],
   "source": [
    "transshipment_found "
   ]
  },
  {
   "cell_type": "markdown",
   "id": "6a1cb40c",
   "metadata": {},
   "source": [
    "## Доделать, спросить у Лёхи\n",
    "\n",
    "Нужно ли создавать словарь для именительного падежа названия перевалки?"
   ]
  },
  {
   "cell_type": "code",
   "execution_count": 51,
   "id": "9716c3bc",
   "metadata": {
    "ExecuteTime": {
     "end_time": "2024-05-02T08:36:05.629131Z",
     "start_time": "2024-05-02T08:36:05.609059Z"
    }
   },
   "outputs": [],
   "source": [
    "def find_purchaser(text):\n",
    "    \n",
    "    purchaser_match = \\\n",
    "    re.search(r'(?i)\\d+\\.\\s*(Покупатель\\s*(груза)?\\s*(:)?)\\s*(.+?)\\n', \n",
    "              text)\n",
    "    purchaser = purchaser_match.group(4) if purchaser_match else np.NAN\n",
    "    \n",
    "    return purchaser"
   ]
  },
  {
   "cell_type": "code",
   "execution_count": 52,
   "id": "d67095c4",
   "metadata": {
    "ExecuteTime": {
     "end_time": "2024-05-02T08:36:05.927663Z",
     "start_time": "2024-05-02T08:36:05.918657Z"
    }
   },
   "outputs": [],
   "source": [
    "purchaser_found = find_purchaser(appl)"
   ]
  },
  {
   "cell_type": "code",
   "execution_count": 53,
   "id": "3d2b5627",
   "metadata": {
    "ExecuteTime": {
     "end_time": "2024-05-02T08:36:06.243731Z",
     "start_time": "2024-05-02T08:36:06.228667Z"
    }
   },
   "outputs": [
    {
     "data": {
      "text/plain": [
       "'ООО \"Бетон Строй»'"
      ]
     },
     "execution_count": 53,
     "metadata": {},
     "output_type": "execute_result"
    }
   ],
   "source": [
    "purchaser_found"
   ]
  },
  {
   "cell_type": "markdown",
   "id": "4a22ed3a",
   "metadata": {},
   "source": [
    "  ## Доделать, спросить у Лёхи\n",
    "\n",
    "4. ООО «ПД Технологии» объект *Пушкино* ,\n",
    "4. ООО «ПД Технологии» объект *Пушкино* "
   ]
  },
  {
   "cell_type": "code",
   "execution_count": 54,
   "id": "be30ee18",
   "metadata": {
    "ExecuteTime": {
     "end_time": "2024-05-02T08:36:13.964197Z",
     "start_time": "2024-05-02T08:36:13.958189Z"
    }
   },
   "outputs": [],
   "source": [
    "def find_consignee(text):\n",
    "    \n",
    "    consignee_match = \\\n",
    "    consignee_match = re.search(r'(?i)\\d+\\.\\s*(?:Грузополучатель\\s*(?::)?|Грузополучатель\\s*\\(при\\s*оформлении\\s*ттн\\)\\s*(?::)?)\\s*(.+?)\\n', \n",
    "              text)\n",
    "    consignee = consignee_match.group(1).split(':')[-1].strip() if consignee_match else np.NAN\n",
    "    \n",
    "    return consignee"
   ]
  },
  {
   "cell_type": "code",
   "execution_count": 55,
   "id": "4d575f58",
   "metadata": {
    "ExecuteTime": {
     "end_time": "2024-05-02T08:36:14.326984Z",
     "start_time": "2024-05-02T08:36:14.320980Z"
    }
   },
   "outputs": [],
   "source": [
    "consignee_found = find_consignee(appl)"
   ]
  },
  {
   "cell_type": "code",
   "execution_count": 56,
   "id": "ba429ae8",
   "metadata": {
    "ExecuteTime": {
     "end_time": "2024-05-02T08:36:15.050177Z",
     "start_time": "2024-05-02T08:36:15.038172Z"
    }
   },
   "outputs": [
    {
     "data": {
      "text/plain": [
       "'ООО \"Бетон Строй»'"
      ]
     },
     "execution_count": 56,
     "metadata": {},
     "output_type": "execute_result"
    }
   ],
   "source": [
    "consignee_found"
   ]
  },
  {
   "cell_type": "markdown",
   "id": "2c1159d1",
   "metadata": {},
   "source": [
    "## Лёхе\n",
    "\n",
    "С этим надо что-то делать, так нихуя не понятно  \n",
    "5. Бетас "
   ]
  },
  {
   "cell_type": "code",
   "execution_count": 57,
   "id": "c75f6e54",
   "metadata": {
    "ExecuteTime": {
     "end_time": "2024-05-02T08:36:20.595951Z",
     "start_time": "2024-05-02T08:36:20.578949Z"
    }
   },
   "outputs": [],
   "source": [
    "def find_consignee_leg_addr(text):\n",
    "    \n",
    "    find_consignee_leg_addr_match = \\\n",
    "    re.search(r'(?i)\\d+\\.\\s*(Юр\\s*\\.)?\\s*(Адрес\\s*грузополучателя)\\s*(\\(юрид\\))?\\s*(:)?\\s*(.+?)\\n',\n",
    "              text)\n",
    "    find_consignee_leg_addr = find_consignee_leg_addr_match.group(5) if find_consignee_leg_addr_match else np.NAN\n",
    "    \n",
    "    return find_consignee_leg_addr"
   ]
  },
  {
   "cell_type": "code",
   "execution_count": 58,
   "id": "368a488e",
   "metadata": {
    "ExecuteTime": {
     "end_time": "2024-05-02T08:36:21.018308Z",
     "start_time": "2024-05-02T08:36:21.000142Z"
    }
   },
   "outputs": [],
   "source": [
    "consignee_leg_addr_found = find_consignee_leg_addr(appl)"
   ]
  },
  {
   "cell_type": "code",
   "execution_count": 59,
   "id": "e400a74e",
   "metadata": {
    "ExecuteTime": {
     "end_time": "2024-05-02T08:36:21.582851Z",
     "start_time": "2024-05-02T08:36:21.567782Z"
    }
   },
   "outputs": [
    {
     "data": {
      "text/plain": [
       "'249850, Калужская обл., Дзержинский р-н, д. Обуховской, д 1Б. '"
      ]
     },
     "execution_count": 59,
     "metadata": {},
     "output_type": "execute_result"
    }
   ],
   "source": [
    "consignee_leg_addr_found"
   ]
  },
  {
   "cell_type": "markdown",
   "id": "4991de9e",
   "metadata": {},
   "source": [
    "## Лёхе\n",
    "Может ли быть подъёб со стороны менеджера, который еще вариант написания придумает?  \n",
    "8. Адрес грузополучателя (юрид):  \n",
    "8. Юр.Адрес грузополучателя:"
   ]
  },
  {
   "cell_type": "code",
   "execution_count": 60,
   "id": "efad3259",
   "metadata": {
    "ExecuteTime": {
     "end_time": "2024-05-02T08:36:25.332196Z",
     "start_time": "2024-05-02T08:36:25.325173Z"
    }
   },
   "outputs": [],
   "source": [
    "def find_phones(text):\n",
    "    phone_numbers = re.findall(r'\\+?\\d{1,3}[\\s-]?\\(?\\d{3}\\)?[\\s-]?\\d{2,3}[\\s-]?\\d{2}[\\s-]?\\d{2}(?=\\s|$)', text)\n",
    "    phone_numbers = phone_numbers if phone_numbers else np.NAN\n",
    "    \n",
    "    return phone_numbers"
   ]
  },
  {
   "cell_type": "code",
   "execution_count": 61,
   "id": "c6058c8e",
   "metadata": {
    "ExecuteTime": {
     "end_time": "2024-05-02T08:36:25.707224Z",
     "start_time": "2024-05-02T08:36:25.689789Z"
    }
   },
   "outputs": [],
   "source": [
    "phones_found = find_phones(appl)"
   ]
  },
  {
   "cell_type": "code",
   "execution_count": 62,
   "id": "ed955372",
   "metadata": {
    "ExecuteTime": {
     "end_time": "2024-05-02T08:36:26.224952Z",
     "start_time": "2024-05-02T08:36:26.219525Z"
    }
   },
   "outputs": [],
   "source": [
    "phones_found = ', '.join(find_phones(appl)) if find_phones(appl) is not np.NAN else np.NAN"
   ]
  },
  {
   "cell_type": "code",
   "execution_count": 63,
   "id": "18e795a1",
   "metadata": {
    "ExecuteTime": {
     "end_time": "2024-05-02T08:36:26.677595Z",
     "start_time": "2024-05-02T08:36:26.664420Z"
    }
   },
   "outputs": [
    {
     "data": {
      "text/plain": [
       "'+79232208000, +74959242828'"
      ]
     },
     "execution_count": 63,
     "metadata": {},
     "output_type": "execute_result"
    }
   ],
   "source": [
    "phones_found"
   ]
  },
  {
   "cell_type": "code",
   "execution_count": 64,
   "id": "69753c1c",
   "metadata": {
    "ExecuteTime": {
     "end_time": "2024-05-02T08:36:29.929328Z",
     "start_time": "2024-05-02T08:36:29.910328Z"
    }
   },
   "outputs": [],
   "source": [
    "def find_unl_addr(text, unload_addresses_df):\n",
    "    # Проходим по каждому логину менеджера\n",
    "    for index, row in unload_addresses_df.iterrows():\n",
    "        pattern1 = row['pattern1']\n",
    "        pattern2 = row['pattern2']\n",
    "        address = row['address']\n",
    "        \n",
    "        # Проверяем совпадение по колонке 'login'\n",
    "        if pattern1.lower().replace(' ', '') and pattern2.lower().replace(' ', '') \\\n",
    "        in text.lower().replace(' ', ''):\n",
    "            return address\n",
    "    return np.NAN"
   ]
  },
  {
   "cell_type": "code",
   "execution_count": 65,
   "id": "f826ba6e",
   "metadata": {
    "ExecuteTime": {
     "end_time": "2024-05-02T08:36:30.241257Z",
     "start_time": "2024-05-02T08:36:30.227320Z"
    }
   },
   "outputs": [],
   "source": [
    "unl_addr_found = find_unl_addr(appl, unload_addresses)"
   ]
  },
  {
   "cell_type": "code",
   "execution_count": 66,
   "id": "72213171",
   "metadata": {
    "ExecuteTime": {
     "end_time": "2024-05-02T08:36:30.619362Z",
     "start_time": "2024-05-02T08:36:30.600846Z"
    }
   },
   "outputs": [
    {
     "data": {
      "text/plain": [
       "'город Солнечногорск, ул. Промышленная 1б '"
      ]
     },
     "execution_count": 66,
     "metadata": {},
     "output_type": "execute_result"
    }
   ],
   "source": [
    "unl_addr_found"
   ]
  },
  {
   "cell_type": "markdown",
   "id": "7f9e6bc8",
   "metadata": {},
   "source": [
    "## Лёхе\n",
    "\n",
    "Забить все адреса в словарь"
   ]
  },
  {
   "cell_type": "code",
   "execution_count": 67,
   "id": "4d542357",
   "metadata": {
    "ExecuteTime": {
     "end_time": "2024-05-02T08:36:33.295625Z",
     "start_time": "2024-05-02T08:36:33.279616Z"
    }
   },
   "outputs": [],
   "source": [
    "def find_time(text):\n",
    "    \n",
    "    time_match = re.search(r'(?i)(время)?\\s*при(ё|е)мк(и|а)(?::)?\\s*(.*)', text)\n",
    "    time = time_match.group(4) if time_match else np.NAN\n",
    "    \n",
    "    return time"
   ]
  },
  {
   "cell_type": "code",
   "execution_count": 68,
   "id": "eedb2602",
   "metadata": {
    "ExecuteTime": {
     "end_time": "2024-05-02T08:36:33.565581Z",
     "start_time": "2024-05-02T08:36:33.543369Z"
    }
   },
   "outputs": [],
   "source": [
    "accept_time_found = find_time(appl)"
   ]
  },
  {
   "cell_type": "code",
   "execution_count": 69,
   "id": "bed3c451",
   "metadata": {
    "ExecuteTime": {
     "end_time": "2024-05-02T08:36:33.891728Z",
     "start_time": "2024-05-02T08:36:33.883723Z"
    }
   },
   "outputs": [
    {
     "data": {
      "text/plain": [
       "'с 9.00 до 20.00 Круглосуточно'"
      ]
     },
     "execution_count": 69,
     "metadata": {},
     "output_type": "execute_result"
    }
   ],
   "source": [
    "accept_time_found"
   ]
  },
  {
   "cell_type": "code",
   "execution_count": 70,
   "id": "ccebb997",
   "metadata": {
    "ExecuteTime": {
     "end_time": "2024-05-02T08:36:34.776704Z",
     "start_time": "2024-05-02T08:36:34.769703Z"
    }
   },
   "outputs": [],
   "source": [
    "def find_note(text):\n",
    "    \n",
    "    note_match = re.search(r'(?i)(.*)\\s*(?::)?\\s*(оплата)\\s*(?::)?\\s*(.*)', text)\n",
    "    note = '{} {} {}'.format(note_match.group(1).strip(), note_match.group(2).strip(), \n",
    "                             note_match.group(3).strip()) if note_match else np.NAN\n",
    "    \n",
    "    return note"
   ]
  },
  {
   "cell_type": "code",
   "execution_count": 71,
   "id": "6a61d934",
   "metadata": {
    "ExecuteTime": {
     "end_time": "2024-05-02T08:36:35.297187Z",
     "start_time": "2024-05-02T08:36:35.280120Z"
    }
   },
   "outputs": [],
   "source": [
    "note_found = find_note(appl)"
   ]
  },
  {
   "cell_type": "code",
   "execution_count": 72,
   "id": "0bf793f7",
   "metadata": {
    "ExecuteTime": {
     "end_time": "2024-05-02T08:36:36.195640Z",
     "start_time": "2024-05-02T08:36:36.185581Z"
    }
   },
   "outputs": [
    {
     "data": {
      "text/plain": [
       "'Дебет оплата 250'"
      ]
     },
     "execution_count": 72,
     "metadata": {},
     "output_type": "execute_result"
    }
   ],
   "source": [
    "note_found"
   ]
  },
  {
   "cell_type": "markdown",
   "id": "3d07f487",
   "metadata": {},
   "source": [
    "## Лёхе \n",
    "\n",
    "Что бывает в примечаниях? - Пока этот столбец будет реагировать на слово \"оплата\""
   ]
  },
  {
   "cell_type": "code",
   "execution_count": null,
   "id": "e6c0e8c6",
   "metadata": {},
   "outputs": [],
   "source": []
  },
  {
   "cell_type": "code",
   "execution_count": null,
   "id": "90a46a32",
   "metadata": {},
   "outputs": [],
   "source": []
  },
  {
   "cell_type": "code",
   "execution_count": null,
   "id": "4695559a",
   "metadata": {},
   "outputs": [],
   "source": []
  },
  {
   "cell_type": "code",
   "execution_count": 73,
   "id": "758773f0",
   "metadata": {
    "ExecuteTime": {
     "end_time": "2024-05-02T08:37:24.314756Z",
     "start_time": "2024-05-02T08:37:24.267960Z"
    }
   },
   "outputs": [],
   "source": [
    "# Создаем новый DataFrame с одной строкой, содержащей только дату\n",
    "new_row_df = pd.DataFrame({'Менеджер': [manager_found], \n",
    "                           'Вид доставки': [delivery_found], \n",
    "                           'Дата': [convert_date], \n",
    "                           'Товар': [product_found], \n",
    "                           'Примечание к Товару': [product_notice_found], \n",
    "                           'Кол-во': [quantity_found], \n",
    "                           'Ед.изм.': [unit_found], \n",
    "                           'Машина/Водитель': [cars_found], \n",
    "                           'Продавец': [organization_found], \n",
    "                           'Откуда': [transshipment_found], \n",
    "                           'Покупатель': [purchaser_found], \n",
    "                           'Грузополучатель': [consignee_found],\n",
    "                           'Адрес грузополучателя (юрид)': [consignee_leg_addr_found], \n",
    "                           'Адрес пункта разгрузки': [unl_addr_found], \n",
    "                           'Контакт гп': [phones_found],\n",
    "                           'Время приемки': [accept_time_found],\n",
    "                           'Примечание Иное': [note_found],\n",
    "                          })\n",
    "\n",
    "df = pd.concat([df, new_row_df], ignore_index=True)"
   ]
  },
  {
   "cell_type": "code",
   "execution_count": 78,
   "id": "9c1ab873",
   "metadata": {
    "ExecuteTime": {
     "end_time": "2024-05-02T08:41:21.746686Z",
     "start_time": "2024-05-02T08:41:21.726497Z"
    }
   },
   "outputs": [
    {
     "data": {
      "text/html": [
       "<div>\n",
       "<style scoped>\n",
       "    .dataframe tbody tr th:only-of-type {\n",
       "        vertical-align: middle;\n",
       "    }\n",
       "\n",
       "    .dataframe tbody tr th {\n",
       "        vertical-align: top;\n",
       "    }\n",
       "\n",
       "    .dataframe thead th {\n",
       "        text-align: right;\n",
       "    }\n",
       "</style>\n",
       "<table border=\"1\" class=\"dataframe\">\n",
       "  <thead>\n",
       "    <tr style=\"text-align: right;\">\n",
       "      <th></th>\n",
       "      <th>Менеджер</th>\n",
       "      <th>Вид доставки</th>\n",
       "      <th>Дата</th>\n",
       "      <th>Товар</th>\n",
       "      <th>Примечание к Товару</th>\n",
       "      <th>Кол-во</th>\n",
       "      <th>Ед.изм.</th>\n",
       "      <th>Машина/Водитель</th>\n",
       "      <th>Продавец</th>\n",
       "      <th>Откуда</th>\n",
       "      <th>Покупатель</th>\n",
       "      <th>Грузополучатель</th>\n",
       "      <th>Адрес грузополучателя (юрид)</th>\n",
       "      <th>Адрес пункта разгрузки</th>\n",
       "      <th>Контакт гп</th>\n",
       "      <th>Время приемки</th>\n",
       "      <th>Примечание Иное</th>\n",
       "    </tr>\n",
       "  </thead>\n",
       "  <tbody>\n",
       "  </tbody>\n",
       "</table>\n",
       "</div>"
      ],
      "text/plain": [
       "Empty DataFrame\n",
       "Columns: [Менеджер, Вид доставки, Дата, Товар, Примечание к Товару, Кол-во, Ед.изм., Машина/Водитель, Продавец, Откуда, Покупатель, Грузополучатель, Адрес грузополучателя (юрид), Адрес пункта разгрузки, Контакт гп, Время приемки, Примечание Иное]\n",
       "Index: []"
      ]
     },
     "execution_count": 78,
     "metadata": {},
     "output_type": "execute_result"
    }
   ],
   "source": [
    "df"
   ]
  },
  {
   "cell_type": "code",
   "execution_count": 77,
   "id": "9307b9f8",
   "metadata": {
    "ExecuteTime": {
     "end_time": "2024-05-02T08:41:19.038473Z",
     "start_time": "2024-05-02T08:41:19.017354Z"
    }
   },
   "outputs": [],
   "source": [
    "df.drop(df.index, inplace=True)"
   ]
  },
  {
   "cell_type": "code",
   "execution_count": 76,
   "id": "7885b13e",
   "metadata": {
    "ExecuteTime": {
     "end_time": "2024-04-30T14:05:23.947343Z",
     "start_time": "2024-04-30T14:05:23.924348Z"
    }
   },
   "outputs": [
    {
     "data": {
      "text/plain": [
       "Index(['Менеджер', 'Вид доставки', 'Дата', 'Товар', 'Примечание к Товару',\n",
       "       'Кол-во', 'Ед.изм.', 'Машина/Водитель', 'Продавец', 'Откуда',\n",
       "       'Покупатель', 'Грузополучатель ', 'Адрес грузополучателя (юрид)',\n",
       "       'Адрес пункта разгрузки', 'Контакт гп', 'Примечание Иное'],\n",
       "      dtype='object')"
      ]
     },
     "execution_count": 76,
     "metadata": {},
     "output_type": "execute_result"
    }
   ],
   "source": [
    "df.columns"
   ]
  },
  {
   "cell_type": "code",
   "execution_count": null,
   "id": "8a23897c",
   "metadata": {},
   "outputs": [],
   "source": []
  },
  {
   "cell_type": "code",
   "execution_count": null,
   "id": "7fc06616",
   "metadata": {},
   "outputs": [],
   "source": []
  },
  {
   "cell_type": "code",
   "execution_count": null,
   "id": "aefb6d50",
   "metadata": {},
   "outputs": [],
   "source": []
  },
  {
   "cell_type": "code",
   "execution_count": null,
   "id": "42ed8312",
   "metadata": {},
   "outputs": [],
   "source": [
    "patterns = [\n",
    "    # ПАО ГТС => ГТС, ПАО\n",
    "    r'^(?i)(П?АО|ООО|ГУП)(?:\\s+|\\s*\")([^\"]+)\"?',\n",
    "    \n",
    "    # ПАО Р-БАНК//ИЗМАЙЛОВ ВАЛЕРИЙ МИХАЙЛОВИЧ//РОССИЯ,МОСКВА Г Р/С в ПАО Р-БАНК г Москва => Измайлов В.\n",
    "    r'//([\\w-]+)\\s+(\\w)\\w*\\s+(?:\\w)\\w*//',\n",
    "    \n",
    "    # Индивидуальный ПРЕДПРИНИМАТЕЛЬ Логинов Андрей Николаевич => Логинов А., ИП\n",
    "    r'^(?i)(и)(?:ндивидуальный)?\\s*(п)(?:редприниматель)?\\s*(\\w+)\\s+(\\w)\\w*\\s*(\\w)?\\w*',\n",
    "    \n",
    "    # Никишкина Лидия Алексеевна (ИП) => Нокошина Л., ИП\n",
    "    r'^([\\w-]+)\\s+(\\w)\\w*\\s*(\\w)?\\w*\\s*\\((ИП)\\)$',\n",
    "    \n",
    "    # ВОРОНОВ ИЛЬЯ АНДРЕЕВИЧ => Воронов И.\n",
    "    r'([\\w-]+)\\s+(\\w)\\w*\\s+(\\w)\\w*$',\n",
    "    \n",
    "    # ООО \"ЧОП \"ОХРАННЫЕ СИСТЕМЫ\" => ОХРАННЫЕ СИСТЕМЫ, ЧОП, ООО\n",
    "    r'^([\\w-]{2,3})\\s+\"?(.*)\\s+\"(.*)\"',\n",
    "    \n",
    "    #  contains \"ФНС\": \n",
    "    r'\\w*\\s*(?i)(?:и?)\\s*(ф)(?:едеральной)?\\s*(н)(?:алоговой)?\\s*(с)(?:лужбы)?\\s*(?:россии)?\\s*\\w*\\s*', \n",
    "    \n",
    "    # ОБЩЕСТВО С ОГРАНИЧЕННОЙ ОТВЕТСТВЕННОСТЬЮ \"ЛАГ1\" => ЛАГ1, ООО\n",
    "    r'(\\w)\\w{3,}|\\\"([^\\\"]+)\\\"',\n",
    "    \n",
    "    # Межрегиональное операционное УФК (КАЗНАЧЕЙСТВО РОССИИ) => Межрегиональное операционное УФК\n",
    "    r'^.+?(?=\\s*\\()',\n",
    "]       \n",
    "\n",
    "def extract_text(row):\n",
    "    \"\"\"\n",
    "    Get string with raw title, extract necessary text by patterns and returns formatted values\n",
    "    \"\"\"\n",
    "    matches = []\n",
    "\n",
    "    for pattern in patterns:\n",
    "        match = re.findall(pattern, row)\n",
    "        matches.append(match)\n",
    "    \n",
    "    return '{}, {}, {}'.format(matches[5][0][2], matches[5][0][1], matches[5][0][0]) if matches[5] else \\\n",
    "        '{} {}.'.format(matches[1][0][0].capitalize(), matches[1][0][1]) if matches[1] else \\\n",
    "        '{}, {}'.format(matches[0][0][1], matches[0][0][0]) if matches[0] else \\\n",
    "        '{} {}.{}., {}{}'.format(matches[2][0][2].capitalize(), matches[2][0][3], matches[2][0][4], matches[2][0][0], matches[2][0][1]) if matches[2] else \\\n",
    "        '{} {}.{}., {}'.format(matches[3][0][0].capitalize(), matches[3][0][1], matches[3][0][2], matches[3][0][3]) if matches[3] else \\\n",
    "        '{}{}{}'.format(matches[6][0][0].upper(),matches[6][0][1].upper(),matches[6][0][2]).upper() if matches[6] else \\\n",
    "        '{} {}.{}.'.format(matches[4][0][0].capitalize(), matches[4][0][1], matches[4][0][2]) if matches[4] else \\\n",
    "        '{}, {}'.format([mat[1] for mat in matches[7] if mat[1]][0],\n",
    "                        ''.join(map(str, [mat[0] for mat in matches[7] if\n",
    "                                          mat[0]]))) if '\"' in row else \\\n",
    "        '{}'.format(matches[8][0]) if matches[8] else \\\n",
    "        row\n",
    "\n",
    "# creating column \"Agent\"\n",
    "df['Agent'] = np.vectorize(extract_text)(df['Full_Name'])\n",
    "df['Name'] = df['Agent'].map(lambda x: x.lower())"
   ]
  },
  {
   "cell_type": "code",
   "execution_count": 95,
   "id": "1b3cf129",
   "metadata": {
    "ExecuteTime": {
     "end_time": "2024-04-29T09:03:08.649095Z",
     "start_time": "2024-04-29T09:03:08.629538Z"
    }
   },
   "outputs": [
    {
     "name": "stdout",
     "output_type": "stream",
     "text": [
      "Fixed string: Щебень гранитный\n"
     ]
    }
   ],
   "source": [
    "def fix_typo(original, target):\n",
    "    distance = editdistance.eval(original, target)\n",
    "    if distance <= 3:  # Пороговое значение для определения опечатки\n",
    "        return target\n",
    "    else:\n",
    "        return original\n",
    "\n",
    "original = \"Щебин ранитный\"\n",
    "target = \"Щебень гранитный\"\n",
    "fixed_string = fix_typo(original, target)\n",
    "print(\"Fixed string:\", fixed_string)"
   ]
  },
  {
   "cell_type": "code",
   "execution_count": 139,
   "id": "49438967",
   "metadata": {
    "ExecuteTime": {
     "end_time": "2024-04-29T13:57:39.936043Z",
     "start_time": "2024-04-29T13:57:39.921934Z"
    }
   },
   "outputs": [
    {
     "name": "stdout",
     "output_type": "stream",
     "text": [
      "Значение после слова 'Марка:': Цем I 42.5Н Кричев\n",
      "Значение между строкой с 'Марка:' и следующим номером: nan\n"
     ]
    }
   ],
   "source": [
    "import re\n",
    "import numpy as np\n",
    "\n",
    "text = \"\"\"\n",
    "1. Дата отгрузки: 28.04.24 \n",
    "2. Марка Цем I 42.5Н Кричев\n",
    "3. Количество: 40т.\n",
    "\"\"\"\n",
    "\n",
    "# Находим значение после слова \"Марка:\" без учета регистра\n",
    "marca_match = re.search(r'Марка\\s*(цемента)?\\s*(.*?)\\n', text, re.IGNORECASE)\n",
    "marca_value = marca_match.group(2)\n",
    "\n",
    "# Находим значение между строкой с \"Марка:\" и следующим номером пункта\n",
    "# Если нет следующего номера пункта, возвращаем np.NAN\n",
    "intermediate_match = re.search(r'Марка.*?\\n(.*?)\\n\\d', text, re.IGNORECASE | re.DOTALL)\n",
    "intermediate_value = intermediate_match.group(1) if intermediate_match else np.NAN\n",
    "\n",
    "print(\"Значение после слова 'Марка:':\", marca_value)\n",
    "print(\"Значение между строкой с 'Марка:' и следующим номером:\", intermediate_value)\n"
   ]
  },
  {
   "cell_type": "code",
   "execution_count": null,
   "id": "d31ef2b8",
   "metadata": {},
   "outputs": [],
   "source": []
  },
  {
   "cell_type": "code",
   "execution_count": null,
   "id": "410fc7db",
   "metadata": {},
   "outputs": [],
   "source": []
  },
  {
   "cell_type": "code",
   "execution_count": null,
   "id": "5e3dc031",
   "metadata": {},
   "outputs": [],
   "source": []
  },
  {
   "cell_type": "code",
   "execution_count": 64,
   "id": "2c06c702",
   "metadata": {
    "ExecuteTime": {
     "end_time": "2024-04-29T14:17:24.130913Z",
     "start_time": "2024-04-29T14:17:24.114196Z"
    }
   },
   "outputs": [],
   "source": [
    "pattern = r'\\d+\\..*'\n",
    "text = \"5. Надо полис\"\n",
    "\n",
    "match = re.match( r'\\d+\\..*', text)"
   ]
  },
  {
   "cell_type": "code",
   "execution_count": 65,
   "id": "ac9dea62",
   "metadata": {
    "ExecuteTime": {
     "end_time": "2024-04-29T14:17:24.474352Z",
     "start_time": "2024-04-29T14:17:24.464212Z"
    }
   },
   "outputs": [
    {
     "data": {
      "text/plain": [
       "'5. Надо полис'"
      ]
     },
     "execution_count": 65,
     "metadata": {},
     "output_type": "execute_result"
    }
   ],
   "source": [
    "match[0]"
   ]
  },
  {
   "cell_type": "code",
   "execution_count": 83,
   "id": "784292c6",
   "metadata": {
    "ExecuteTime": {
     "end_time": "2024-04-29T14:24:05.496263Z",
     "start_time": "2024-04-29T14:24:05.480264Z"
    }
   },
   "outputs": [
    {
     "data": {
      "text/plain": [
       "NoneType"
      ]
     },
     "execution_count": 83,
     "metadata": {},
     "output_type": "execute_result"
    }
   ],
   "source": [
    "type(re.match(r'^[^0-9.].*', \"5. Надо полис\"))"
   ]
  },
  {
   "cell_type": "code",
   "execution_count": 67,
   "id": "cc69eaba",
   "metadata": {
    "ExecuteTime": {
     "end_time": "2024-04-30T06:14:29.100704Z",
     "start_time": "2024-04-30T06:14:29.093392Z"
    }
   },
   "outputs": [
    {
     "name": "stdout",
     "output_type": "stream",
     "text": [
      "тю.\n",
      "\n"
     ]
    }
   ],
   "source": [
    "import re\n",
    "\n",
    "text=\"\"\"\n",
    "2. Марка: ЦЕМ I 42,5н БЦЗ Костюковичи \n",
    "Машина с пломбами и актуальными паспортами \n",
    "3. Количество: 40 тю.\n",
    "4. Продажа от: ООО \"Спарта\"\n",
    "\"\"\"\n",
    "\n",
    "# Ищем строку, содержащую \"Количество:\"\n",
    "match = re.search(r'(?i)кол(-|ичест)?во\\s*(:)?\\s*(\\d+)\\s*(\\D+)\\s*', text)\n",
    "# Если найдено соответствие, выводим символы после числа в этой строке\n",
    "if match:\n",
    "    print(match.group(4))\n"
   ]
  },
  {
   "cell_type": "code",
   "execution_count": 83,
   "id": "5ca1629f",
   "metadata": {
    "ExecuteTime": {
     "end_time": "2024-04-30T06:22:39.452571Z",
     "start_time": "2024-04-30T06:22:39.426572Z"
    }
   },
   "outputs": [
    {
     "name": "stdout",
     "output_type": "stream",
     "text": [
      "т\n",
      "\n"
     ]
    }
   ],
   "source": [
    "import re\n",
    "\n",
    "def find_unit(text):\n",
    "    # Находим значение после слова \"Количество/кол-во:\" без учета регистра    \n",
    "    unit_match = re.search(r'(?i)кол(-|ичест)?во\\s*(:)?\\s*\\d+\\s*(\\D+)\\s*', text)\n",
    "    unit = unit_match.group(3) if unit_match else None\n",
    "    \n",
    "    return unit\n",
    "\n",
    "appl = \"\"\"\n",
    "Юра Менеджер:\n",
    "1. Дата отгрузки:\n",
    "26.04                    \n",
    "2. От ООО Спарта\n",
    "3. Марка: Щебень гранитный 5-20(ЛСР)\n",
    "Обязательно актуальный паспорт!\n",
    "4. Покупатель ООО НВЛ ГРУП\n",
    "5. Бетас \n",
    "6.  Количество: 120т\n",
    "7. Машина: \n",
    "О327ВН790 МАN\n",
    "\"\"\"\n",
    "\n",
    "print(find_unit(appl))\n"
   ]
  },
  {
   "cell_type": "code",
   "execution_count": 150,
   "id": "8071a1e0",
   "metadata": {
    "ExecuteTime": {
     "end_time": "2024-04-30T13:03:32.120423Z",
     "start_time": "2024-04-30T13:03:32.100406Z"
    }
   },
   "outputs": [
    {
     "name": "stdout",
     "output_type": "stream",
     "text": [
      "['О327ВН790 МАN', 'О039ОУ790 МАN', 'х194ВА797 КАМАЗ', 'В683СН790 МАN', 'К702ОС797 Куряев']\n"
     ]
    }
   ],
   "source": [
    "import re\n",
    "\n",
    "text=\"\"\"\n",
    "4. Покупатель ООО НВЛ ГРУП\n",
    "5. Бетас \n",
    "6.  Количество 120т\n",
    "7. Машина: \n",
    "О327ВН790 МАN\n",
    "О039ОУ790 МАN,\n",
    "х194ВА797 КАМАЗ\n",
    "В683СН790 МАN\n",
    "К702ОС797 Куряев\n",
    "\"\"\"\n",
    "\n",
    "car_numbers = re.findall(r'(?i)[А-Я]{1}\\d{3}[А-Я]{2}\\d{3}\\s*\\w*', text)\n",
    "\n",
    "print(car_numbers)\n"
   ]
  },
  {
   "cell_type": "code",
   "execution_count": 170,
   "id": "1f7ba27c",
   "metadata": {
    "ExecuteTime": {
     "end_time": "2024-04-30T13:24:24.396258Z",
     "start_time": "2024-04-30T13:24:24.367254Z"
    }
   },
   "outputs": [
    {
     "name": "stdout",
     "output_type": "stream",
     "text": [
      "        col_name\n",
      "0  abc, def, ghi\n"
     ]
    }
   ],
   "source": [
    "import pandas as pd\n",
    "\n",
    "# Создание DataFrame с вашим списком в одной из ячеек\n",
    "df = pd.DataFrame({'col_name': [['abc', 'def', 'ghi']]})\n",
    "\n",
    "# Применение метода str.join() к списку в ячейке и замена значения ячейки\n",
    "df['col_name'] = df['col_name'].apply(lambda x: ', '.join(x))\n",
    "\n",
    "# Вывод измененного DataFrame\n",
    "print(df)\n"
   ]
  },
  {
   "cell_type": "code",
   "execution_count": 171,
   "id": "0ea1019e",
   "metadata": {
    "ExecuteTime": {
     "end_time": "2024-04-30T13:25:23.267719Z",
     "start_time": "2024-04-30T13:25:23.257482Z"
    }
   },
   "outputs": [],
   "source": [
    "df = pd.DataFrame({'col_name': [['abc', 'def', 'ghi']]})"
   ]
  },
  {
   "cell_type": "code",
   "execution_count": 173,
   "id": "72ec4969",
   "metadata": {
    "ExecuteTime": {
     "end_time": "2024-04-30T13:25:29.121522Z",
     "start_time": "2024-04-30T13:25:29.099529Z"
    }
   },
   "outputs": [
    {
     "data": {
      "text/html": [
       "<div>\n",
       "<style scoped>\n",
       "    .dataframe tbody tr th:only-of-type {\n",
       "        vertical-align: middle;\n",
       "    }\n",
       "\n",
       "    .dataframe tbody tr th {\n",
       "        vertical-align: top;\n",
       "    }\n",
       "\n",
       "    .dataframe thead th {\n",
       "        text-align: right;\n",
       "    }\n",
       "</style>\n",
       "<table border=\"1\" class=\"dataframe\">\n",
       "  <thead>\n",
       "    <tr style=\"text-align: right;\">\n",
       "      <th></th>\n",
       "      <th>col_name</th>\n",
       "    </tr>\n",
       "  </thead>\n",
       "  <tbody>\n",
       "    <tr>\n",
       "      <th>0</th>\n",
       "      <td>[abc, def, ghi]</td>\n",
       "    </tr>\n",
       "  </tbody>\n",
       "</table>\n",
       "</div>"
      ],
      "text/plain": [
       "          col_name\n",
       "0  [abc, def, ghi]"
      ]
     },
     "execution_count": 173,
     "metadata": {},
     "output_type": "execute_result"
    }
   ],
   "source": [
    "df"
   ]
  },
  {
   "cell_type": "code",
   "execution_count": 121,
   "id": "b0a77b82",
   "metadata": {
    "ExecuteTime": {
     "end_time": "2024-04-30T16:07:58.955112Z",
     "start_time": "2024-04-30T16:07:58.938083Z"
    }
   },
   "outputs": [
    {
     "name": "stdout",
     "output_type": "stream",
     "text": [
      "Покупатель ООО НВЛ ГРУП\n"
     ]
    }
   ],
   "source": [
    "import re\n",
    "\n",
    "text = \"5. Покупатель ООО НВЛ ГРУП\\n5\"\n",
    "\n",
    "result = re.search(r'\\d+\\.\\s(.+?)\\n', text, re.DOTALL)\n",
    "if result:\n",
    "    extracted_text = result.group(1)\n",
    "    print(extracted_text)\n"
   ]
  },
  {
   "cell_type": "code",
   "execution_count": 485,
   "id": "977f4a05",
   "metadata": {
    "ExecuteTime": {
     "end_time": "2024-05-01T09:41:50.613060Z",
     "start_time": "2024-05-01T09:41:50.588993Z"
    }
   },
   "outputs": [
    {
     "name": "stdout",
     "output_type": "stream",
     "text": [
      "\n",
      "\n",
      "8 (903) 007-00-86\n",
      "+79232208000\n",
      "+74959242828\n",
      "9\n",
      "\n",
      "\n",
      "\n",
      "+7 968 558-83-13\n",
      "\n",
      "8 (965) 709-90-77\n",
      "9\n",
      "\n",
      "\n",
      "\n",
      "+79777728931\n",
      "10\n",
      "\n",
      "\n",
      "\n",
      "8-925-758-01-54\n",
      "8\n",
      "\n",
      "\n",
      "+7 910 404-06-14\n",
      "10\n",
      "\n"
     ]
    }
   ],
   "source": [
    "import re\n",
    "\n",
    "text = \"\"\"\n",
    "Контакт диспетчера: 8 (903) 007-00-86\\n+79232208000\\n+74959242828\\n9. Контакт диспетчера: +7 968 558-83-13 \\nКонтактный телефон 8 (965) 709-90-77 Игорь.\\n9. Контакт диспетчера: +79777728931\\n10. Контакты для связи 8-925-758-01-54\\n8. Голицыно\\n+7 910 404-06-14\\n10.\n",
    "\"\"\"\n",
    "\n",
    "# Регулярное выражение для поиска номеров телефонов\n",
    "phone_regex = re.compile(r'(\\+?[\\d\\s()-]+)')\n",
    "\n",
    "# Извлечение номеров телефонов из текста\n",
    "phone_numbers = phone_regex.findall(text)\n",
    "\n",
    "# Печать найденных номеров телефонов\n",
    "for number in phone_numbers:\n",
    "    print(number.strip())\n"
   ]
  },
  {
   "cell_type": "code",
   "execution_count": 494,
   "id": "7ad59e23",
   "metadata": {
    "ExecuteTime": {
     "end_time": "2024-05-01T10:24:20.433998Z",
     "start_time": "2024-05-01T10:24:20.413279Z"
    }
   },
   "outputs": [
    {
     "name": "stdout",
     "output_type": "stream",
     "text": [
      "+79777728931\n"
     ]
    }
   ],
   "source": [
    "import re\n",
    "\n",
    "# Исходная строка\n",
    "phone_number_with_extra = '+79777728931\\n10'\n",
    "\n",
    "# Шаблон для поиска номера телефона\n",
    "pattern = r'\\+\\d+'\n",
    "\n",
    "# Поиск совпадений с помощью регулярного выражения\n",
    "matches = re.findall(pattern, phone_number_with_extra)\n",
    "\n",
    "# Если найдено совпадение, берем первое (и, возможно, единственное)\n",
    "if matches:\n",
    "    phone_number = matches[0]\n",
    "    print(phone_number)\n",
    "else:\n",
    "    print(\"Номер телефона не найден\")\n"
   ]
  },
  {
   "cell_type": "code",
   "execution_count": 558,
   "id": "99921036",
   "metadata": {
    "ExecuteTime": {
     "end_time": "2024-05-02T04:15:30.053721Z",
     "start_time": "2024-05-02T04:15:30.024604Z"
    }
   },
   "outputs": [
    {
     "name": "stdout",
     "output_type": "stream",
     "text": [
      "Приёмка круглосуточно\n"
     ]
    }
   ],
   "source": [
    "import re\n",
    "\n",
    "def find_time_availability(text):\n",
    "    # Паттерн для поиска времени приёмки\n",
    "    time_pattern = r'Время приёмки:\\s*([\\d:.]+)'\n",
    "    # Паттерн для поиска круглосуточной приёмки\n",
    "    round_the_clock_pattern = r'Приёмка круглосуточно'\n",
    "\n",
    "    # Поиск времени приёмки\n",
    "    time_match = re.search(time_pattern, text)\n",
    "    if time_match:\n",
    "        time_availability = time_match.group(1)\n",
    "        return f\"Время приёмки: {time_availability}\"\n",
    "    \n",
    "    # Поиск круглосуточной приёмки\n",
    "    round_the_clock_match = re.search(round_the_clock_pattern, text)\n",
    "    if round_the_clock_match:\n",
    "        return \"Приёмка круглосуточно\"\n",
    "\n",
    "    return \"Информация не найдена\"\n",
    "\n",
    "# Пример текста\n",
    "text = \"\"\"\n",
    "Юра Менеджер:\n",
    "Заявка на самовывоз\n",
    "1. Дата отгрузки 28.04.2023 \n",
    "8. Время приёмки: с 9.00 до 20.00\n",
    "2. Марка ЦЕМ I 42.5н Беларусь   \n",
    "3. Количество 40 тонн \n",
    "9. Приёмка круглосуточно\n",
    "\"\"\"\n",
    "\n",
    "# Поиск и вывод информации\n",
    "print(find_time_availability(text))\n",
    "8. Время приёмки: с 9.00 до 20.00"
   ]
  },
  {
   "cell_type": "code",
   "execution_count": 609,
   "id": "cbd38a7b",
   "metadata": {
    "ExecuteTime": {
     "end_time": "2024-05-02T04:39:31.245773Z",
     "start_time": "2024-05-02T04:39:31.221398Z"
    }
   },
   "outputs": [
    {
     "name": "stdout",
     "output_type": "stream",
     "text": [
      "Время приёмки круглосуточно\n"
     ]
    }
   ],
   "source": [
    "pattern = r'(?i)(время)?\\s*приёмк(и|а)(?::)?\\s*(.*)'\n",
    "# text = '\\nЮра Менеджер:\\nЗаявка на самовывоз\\n1. Дата отгрузки 28.04.2023 \\n8. Время приёмки: с 9.00 до 20.00\\n2. Марка ЦЕМ I 42.5н Беларусь   \\n3. Количество 40 тонн \\n9. Приёмка круглосуточно\\n'\n",
    "text = \"\"\"\n",
    "Контактный телефон 8 (965) 709-90-77 Игорь.\n",
    "Приёмка круглосуточно\n",
    "Заявка на самовывоз\n",
    "\"\"\"\n",
    "match = re.search(pattern, text)\n",
    "\n",
    "if match:\n",
    "    print(\"Время приёмки\", match.group(3).strip())\n",
    "else:\n",
    "    print(\"Время приёмки не найдено.\")"
   ]
  },
  {
   "cell_type": "code",
   "execution_count": 593,
   "id": "71633964",
   "metadata": {
    "ExecuteTime": {
     "end_time": "2024-05-02T04:33:48.128067Z",
     "start_time": "2024-05-02T04:33:48.111397Z"
    }
   },
   "outputs": [],
   "source": [
    "text = \"\"\"\n",
    "Контактный телефон 8 (965) 709-90-77 Игорь.\n",
    "Время приёмки круглосуточно\n",
    "Заявка на самовывоз\n",
    "\"\"\""
   ]
  },
  {
   "cell_type": "code",
   "execution_count": 594,
   "id": "d00aa81e",
   "metadata": {
    "ExecuteTime": {
     "end_time": "2024-05-02T04:33:52.811480Z",
     "start_time": "2024-05-02T04:33:52.792522Z"
    }
   },
   "outputs": [
    {
     "data": {
      "text/plain": [
       "'\\nКонтактный телефон 8 (965) 709-90-77 Игорь.\\nВремя приёмки круглосуточно\\nЗаявка на самовывоз\\n'"
      ]
     },
     "execution_count": 594,
     "metadata": {},
     "output_type": "execute_result"
    }
   ],
   "source": [
    "text"
   ]
  },
  {
   "cell_type": "code",
   "execution_count": 754,
   "id": "b3b60c4b",
   "metadata": {
    "ExecuteTime": {
     "end_time": "2024-05-02T06:16:22.990004Z",
     "start_time": "2024-05-02T06:16:22.957484Z"
    }
   },
   "outputs": [
    {
     "name": "stdout",
     "output_type": "stream",
     "text": [
      "Дебет хуем по столу оплата 250 вдллаовлдо\n"
     ]
    }
   ],
   "source": [
    "pattern = r'(?i)(.*)\\s*(?::)?\\s*(оплата)\\s*(?::)?\\s*(.*)'\n",
    "# text = '\\nЮра Менеджер:\\nЗаявка на самовывоз\\n1. Дата отгрузки 28.04.2023 \\n8. Время приёмки: с 9.00 до 20.00\\n2. Марка ЦЕМ I 42.5н Беларусь   \\n3. Количество 40 тонн \\n9. Приёмка круглосуточно\\n'\n",
    "text = \"\"\"\n",
    "Контактный телефон 8 (965) 709-90-77 Игорь.\n",
    "Приёмка круглосуточно\n",
    "Заявка на самовывоз\n",
    "Дебет хуем по столу оплата 250 вдллаовлдо\n",
    "влоадло тдлтвьв ыво\n",
    "\"\"\"\n",
    "match = re.search(pattern, text)\n",
    "\n",
    "if match:\n",
    "    print('{} {} {}'.format(match.group(1).strip(), match.group(2).strip(), match.group(3).strip()))\n",
    "else:\n",
    "    print(\"Время приёмки не найдено.\")"
   ]
  },
  {
   "cell_type": "code",
   "execution_count": 764,
   "id": "3b2dd891",
   "metadata": {
    "ExecuteTime": {
     "end_time": "2024-05-02T08:24:07.962493Z",
     "start_time": "2024-05-02T08:24:07.888950Z"
    }
   },
   "outputs": [
    {
     "name": "stdout",
     "output_type": "stream",
     "text": [
      "      Имя  Возраст\n",
      "1    Анна       25\n",
      "2   Борис       30\n",
      "3  Виктор       35\n",
      "4  Галина       40\n"
     ]
    }
   ],
   "source": [
    "import pandas as pd\n",
    "\n",
    "# Создаем пример данных\n",
    "data = {'Имя': ['Анна', 'Борис', 'Виктор', 'Галина'],\n",
    "        'Возраст': [25, 30, 35, 40]}\n",
    "df = pd.DataFrame(data)\n",
    "\n",
    "# Изменяем индекс, начиная с 1\n",
    "df.index = df.index + 1\n",
    "\n",
    "print(df)\n"
   ]
  },
  {
   "cell_type": "code",
   "execution_count": null,
   "id": "d5bf61f1",
   "metadata": {},
   "outputs": [],
   "source": []
  }
 ],
 "metadata": {
  "kernelspec": {
   "display_name": "Python 3 (ipykernel)",
   "language": "python",
   "name": "python3"
  },
  "language_info": {
   "codemirror_mode": {
    "name": "ipython",
    "version": 3
   },
   "file_extension": ".py",
   "mimetype": "text/x-python",
   "name": "python",
   "nbconvert_exporter": "python",
   "pygments_lexer": "ipython3",
   "version": "3.9.12"
  }
 },
 "nbformat": 4,
 "nbformat_minor": 5
}
