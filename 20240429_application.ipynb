{
 "cells": [
  {
   "cell_type": "code",
   "execution_count": 1,
   "id": "0f6a85e6",
   "metadata": {
    "ExecuteTime": {
     "end_time": "2024-04-29T14:04:33.641626Z",
     "start_time": "2024-04-29T14:04:31.749672Z"
    }
   },
   "outputs": [],
   "source": [
    "import pandas as pd\n",
    "import numpy as np\n",
    "import openpyxl as ox\n",
    "import re\n",
    "import editdistance\n",
    "from datetime import datetime"
   ]
  },
  {
   "cell_type": "code",
   "execution_count": 2,
   "id": "616d8023",
   "metadata": {
    "ExecuteTime": {
     "end_time": "2024-04-29T14:04:34.373520Z",
     "start_time": "2024-04-29T14:04:34.321542Z"
    }
   },
   "outputs": [],
   "source": [
    "df = pd.read_excel(\"columns.xlsx\")"
   ]
  },
  {
   "cell_type": "code",
   "execution_count": 3,
   "id": "68fc2d96",
   "metadata": {
    "ExecuteTime": {
     "end_time": "2024-04-29T14:04:34.809775Z",
     "start_time": "2024-04-29T14:04:34.775763Z"
    }
   },
   "outputs": [
    {
     "data": {
      "text/html": [
       "<div>\n",
       "<style scoped>\n",
       "    .dataframe tbody tr th:only-of-type {\n",
       "        vertical-align: middle;\n",
       "    }\n",
       "\n",
       "    .dataframe tbody tr th {\n",
       "        vertical-align: top;\n",
       "    }\n",
       "\n",
       "    .dataframe thead th {\n",
       "        text-align: right;\n",
       "    }\n",
       "</style>\n",
       "<table border=\"1\" class=\"dataframe\">\n",
       "  <thead>\n",
       "    <tr style=\"text-align: right;\">\n",
       "      <th></th>\n",
       "      <th>Менеджер</th>\n",
       "      <th>Вид доставки</th>\n",
       "      <th>Дата</th>\n",
       "      <th>Товар</th>\n",
       "      <th>Производитель/Завод</th>\n",
       "      <th>Примечание к Товару</th>\n",
       "      <th>Кол-во</th>\n",
       "      <th>Ед.изм.</th>\n",
       "      <th>Машина</th>\n",
       "      <th>Водитель</th>\n",
       "      <th>Продавец</th>\n",
       "      <th>Откуда</th>\n",
       "      <th>Покупатель</th>\n",
       "      <th>Грузополучатель</th>\n",
       "      <th>Адрес грузополучателя (юрид)</th>\n",
       "      <th>Адрес пункта разгрузки</th>\n",
       "      <th>Контакт гп</th>\n",
       "      <th>Примечание Иное</th>\n",
       "    </tr>\n",
       "  </thead>\n",
       "  <tbody>\n",
       "  </tbody>\n",
       "</table>\n",
       "</div>"
      ],
      "text/plain": [
       "Empty DataFrame\n",
       "Columns: [Менеджер, Вид доставки, Дата, Товар, Производитель/Завод, Примечание к Товару, Кол-во, Ед.изм., Машина, Водитель, Продавец, Откуда, Покупатель, Грузополучатель , Адрес грузополучателя (юрид), Адрес пункта разгрузки, Контакт гп, Примечание Иное]\n",
       "Index: []"
      ]
     },
     "execution_count": 3,
     "metadata": {},
     "output_type": "execute_result"
    }
   ],
   "source": [
    "df"
   ]
  },
  {
   "cell_type": "code",
   "execution_count": 4,
   "id": "adee0e96",
   "metadata": {
    "ExecuteTime": {
     "end_time": "2024-04-29T14:04:35.542117Z",
     "start_time": "2024-04-29T14:04:35.514932Z"
    }
   },
   "outputs": [],
   "source": [
    "managers = pd.read_excel(\"dictionary.xlsx\", sheet_name=\"managers\")\n",
    "products = pd.read_excel(\"dictionary.xlsx\", sheet_name=\"products\")"
   ]
  },
  {
   "cell_type": "code",
   "execution_count": null,
   "id": "7313277d",
   "metadata": {},
   "outputs": [],
   "source": []
  },
  {
   "cell_type": "code",
   "execution_count": 125,
   "id": "b89e7f23",
   "metadata": {
    "ExecuteTime": {
     "end_time": "2024-04-29T09:27:56.136692Z",
     "start_time": "2024-04-29T09:27:56.118311Z"
    }
   },
   "outputs": [],
   "source": [
    "# managers = pd.DataFrame({'login': ['ИГО', 'Юра Менеджер', 'Алексей Мельхер'],\n",
    "#                         'manager': ['Игорь Хабаров', 'Юрий', 'Алексей Мельхер']})"
   ]
  },
  {
   "cell_type": "code",
   "execution_count": 126,
   "id": "f44a154d",
   "metadata": {
    "ExecuteTime": {
     "end_time": "2024-04-29T09:27:56.414099Z",
     "start_time": "2024-04-29T09:27:56.404527Z"
    }
   },
   "outputs": [],
   "source": [
    "# products = pd.Series(data=['ЦЕМ I 42.5Н БЦК','Щебень гранитный 5-20 (ЛСР)','ЦЕМ I 42.5Н Костюковичи',\n",
    "#                                'ЦЕМ I 42.5Н БЦЗ Костюковичи', 'ЦЕМ I 42.5Н', 'ПЕСКОГРУНТ'], name='product')"
   ]
  },
  {
   "cell_type": "code",
   "execution_count": 104,
   "id": "40c8cc2d",
   "metadata": {
    "ExecuteTime": {
     "end_time": "2024-04-29T09:11:39.636824Z",
     "start_time": "2024-04-29T09:11:39.571250Z"
    }
   },
   "outputs": [],
   "source": [
    "with pd.ExcelWriter(\"dictionary.xlsx\") as writer:\n",
    "    managers.to_excel(writer, sheet_name=\"managers\", index=False)\n",
    "    products.to_excel(writer, sheet_name=\"products\", index=False)"
   ]
  },
  {
   "cell_type": "code",
   "execution_count": 57,
   "id": "68ca3a70",
   "metadata": {
    "ExecuteTime": {
     "end_time": "2024-04-29T08:22:19.572223Z",
     "start_time": "2024-04-29T08:22:19.553827Z"
    }
   },
   "outputs": [
    {
     "data": {
      "text/plain": [
       "0                ЦЕМI42.5НБЦК\n",
       "1    Щебеньгранитный5-20(ЛСР)\n",
       "2        ЦЕМI42.5НКостюковичи\n",
       "3     ЦЕМI42.5НБЦЗКостюковичи\n",
       "4                   ЦЕМI42.5Н\n",
       "5                  ПЕСКОГРУНТ\n",
       "dtype: object"
      ]
     },
     "execution_count": 57,
     "metadata": {},
     "output_type": "execute_result"
    }
   ],
   "source": [
    "products.str.replace(' ', '')"
   ]
  },
  {
   "cell_type": "markdown",
   "id": "3046eb4f",
   "metadata": {},
   "source": [
    "## Text"
   ]
  },
  {
   "cell_type": "code",
   "execution_count": 130,
   "id": "e539e43d",
   "metadata": {
    "ExecuteTime": {
     "end_time": "2024-04-29T14:38:13.746730Z",
     "start_time": "2024-04-29T14:38:13.734704Z"
    }
   },
   "outputs": [],
   "source": [
    "appl = \"\"\"\n",
    "Юра Менеджер:\n",
    "1. Дата отгрузки:\n",
    "26.04.2024                     \n",
    "2. От ООО Спарта\n",
    "3. Марка: Щебень гранитный 5-20(ЛСР)\n",
    "Обязательно актуальный паспорт!\n",
    "4. Покупатель ООО НВЛ ГРУП\n",
    "5. Бетас \n",
    "6.  Количество 120т\n",
    "7. Машина: \n",
    "О327ВН790 МАN\n",
    "\"\"\""
   ]
  },
  {
   "cell_type": "code",
   "execution_count": 131,
   "id": "3cee55cb",
   "metadata": {
    "ExecuteTime": {
     "end_time": "2024-04-29T14:38:15.549300Z",
     "start_time": "2024-04-29T14:38:15.538273Z"
    }
   },
   "outputs": [],
   "source": [
    "# Используем регулярное выражение для поиска даты в формате dd.mm.yyyy\n",
    "date_pattern = r'\\b\\d{2}\\.\\d{2}(?:\\.\\d{2}(?:\\d{2})?)?\\b'\n",
    "\n",
    "# Находим все совпадения с помощью метода findall\n",
    "dates = re.findall(date_pattern, appl)"
   ]
  },
  {
   "cell_type": "markdown",
   "id": "2809b960",
   "metadata": {},
   "source": [
    "## Check"
   ]
  },
  {
   "cell_type": "code",
   "execution_count": 132,
   "id": "8b01e40e",
   "metadata": {
    "ExecuteTime": {
     "end_time": "2024-04-29T14:38:17.912910Z",
     "start_time": "2024-04-29T14:38:17.890990Z"
    }
   },
   "outputs": [
    {
     "data": {
      "text/plain": [
       "['26.04.2024']"
      ]
     },
     "execution_count": 132,
     "metadata": {},
     "output_type": "execute_result"
    }
   ],
   "source": [
    "dates"
   ]
  },
  {
   "cell_type": "code",
   "execution_count": 133,
   "id": "b64df0b8",
   "metadata": {
    "ExecuteTime": {
     "end_time": "2024-04-29T14:38:19.467736Z",
     "start_time": "2024-04-29T14:38:19.456457Z"
    }
   },
   "outputs": [],
   "source": [
    "# функция для форматирования даты в установленный формат\n",
    "def convert_to_full_year(date_str):\n",
    "    current_year = datetime.now().year\n",
    "    parts = date_str.split('.')\n",
    "    \n",
    "    # Пытаемся интерпретировать дату\n",
    "    try:\n",
    "        # Если в строке только две части, добавляем текущий год\n",
    "        if len(parts) == 2:\n",
    "            date_str += f\".{current_year}\"\n",
    "        \n",
    "        # Пробуем преобразовать строку в дату\n",
    "        datetime_obj = datetime.strptime(date_str, '%d.%m.%Y')\n",
    "    except ValueError:\n",
    "        # Если возникает ошибка, попробуем считать год в формате yy\n",
    "        try:\n",
    "            datetime_obj = datetime.strptime(date_str, '%d.%m.%y')\n",
    "        except ValueError:\n",
    "            # Если и это не сработает, возможно, формат даты неизвестен\n",
    "            raise ValueError(\"Неподдерживаемый формат даты\")\n",
    "    \n",
    "    # Возвращаем дату в формате dd.mm.yyyy\n",
    "    return datetime_obj.strftime('%d.%m.%Y')"
   ]
  },
  {
   "cell_type": "code",
   "execution_count": 134,
   "id": "391e029d",
   "metadata": {
    "ExecuteTime": {
     "end_time": "2024-04-29T14:38:20.379725Z",
     "start_time": "2024-04-29T14:38:20.374726Z"
    }
   },
   "outputs": [],
   "source": [
    "# конвертируем ПОКА ЧТО для одной даты\n",
    "convert_date = convert_to_full_year(dates[0])"
   ]
  },
  {
   "cell_type": "markdown",
   "id": "5247cd10",
   "metadata": {},
   "source": [
    "## Check"
   ]
  },
  {
   "cell_type": "code",
   "execution_count": 135,
   "id": "9f313ea3",
   "metadata": {
    "ExecuteTime": {
     "end_time": "2024-04-29T14:38:22.433635Z",
     "start_time": "2024-04-29T14:38:22.420114Z"
    }
   },
   "outputs": [
    {
     "data": {
      "text/plain": [
       "'26.04.2024'"
      ]
     },
     "execution_count": 135,
     "metadata": {},
     "output_type": "execute_result"
    }
   ],
   "source": [
    "convert_date"
   ]
  },
  {
   "cell_type": "code",
   "execution_count": 136,
   "id": "6d1df367",
   "metadata": {
    "ExecuteTime": {
     "end_time": "2024-04-29T14:38:24.280287Z",
     "start_time": "2024-04-29T14:38:24.272890Z"
    }
   },
   "outputs": [],
   "source": [
    "def find_manager(text, managers_df):\n",
    "    # Проходим по каждому логину менеджера\n",
    "    for index, row in managers_df.iterrows():\n",
    "        login = row['login']\n",
    "        manager = row['manager']\n",
    "        \n",
    "        # Проверяем совпадение по колонке 'login'\n",
    "        if login.lower().replace(' ', '') in text.lower().replace(' ', ''):\n",
    "            return manager\n",
    "    return np.NAN\n",
    "\n"
   ]
  },
  {
   "cell_type": "code",
   "execution_count": 137,
   "id": "3cdcec83",
   "metadata": {
    "ExecuteTime": {
     "end_time": "2024-04-29T14:38:24.997115Z",
     "start_time": "2024-04-29T14:38:24.977245Z"
    }
   },
   "outputs": [],
   "source": [
    "manager_found = find_manager(appl, managers)"
   ]
  },
  {
   "cell_type": "code",
   "execution_count": 138,
   "id": "9f17e112",
   "metadata": {
    "ExecuteTime": {
     "end_time": "2024-04-29T14:38:25.643377Z",
     "start_time": "2024-04-29T14:38:25.631196Z"
    }
   },
   "outputs": [
    {
     "data": {
      "text/plain": [
       "'Юрий'"
      ]
     },
     "execution_count": 138,
     "metadata": {},
     "output_type": "execute_result"
    }
   ],
   "source": [
    "manager_found"
   ]
  },
  {
   "cell_type": "code",
   "execution_count": 139,
   "id": "4d6b9366",
   "metadata": {
    "ExecuteTime": {
     "end_time": "2024-04-29T14:38:28.191587Z",
     "start_time": "2024-04-29T14:38:28.172539Z"
    }
   },
   "outputs": [],
   "source": [
    "def delivery_type(text):\n",
    "    if \"самовывоз\" in text.lower():\n",
    "        return \"самовывоз\"\n",
    "    return \"доставка\""
   ]
  },
  {
   "cell_type": "code",
   "execution_count": 140,
   "id": "2f093c5b",
   "metadata": {
    "ExecuteTime": {
     "end_time": "2024-04-29T14:38:29.401826Z",
     "start_time": "2024-04-29T14:38:29.390395Z"
    }
   },
   "outputs": [],
   "source": [
    "delivery_found = delivery_type(appl)"
   ]
  },
  {
   "cell_type": "code",
   "execution_count": 141,
   "id": "63c9f490",
   "metadata": {
    "ExecuteTime": {
     "end_time": "2024-04-29T14:38:37.037187Z",
     "start_time": "2024-04-29T14:38:37.025452Z"
    }
   },
   "outputs": [
    {
     "data": {
      "text/plain": [
       "'доставка'"
      ]
     },
     "execution_count": 141,
     "metadata": {},
     "output_type": "execute_result"
    }
   ],
   "source": [
    "delivery_found"
   ]
  },
  {
   "cell_type": "code",
   "execution_count": 69,
   "id": "a125eea4",
   "metadata": {
    "ExecuteTime": {
     "end_time": "2024-04-29T13:26:22.879340Z",
     "start_time": "2024-04-29T13:26:22.866444Z"
    }
   },
   "outputs": [],
   "source": [
    "# def find_product(text, product_df):\n",
    "#     \"\"\"\n",
    "#     Функция для поиска товара по тексту и датафрейму с видами товара.\n",
    "\n",
    "#     Аргументы:\n",
    "#     text (str): Текст для поиска товара.\n",
    "#     product_df (pandas.DataFrame): Датафрейм с колонками 'login' и 'manager',\n",
    "#                                      содержащий информацию о менеджерах.\n",
    "\n",
    "#     Возвращает:\n",
    "#     str: Имя менеджера, если совпадение найдено, иначе сообщение о том, что совпадений не найдено.\n",
    "#     \"\"\"\n",
    "#     # Проходим по каждому логину менеджера\n",
    "#     for index, row in product_df.iterrows():\n",
    "#         product = row['product']\n",
    "#         # Проверяем совпадение по колонке 'login'\n",
    "#         if product.lower().replace(' ', '') in text.lower().replace(' ', ''):\n",
    "#             return product\n",
    "#     # Если совпадений не найдено\n",
    "#     return np.NAN"
   ]
  },
  {
   "cell_type": "code",
   "execution_count": 70,
   "id": "f52a40be",
   "metadata": {
    "ExecuteTime": {
     "end_time": "2024-04-29T13:26:23.236100Z",
     "start_time": "2024-04-29T13:26:23.228041Z"
    }
   },
   "outputs": [],
   "source": [
    "# product_found = find_product(appl, products)"
   ]
  },
  {
   "cell_type": "code",
   "execution_count": 71,
   "id": "f28bc893",
   "metadata": {
    "ExecuteTime": {
     "end_time": "2024-04-29T13:26:23.568798Z",
     "start_time": "2024-04-29T13:26:23.554637Z"
    }
   },
   "outputs": [
    {
     "data": {
      "text/plain": [
       "'ЦЕМ I 42.5Н'"
      ]
     },
     "execution_count": 71,
     "metadata": {},
     "output_type": "execute_result"
    }
   ],
   "source": [
    "# product_found"
   ]
  },
  {
   "cell_type": "code",
   "execution_count": 142,
   "id": "19026552",
   "metadata": {
    "ExecuteTime": {
     "end_time": "2024-04-29T14:38:59.504022Z",
     "start_time": "2024-04-29T14:38:59.496024Z"
    }
   },
   "outputs": [],
   "source": [
    "def find_product(text):\n",
    "    # Находим значение после слова \"Марка:\" без учета регистра\n",
    "    marca_match = re.search(r'Марка(:)?\\s*(цемента)?\\s*(.*?)\\n', text, re.IGNORECASE)\n",
    "    marca_value = marca_match.group(3)\n",
    "\n",
    "    return marca_value\n",
    "    \n",
    "def find_product_notice(text):    \n",
    "    # Находим значение между строкой с \"Марка:\" и следующим номером пункта\n",
    "    # Если нет следующего номера пункта, возвращаем np.NAN\n",
    "  \n",
    "    intermediate_match = re.search(r'Марка.*?\\n(.*?)\\n\\d', text, re.IGNORECASE | re.DOTALL)\n",
    "    intermediate_value = intermediate_match.group(1) if intermediate_match else np.NAN\n",
    "    \n",
    "    if re.match(r'^[^0-9.].*', intermediate_value):\n",
    "        return intermediate_value\n",
    "    else:\n",
    "        np.NAN"
   ]
  },
  {
   "cell_type": "code",
   "execution_count": 146,
   "id": "3f53fb22",
   "metadata": {
    "ExecuteTime": {
     "end_time": "2024-04-29T14:39:39.536555Z",
     "start_time": "2024-04-29T14:39:39.524555Z"
    }
   },
   "outputs": [],
   "source": [
    "product_found = find_product(appl)"
   ]
  },
  {
   "cell_type": "code",
   "execution_count": 145,
   "id": "13105fa7",
   "metadata": {
    "ExecuteTime": {
     "end_time": "2024-04-29T14:39:36.710243Z",
     "start_time": "2024-04-29T14:39:36.700972Z"
    }
   },
   "outputs": [],
   "source": [
    "product_notice_found = find_product_notice(appl)"
   ]
  },
  {
   "cell_type": "code",
   "execution_count": null,
   "id": "6afcd468",
   "metadata": {},
   "outputs": [],
   "source": []
  },
  {
   "cell_type": "code",
   "execution_count": null,
   "id": "596956f0",
   "metadata": {},
   "outputs": [],
   "source": []
  },
  {
   "cell_type": "code",
   "execution_count": 147,
   "id": "758773f0",
   "metadata": {
    "ExecuteTime": {
     "end_time": "2024-04-29T14:39:59.127718Z",
     "start_time": "2024-04-29T14:39:59.109451Z"
    }
   },
   "outputs": [],
   "source": [
    "# Создаем новый DataFrame с одной строкой, содержащей только дату\n",
    "new_row_df = pd.DataFrame({'Менеджер': [manager_found], \n",
    "                           'Вид доставки': [delivery_found], \n",
    "                           'Дата': [convert_date], \n",
    "                           'Товар': [product_found], \n",
    "#                            'Производитель/Завод',\n",
    "                           'Примечание к Товару': [product_notice_found], \n",
    "#                            'Кол-во', \n",
    "#                            'Ед.изм.', \n",
    "#                            'Машина', \n",
    "#                            'Водитель', \n",
    "#                            'Продавец', \n",
    "#                            'Откуда', \n",
    "#                            'Покупатель', \n",
    "#                            'Грузополучатель ',\n",
    "#                            'Адрес грузополучателя (юрид)', \n",
    "#                            'Адрес пункта разгрузки', \n",
    "#                            'Контакт гп',\n",
    "#                            'Примечание Иное',\n",
    "                          })\n",
    "\n",
    "# Объединяем исходный DataFrame с новым DataFrame\n",
    "df = pd.concat([df, new_row_df], ignore_index=True)"
   ]
  },
  {
   "cell_type": "code",
   "execution_count": 148,
   "id": "9c1ab873",
   "metadata": {
    "ExecuteTime": {
     "end_time": "2024-04-29T14:39:59.951570Z",
     "start_time": "2024-04-29T14:39:59.924588Z"
    }
   },
   "outputs": [
    {
     "data": {
      "text/html": [
       "<div>\n",
       "<style scoped>\n",
       "    .dataframe tbody tr th:only-of-type {\n",
       "        vertical-align: middle;\n",
       "    }\n",
       "\n",
       "    .dataframe tbody tr th {\n",
       "        vertical-align: top;\n",
       "    }\n",
       "\n",
       "    .dataframe thead th {\n",
       "        text-align: right;\n",
       "    }\n",
       "</style>\n",
       "<table border=\"1\" class=\"dataframe\">\n",
       "  <thead>\n",
       "    <tr style=\"text-align: right;\">\n",
       "      <th></th>\n",
       "      <th>Менеджер</th>\n",
       "      <th>Вид доставки</th>\n",
       "      <th>Дата</th>\n",
       "      <th>Товар</th>\n",
       "      <th>Производитель/Завод</th>\n",
       "      <th>Примечание к Товару</th>\n",
       "      <th>Кол-во</th>\n",
       "      <th>Ед.изм.</th>\n",
       "      <th>Машина</th>\n",
       "      <th>Водитель</th>\n",
       "      <th>Продавец</th>\n",
       "      <th>Откуда</th>\n",
       "      <th>Покупатель</th>\n",
       "      <th>Грузополучатель</th>\n",
       "      <th>Адрес грузополучателя (юрид)</th>\n",
       "      <th>Адрес пункта разгрузки</th>\n",
       "      <th>Контакт гп</th>\n",
       "      <th>Примечание Иное</th>\n",
       "    </tr>\n",
       "  </thead>\n",
       "  <tbody>\n",
       "    <tr>\n",
       "      <th>0</th>\n",
       "      <td>Юрий</td>\n",
       "      <td>доставка</td>\n",
       "      <td>26.04.2024</td>\n",
       "      <td>Щебень гранитный 5-20(ЛСР)</td>\n",
       "      <td>NaN</td>\n",
       "      <td>Обязательно актуальный паспорт!</td>\n",
       "      <td>NaN</td>\n",
       "      <td>NaN</td>\n",
       "      <td>NaN</td>\n",
       "      <td>NaN</td>\n",
       "      <td>NaN</td>\n",
       "      <td>NaN</td>\n",
       "      <td>NaN</td>\n",
       "      <td>NaN</td>\n",
       "      <td>NaN</td>\n",
       "      <td>NaN</td>\n",
       "      <td>NaN</td>\n",
       "      <td>NaN</td>\n",
       "    </tr>\n",
       "  </tbody>\n",
       "</table>\n",
       "</div>"
      ],
      "text/plain": [
       "  Менеджер Вид доставки        Дата                       Товар  \\\n",
       "0     Юрий     доставка  26.04.2024  Щебень гранитный 5-20(ЛСР)   \n",
       "\n",
       "  Производитель/Завод              Примечание к Товару Кол-во Ед.изм. Машина  \\\n",
       "0                 NaN  Обязательно актуальный паспорт!    NaN     NaN    NaN   \n",
       "\n",
       "  Водитель Продавец Откуда Покупатель Грузополучатель   \\\n",
       "0      NaN      NaN    NaN        NaN              NaN   \n",
       "\n",
       "  Адрес грузополучателя (юрид) Адрес пункта разгрузки Контакт гп  \\\n",
       "0                          NaN                    NaN        NaN   \n",
       "\n",
       "  Примечание Иное  \n",
       "0             NaN  "
      ]
     },
     "execution_count": 148,
     "metadata": {},
     "output_type": "execute_result"
    }
   ],
   "source": [
    "df"
   ]
  },
  {
   "cell_type": "code",
   "execution_count": 33,
   "id": "9307b9f8",
   "metadata": {
    "ExecuteTime": {
     "end_time": "2024-04-29T12:40:25.077372Z",
     "start_time": "2024-04-29T12:40:25.053805Z"
    }
   },
   "outputs": [],
   "source": [
    "df.drop(df.index, inplace=True)"
   ]
  },
  {
   "cell_type": "code",
   "execution_count": null,
   "id": "7885b13e",
   "metadata": {},
   "outputs": [],
   "source": []
  },
  {
   "cell_type": "code",
   "execution_count": null,
   "id": "8a23897c",
   "metadata": {},
   "outputs": [],
   "source": []
  },
  {
   "cell_type": "code",
   "execution_count": null,
   "id": "7fc06616",
   "metadata": {},
   "outputs": [],
   "source": []
  },
  {
   "cell_type": "code",
   "execution_count": null,
   "id": "aefb6d50",
   "metadata": {},
   "outputs": [],
   "source": []
  },
  {
   "cell_type": "code",
   "execution_count": null,
   "id": "42ed8312",
   "metadata": {},
   "outputs": [],
   "source": [
    "patterns = [\n",
    "    # ПАО ГТС => ГТС, ПАО\n",
    "    r'^(?i)(П?АО|ООО|ГУП)(?:\\s+|\\s*\")([^\"]+)\"?',\n",
    "    \n",
    "    # ПАО Р-БАНК//ИЗМАЙЛОВ ВАЛЕРИЙ МИХАЙЛОВИЧ//РОССИЯ,МОСКВА Г Р/С в ПАО Р-БАНК г Москва => Измайлов В.\n",
    "    r'//([\\w-]+)\\s+(\\w)\\w*\\s+(?:\\w)\\w*//',\n",
    "    \n",
    "    # Индивидуальный ПРЕДПРИНИМАТЕЛЬ Логинов Андрей Николаевич => Логинов А., ИП\n",
    "    r'^(?i)(и)(?:ндивидуальный)?\\s*(п)(?:редприниматель)?\\s*(\\w+)\\s+(\\w)\\w*\\s*(\\w)?\\w*',\n",
    "    \n",
    "    # Никишкина Лидия Алексеевна (ИП) => Нокошина Л., ИП\n",
    "    r'^([\\w-]+)\\s+(\\w)\\w*\\s*(\\w)?\\w*\\s*\\((ИП)\\)$',\n",
    "    \n",
    "    # ВОРОНОВ ИЛЬЯ АНДРЕЕВИЧ => Воронов И.\n",
    "    r'([\\w-]+)\\s+(\\w)\\w*\\s+(\\w)\\w*$',\n",
    "    \n",
    "    # ООО \"ЧОП \"ОХРАННЫЕ СИСТЕМЫ\" => ОХРАННЫЕ СИСТЕМЫ, ЧОП, ООО\n",
    "    r'^([\\w-]{2,3})\\s+\"?(.*)\\s+\"(.*)\"',\n",
    "    \n",
    "    #  contains \"ФНС\": \n",
    "    r'\\w*\\s*(?i)(?:и?)\\s*(ф)(?:едеральной)?\\s*(н)(?:алоговой)?\\s*(с)(?:лужбы)?\\s*(?:россии)?\\s*\\w*\\s*', \n",
    "    \n",
    "    # ОБЩЕСТВО С ОГРАНИЧЕННОЙ ОТВЕТСТВЕННОСТЬЮ \"ЛАГ1\" => ЛАГ1, ООО\n",
    "    r'(\\w)\\w{3,}|\\\"([^\\\"]+)\\\"',\n",
    "    \n",
    "    # Межрегиональное операционное УФК (КАЗНАЧЕЙСТВО РОССИИ) => Межрегиональное операционное УФК\n",
    "    r'^.+?(?=\\s*\\()',\n",
    "]       \n",
    "\n",
    "def extract_text(row):\n",
    "    \"\"\"\n",
    "    Get string with raw title, extract necessary text by patterns and returns formatted values\n",
    "    \"\"\"\n",
    "    matches = []\n",
    "\n",
    "    for pattern in patterns:\n",
    "        match = re.findall(pattern, row)\n",
    "        matches.append(match)\n",
    "    \n",
    "    return '{}, {}, {}'.format(matches[5][0][2], matches[5][0][1], matches[5][0][0]) if matches[5] else \\\n",
    "        '{} {}.'.format(matches[1][0][0].capitalize(), matches[1][0][1]) if matches[1] else \\\n",
    "        '{}, {}'.format(matches[0][0][1], matches[0][0][0]) if matches[0] else \\\n",
    "        '{} {}.{}., {}{}'.format(matches[2][0][2].capitalize(), matches[2][0][3], matches[2][0][4], matches[2][0][0], matches[2][0][1]) if matches[2] else \\\n",
    "        '{} {}.{}., {}'.format(matches[3][0][0].capitalize(), matches[3][0][1], matches[3][0][2], matches[3][0][3]) if matches[3] else \\\n",
    "        '{}{}{}'.format(matches[6][0][0].upper(),matches[6][0][1].upper(),matches[6][0][2]).upper() if matches[6] else \\\n",
    "        '{} {}.{}.'.format(matches[4][0][0].capitalize(), matches[4][0][1], matches[4][0][2]) if matches[4] else \\\n",
    "        '{}, {}'.format([mat[1] for mat in matches[7] if mat[1]][0],\n",
    "                        ''.join(map(str, [mat[0] for mat in matches[7] if\n",
    "                                          mat[0]]))) if '\"' in row else \\\n",
    "        '{}'.format(matches[8][0]) if matches[8] else \\\n",
    "        row\n",
    "\n",
    "# creating column \"Agent\"\n",
    "df['Agent'] = np.vectorize(extract_text)(df['Full_Name'])\n",
    "df['Name'] = df['Agent'].map(lambda x: x.lower())"
   ]
  },
  {
   "cell_type": "code",
   "execution_count": 95,
   "id": "1b3cf129",
   "metadata": {
    "ExecuteTime": {
     "end_time": "2024-04-29T09:03:08.649095Z",
     "start_time": "2024-04-29T09:03:08.629538Z"
    }
   },
   "outputs": [
    {
     "name": "stdout",
     "output_type": "stream",
     "text": [
      "Fixed string: Щебень гранитный\n"
     ]
    }
   ],
   "source": [
    "def fix_typo(original, target):\n",
    "    distance = editdistance.eval(original, target)\n",
    "    if distance <= 3:  # Пороговое значение для определения опечатки\n",
    "        return target\n",
    "    else:\n",
    "        return original\n",
    "\n",
    "original = \"Щебин ранитный\"\n",
    "target = \"Щебень гранитный\"\n",
    "fixed_string = fix_typo(original, target)\n",
    "print(\"Fixed string:\", fixed_string)"
   ]
  },
  {
   "cell_type": "code",
   "execution_count": 57,
   "id": "040a92c3",
   "metadata": {
    "ExecuteTime": {
     "end_time": "2024-04-29T13:16:58.069487Z",
     "start_time": "2024-04-29T13:16:58.052819Z"
    }
   },
   "outputs": [
    {
     "name": "stdout",
     "output_type": "stream",
     "text": [
      "Менеджер не найден\n"
     ]
    }
   ],
   "source": [
    "import pandas as pd\n",
    "import editdistance\n",
    "\n",
    "# Заданный датафрейм managers\n",
    "managers = pd.DataFrame({'login': ['ИГО', 'Юра Менеджер', 'Алексей Мельхер'],\n",
    "                        'manager': ['Игорь Хабаров', 'Юрий', 'Алексей Мельхер']})\n",
    "\n",
    "# Текст для проверки\n",
    "text = \"Алексей Мельхер: Заявка на доставку 1.Дата отгрузки 28.04 2. Марка: ЦЕМ I 42.5Н Костюковичи 3. Количество: 70 тонн\"\n",
    "\n",
    "# Функция для нахождения наилучшего соответствия менеджера в тексте с учетом опечаток\n",
    "def find_best_match(text, managers):\n",
    "    best_match = None\n",
    "    min_distance = float('inf')  # Начальное значение для минимального расстояния\n",
    "    \n",
    "    for manager in managers['login']:\n",
    "        distance = editdistance.eval(text.lower(), manager.lower())  # Сравниваем строки, приведенные к нижнему регистру\n",
    "        if distance < min_distance:\n",
    "            min_distance = distance\n",
    "            best_match = manager\n",
    "    \n",
    "    if min_distance <= 2:  # Пороговое значение для определения опечаток\n",
    "        return managers[managers['login'] == best_match]['manager'].iloc[0]\n",
    "    else:\n",
    "        return None\n",
    "\n",
    "# Находим наилучшее соответствие менеджера в тексте\n",
    "best_manager = find_best_match(text, managers)\n",
    "if best_manager:\n",
    "    print(\"Лучший соответствующий менеджер:\", best_manager)\n",
    "else:\n",
    "    print(\"Менеджер не найден\")\n"
   ]
  },
  {
   "cell_type": "code",
   "execution_count": 139,
   "id": "49438967",
   "metadata": {
    "ExecuteTime": {
     "end_time": "2024-04-29T13:57:39.936043Z",
     "start_time": "2024-04-29T13:57:39.921934Z"
    }
   },
   "outputs": [
    {
     "name": "stdout",
     "output_type": "stream",
     "text": [
      "Значение после слова 'Марка:': Цем I 42.5Н Кричев\n",
      "Значение между строкой с 'Марка:' и следующим номером: nan\n"
     ]
    }
   ],
   "source": [
    "import re\n",
    "import numpy as np\n",
    "\n",
    "text = \"\"\"\n",
    "1. Дата отгрузки: 28.04.24 \n",
    "2. Марка Цем I 42.5Н Кричев\n",
    "3. Количество: 40т.\n",
    "\"\"\"\n",
    "\n",
    "# Находим значение после слова \"Марка:\" без учета регистра\n",
    "marca_match = re.search(r'Марка\\s*(цемента)?\\s*(.*?)\\n', text, re.IGNORECASE)\n",
    "marca_value = marca_match.group(2)\n",
    "\n",
    "# Находим значение между строкой с \"Марка:\" и следующим номером пункта\n",
    "# Если нет следующего номера пункта, возвращаем np.NAN\n",
    "intermediate_match = re.search(r'Марка.*?\\n(.*?)\\n\\d', text, re.IGNORECASE | re.DOTALL)\n",
    "intermediate_value = intermediate_match.group(1) if intermediate_match else np.NAN\n",
    "\n",
    "print(\"Значение после слова 'Марка:':\", marca_value)\n",
    "print(\"Значение между строкой с 'Марка:' и следующим номером:\", intermediate_value)\n"
   ]
  },
  {
   "cell_type": "code",
   "execution_count": 157,
   "id": "ad7e8d64",
   "metadata": {
    "ExecuteTime": {
     "end_time": "2024-04-29T14:04:03.752075Z",
     "start_time": "2024-04-29T14:04:03.740147Z"
    }
   },
   "outputs": [
    {
     "name": "stdout",
     "output_type": "stream",
     "text": [
      "Значение после слова 'Марка:': Цем I 42.5Н Кричев\n",
      "Значение между строкой с 'Марка:' и следующим номером: nan\n"
     ]
    }
   ],
   "source": [
    "import re\n",
    "import numpy as np\n",
    "\n",
    "text = \"\"\"\n",
    "1. Дата отгрузки: 28.04.24 \n",
    "2. Марка Цем I 42.5Н Кричев\n",
    "3. Количество: 40т.\n",
    "\"\"\"\n",
    "\n",
    "# Находим значение после слова \"Марка:\" без учета регистра\n",
    "marca_match = re.search(r'Марка\\s*(цемента)?\\s*(.*?)\\n', text, re.IGNORECASE)\n",
    "marca_value = marca_match.group(2)\n",
    "\n",
    "# Находим значение между строкой с \"Марка:\" и следующим номером пункта\n",
    "# Если нет следующего номера пункта, возвращаем np.NAN\n",
    "intermediate_match = re.search(r'Марка.*?\\n(.*?)\\n\\d', text, re.IGNORECASE | re.DOTALL)\n",
    "intermediate_value = intermediate_match.group(1) if intermediate_match else np.NAN\n",
    "\n",
    "print(\"Значение после слова 'Марка:':\", marca_value)\n",
    "print(\"Значение между строкой с 'Марка:' и следующим номером:\", intermediate_value)\n"
   ]
  },
  {
   "cell_type": "code",
   "execution_count": 64,
   "id": "2c06c702",
   "metadata": {
    "ExecuteTime": {
     "end_time": "2024-04-29T14:17:24.130913Z",
     "start_time": "2024-04-29T14:17:24.114196Z"
    }
   },
   "outputs": [],
   "source": [
    "pattern = r'\\d+\\..*'\n",
    "text = \"5. Надо полис\"\n",
    "\n",
    "match = re.match( r'\\d+\\..*', text)"
   ]
  },
  {
   "cell_type": "code",
   "execution_count": 65,
   "id": "ac9dea62",
   "metadata": {
    "ExecuteTime": {
     "end_time": "2024-04-29T14:17:24.474352Z",
     "start_time": "2024-04-29T14:17:24.464212Z"
    }
   },
   "outputs": [
    {
     "data": {
      "text/plain": [
       "'5. Надо полис'"
      ]
     },
     "execution_count": 65,
     "metadata": {},
     "output_type": "execute_result"
    }
   ],
   "source": [
    "match[0]"
   ]
  },
  {
   "cell_type": "code",
   "execution_count": 83,
   "id": "784292c6",
   "metadata": {
    "ExecuteTime": {
     "end_time": "2024-04-29T14:24:05.496263Z",
     "start_time": "2024-04-29T14:24:05.480264Z"
    }
   },
   "outputs": [
    {
     "data": {
      "text/plain": [
       "NoneType"
      ]
     },
     "execution_count": 83,
     "metadata": {},
     "output_type": "execute_result"
    }
   ],
   "source": [
    "type(re.match(r'^[^0-9.].*', \"5. Надо полис\"))"
   ]
  },
  {
   "cell_type": "code",
   "execution_count": null,
   "id": "cc69eaba",
   "metadata": {},
   "outputs": [],
   "source": []
  }
 ],
 "metadata": {
  "kernelspec": {
   "display_name": "Python 3 (ipykernel)",
   "language": "python",
   "name": "python3"
  },
  "language_info": {
   "codemirror_mode": {
    "name": "ipython",
    "version": 3
   },
   "file_extension": ".py",
   "mimetype": "text/x-python",
   "name": "python",
   "nbconvert_exporter": "python",
   "pygments_lexer": "ipython3",
   "version": "3.9.12"
  }
 },
 "nbformat": 4,
 "nbformat_minor": 5
}
